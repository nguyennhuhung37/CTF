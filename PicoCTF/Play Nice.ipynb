{
 "cells": [
  {
   "cell_type": "code",
   "execution_count": null,
   "metadata": {},
   "outputs": [],
   "source": [
    "#!/usr/bin/python3 -u\n",
    "import signal\n",
    "\n",
    "SQUARE_SIZE = 6\n",
    "\n",
    "\n",
    "def generate_square(alphabet):\n",
    "\tassert len(alphabet) == pow(SQUARE_SIZE, 2)\n",
    "\tmatrix = []\n",
    "\tfor i, letter in enumerate(alphabet):\n",
    "\t\tif i % SQUARE_SIZE == 0:\n",
    "\t\t\trow = []\n",
    "\t\trow.append(letter)\n",
    "\t\tif i % SQUARE_SIZE == (SQUARE_SIZE - 1):\n",
    "\t\t\tmatrix.append(row)\n",
    "\treturn matrix\n",
    "\n",
    "def get_index(letter, matrix):\n",
    "\tfor row in range(SQUARE_SIZE):\n",
    "\t\tfor col in range(SQUARE_SIZE):\n",
    "\t\t\tif matrix[row][col] == letter:\n",
    "\t\t\t\treturn (row, col)\n",
    "\tprint(\"letter not found in matrix.\")\n",
    "\texit()\n",
    "\n",
    "def encrypt_pair(pair, matrix):\n",
    "\tp1 = get_index(pair[0], matrix)\n",
    "\tp2 = get_index(pair[1], matrix)\n",
    "\n",
    "\tif p1[0] == p2[0]:\n",
    "\t\treturn matrix[p1[0]][(p1[1] + 1)  % SQUARE_SIZE] + matrix[p2[0]][(p2[1] + 1)  % SQUARE_SIZE]\n",
    "\telif p1[1] == p2[1]:\n",
    "\t\treturn matrix[(p1[0] + 1)  % SQUARE_SIZE][p1[1]] + matrix[(p2[0] + 1)  % SQUARE_SIZE][p2[1]]\n",
    "\telse:\n",
    "\t\treturn matrix[p1[0]][p2[1]] + matrix[p2[0]][p1[1]]\n",
    "\n",
    "def encrypt_string(s, matrix):\n",
    "\tresult = \"\"\n",
    "\tif len(s) % 2 == 0:\n",
    "\t\tplain = s\n",
    "\telse:\n",
    "\t\tplain = s + \"meiktp6yh4wxruavj9no13fb8d027c5glzsq\"[0]\n",
    "\tfor i in range(0, len(plain), 2):\n",
    "\t\tresult += encrypt_pair(plain[i:i + 2], matrix)\n",
    "\treturn result\n",
    "\n",
    "alphabet = open(\"key\").read().rstrip()\n",
    "m = generate_square(alphabet)\n",
    "msg = open(\"msg\").read().rstrip()\n",
    "enc_msg = encrypt_string(msg, m)\n",
    "print(\"Here is the alphabet: {}\\nHere is the encrypted message: {}\".format(alphabet, enc_msg))\n",
    "signal.alarm(18)\n",
    "resp = input(\"What is the plaintext message? \").rstrip()\n",
    "if resp and resp == msg:\n",
    "\tprint(\"Congratulations! Here's the flag: {}\".format(open(\"flag\").read()))\n",
    "\n",
    "# https://en.wikipedia.org/wiki/Playfair_cipher\n"
   ]
  },
  {
   "cell_type": "code",
   "execution_count": 3,
   "metadata": {},
   "outputs": [],
   "source": [
    "def decrypt_pair(pair, matrix):\n",
    "\tp1 = get_index(pair[0], matrix)\n",
    "\tp2 = get_index(pair[1], matrix)\n",
    "\n",
    "\tif p1[0] == p2[0]:\n",
    "\t\treturn matrix[p1[0]][(p1[1] - 1)  % SQUARE_SIZE] + matrix[p2[0]][(p2[1] - 1)  % SQUARE_SIZE]\n",
    "\telif p1[1] == p2[1]:\n",
    "\t\treturn matrix[(p1[0] - 1)  % SQUARE_SIZE][p1[1]] + matrix[(p2[0] - 1)  % SQUARE_SIZE][p2[1]]\n",
    "\telse:\n",
    "\t\treturn matrix[p1[0]][p2[1]] + matrix[p2[0]][p1[1]]\n",
    "\t\n",
    "def decrypt_string(s, matrix):\n",
    "\tresult = \"\"\n",
    "\tif len(s) % 2 == 0:\n",
    "\t\tplain = s\n",
    "\telse:\n",
    "\t\tplain = s + \"meiktp6yh4wxruavj9no13fb8d027c5glzsq\"[0]\n",
    "\tfor i in range(0, len(plain), 2):\n",
    "\t\tresult += decrypt_pair(plain[i:i + 2], matrix)\n",
    "\treturn result"
   ]
  },
  {
   "cell_type": "code",
   "execution_count": 9,
   "metadata": {},
   "outputs": [
    {
     "name": "stdout",
     "output_type": "stream",
     "text": [
      "wd9bukbspdtj7skd3kl8d6oa3f03g0\n"
     ]
    }
   ],
   "source": [
    "alphabet = \"meiktp6yh4wxruavj9no13fb8d027c5glzsq\"\n",
    "m = generate_square(alphabet)\n",
    "enc = \"y7bcvefqecwfste224508y1ufb21ld\"\n",
    "print(decrypt_string(enc, m))"
   ]
  },
  {
   "cell_type": "code",
   "execution_count": 10,
   "metadata": {},
   "outputs": [],
   "source": [
    "flag = \"2e71b99fd3d07af3808f8dff2652ae0e\""
   ]
  }
 ],
 "metadata": {
  "kernelspec": {
   "display_name": "Python 3",
   "language": "python",
   "name": "python3"
  },
  "language_info": {
   "codemirror_mode": {
    "name": "ipython",
    "version": 3
   },
   "file_extension": ".py",
   "mimetype": "text/x-python",
   "name": "python",
   "nbconvert_exporter": "python",
   "pygments_lexer": "ipython3",
   "version": "3.11.9"
  }
 },
 "nbformat": 4,
 "nbformat_minor": 2
}
