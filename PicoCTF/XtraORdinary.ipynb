{
 "cells": [
  {
   "cell_type": "code",
   "execution_count": 4,
   "metadata": {},
   "outputs": [
    {
     "name": "stdout",
     "output_type": "stream",
     "text": [
      "(True, True, True, True, True): \tb'Elrmoq<T'\n",
      "(True, True, True, True, False): \tb\"'\\x1e\\x17\\x0c\\x04QU \"\n",
      "(True, True, True, False, True): \tb' \\x1a\\x17\\x1f\\n\\x07Y&'\n",
      "(True, True, True, False, False): \tb\"Bhr~a'0R\"\n",
      "(True, True, False, True, True): \tb'$\\x02\\x16M\\x16\\x1eIt'\n",
      "(True, True, False, True, False): \tb'Fps,}> \\x00'\n",
      "(True, True, False, False, True): \tb'Ats?sh,\\x06'\n",
      "(True, True, False, False, False): \tb'#\\x06\\x16^\\x18HEr'\n",
      "(True, False, True, True, True): \tb',\\x1fR\\x0c\\r\\x02S8'\n",
      "(True, False, True, True, False): \tb'Nm7mf\":L'\n",
      "(True, False, True, False, True): \tb'Ii7~ht6J'\n",
      "(True, False, True, False, False): \tb'+\\x1bR\\x1f\\x03T_>'\n",
      "(True, False, False, True, True): \tb'Mq6,tm&\\x18'\n",
      "(True, False, False, True, False): \tb'/\\x03SM\\x1fMOl'\n",
      "(True, False, False, False, True): \tb'(\\x07S^\\x11\\x1bCj'\n",
      "(True, False, False, False, False): \tb'Ju6?z;*\\x1e'\n",
      "(False, True, True, True, True): \tb'(\\x15R\\x08\\x01\\x12N-'\n",
      "(False, True, True, True, False): \tb\"Jg7ij2'Y\"\n",
      "(False, True, True, False, True): \tb'Mc7zdd+_'\n",
      "(False, True, True, False, False): \tb'/\\x11R\\x1b\\x0fDB+'\n",
      "(False, True, False, True, True): \tb'I{6(x};\\r'\n",
      "(False, True, False, True, False): \tb'+\\tSI\\x13]Ry'\n",
      "(False, True, False, False, True): \tb',\\rSZ\\x1d\\x0b^\\x7f'\n",
      "(False, True, False, False, False): \tb'N\\x7f6;v+7\\x0b'\n",
      "(False, False, True, True, True): \tb'Africa!A'\n",
      "(False, False, True, True, False): \tb'#\\x14\\x17\\x08\\x08AH5'\n",
      "(False, False, True, False, True): \tb'$\\x10\\x17\\x1b\\x06\\x17D3'\n",
      "(False, False, True, False, False): \tb'Fbrzm7-G'\n",
      "(False, False, False, True, True): \tb' \\x08\\x16I\\x1a\\x0eTa'\n",
      "(False, False, False, True, False): \tb'Bzs(q.=\\x15'\n",
      "(False, False, False, False, True): \tb'E~s;\\x7fx1\\x13'\n",
      "(False, False, False, False, False): \tb\"'\\x0c\\x16Z\\x14XXg\"\n"
     ]
    }
   ],
   "source": [
    "import itertools\n",
    "\n",
    "flag_hex = \"57657535570c1e1c612b3468106a18492140662d2f5967442a2960684d28017931617b1f3637\"\n",
    "flag = bytes.fromhex(flag_hex)\n",
    "\n",
    "def encrypt(ptxt, key):\n",
    "    ctxt = b''\n",
    "    for i in range(len(ptxt)):\n",
    "        a = ptxt[i]\n",
    "        b = key[i % len(key)]\n",
    "        ctxt += bytes([a ^ b])\n",
    "    return ctxt\n",
    "\n",
    "\n",
    "random_strs = [\n",
    "    b'my encryption method',\n",
    "    b'is absolutely impenetrable',\n",
    "    b'and you will never',\n",
    "    b'ever',\n",
    "    b'break it'\n",
    "]\n",
    "\n",
    "prefix = b\"picoCTF{\"\n",
    "\n",
    "def apply_encryption(ctxt, truth_table):\n",
    "    for i, to_xor in enumerate(truth_table):\n",
    "        if to_xor:\n",
    "            ctxt = encrypt(ctxt, random_strs[i])\n",
    "    return ctxt\n",
    "\n",
    "for p in itertools.product([True, False], repeat=len(random_strs)):\n",
    "    ctxt = apply_encryption(flag, p)\n",
    "    print(f\"{p}: \\t{encrypt(ctxt[:len(prefix)], prefix)}\")"
   ]
  },
  {
   "cell_type": "code",
   "execution_count": 2,
   "metadata": {},
   "outputs": [
    {
     "name": "stdout",
     "output_type": "stream",
     "text": [
      "b'picoCTF{w41t_s0_1_d1dnt_1nv3nt_x0r???}'\n"
     ]
    }
   ],
   "source": [
    "ctxt = apply_encryption(flag, (False, False, True, True, True))\n",
    "print(encrypt(ctxt, b\"Africa!\"))"
   ]
  }
 ],
 "metadata": {
  "kernelspec": {
   "display_name": "Python 3",
   "language": "python",
   "name": "python3"
  },
  "language_info": {
   "codemirror_mode": {
    "name": "ipython",
    "version": 3
   },
   "file_extension": ".py",
   "mimetype": "text/x-python",
   "name": "python",
   "nbconvert_exporter": "python",
   "pygments_lexer": "ipython3",
   "version": "3.11.9"
  }
 },
 "nbformat": 4,
 "nbformat_minor": 2
}
