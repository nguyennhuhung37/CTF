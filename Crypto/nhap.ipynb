{
 "cells": [
  {
   "cell_type": "code",
   "execution_count": 12,
   "metadata": {},
   "outputs": [],
   "source": [
    "from Crypto.Util.number import *"
   ]
  },
  {
   "cell_type": "code",
   "execution_count": 1,
   "metadata": {},
   "outputs": [
    {
     "name": "stdout",
     "output_type": "stream",
     "text": [
      "Initial key bytes (from known plaintext 'CTB{'): [104, 97, 114, 100]\n",
      "Decrypted Flag: CTB{kaU_EmwsJ_HC_iAAArc_tVz_DkV0Iq7W}\n"
     ]
    }
   ],
   "source": [
    "def xor_decrypt(encrypted_bytes, key):\n",
    "    decrypted = []\n",
    "    key_length = len(key)\n",
    "    for i in range(len(encrypted_bytes)):\n",
    "        decrypted_byte = encrypted_bytes[i] ^ key[i % key_length]\n",
    "        decrypted.append(decrypted_byte)\n",
    "    return bytes(decrypted)\n",
    "\n",
    "def main():\n",
    "    # Dữ liệu mã hóa từ encrypted_flag.txt\n",
    "    encrypted_hex = \"2b 35 30 1f 03 00 27 3b 2d 0c 05 17 22 3e 3a 27 37 08 33 25 29 13 11 3b 1c 37 08 3b 2c 0a 24 54 21 10 45 33 15\"\n",
    "    encrypted_bytes = bytes.fromhex(encrypted_hex)\n",
    "\n",
    "    # Phần known-plaintext: \"CTB{\"\n",
    "    known_plaintext = b\"CTB{\"\n",
    "\n",
    "    # Tìm chìa khóa từ known-plaintext\n",
    "    key = []\n",
    "    for i in range(len(known_plaintext)):\n",
    "        key_byte = encrypted_bytes[i] ^ known_plaintext[i]\n",
    "        key.append(key_byte)\n",
    "\n",
    "    print(f\"Initial key bytes (from known plaintext 'CTB{{'):\", key)\n",
    "\n",
    "    # Giả sử chìa khóa lặp lại theo chu kỳ len(key)\n",
    "    # Giờ, hãy sử dụng chìa khóa này để giải mã toàn bộ dữ liệu\n",
    "    decrypted_bytes = xor_decrypt(encrypted_bytes, key)\n",
    "    try:\n",
    "        decrypted_flag = decrypted_bytes.decode('utf-8')\n",
    "        print(\"Decrypted Flag:\", decrypted_flag)\n",
    "    except UnicodeDecodeError:\n",
    "        print(\"Giải mã không thành công. Có thể chìa khóa chưa chính xác hoặc độ dài chìa khóa cần thay đổi.\")\n",
    "\n",
    "    # Nếu chìa khóa không đúng, bạn có thể thử mở rộng chìa khóa bằng cách thêm các byte tiếp theo\n",
    "    # hoặc thử các phương pháp khác để xác định chìa khóa chính xác.\n",
    "\n",
    "if __name__ == \"__main__\":\n",
    "    main()\n"
   ]
  },
  {
   "cell_type": "code",
   "execution_count": 10,
   "metadata": {},
   "outputs": [
    {
     "name": "stdout",
     "output_type": "stream",
     "text": [
      "4636878989\n",
      "93089\n",
      "836623060\n",
      "256931246631782714357241556582441991993437399854161372646318659020994329843524306570818293602492485385337029697819837182169818816821461486018802894936801257629375428544752970630870631166355711254848465862207765051226282541748174535990314552471546936536330397892907207943448897073772015986097770443616540466471245438117157152783246654401668267323136450122287983612851171545784168132230208726238881861407976917850248110805724300421712827401063963117423718797887144760360749619552577176382615108244813\n"
     ]
    }
   ],
   "source": [
    "from Crypto.Util.number import *\n",
    "print(60413 * 76753)\n",
    "print(5051846941 // 54269)\n",
    "print(66346 * 12610)\n",
    "plaintext = 6357294171489311547190987615544575133581967886499484091352661406414044440475205342882841236357665973431462491355089413710392273380203038793241564304774271529108729717\n",
    "e = 3\n",
    "n = 2912946360932632255952112313622207878058545120814913854779912108362233325064667876776912624818220747852788102511633274261620189057628085977751341446084275404565109359325172678549936082823789758627806841987551754301354536987170415971810535469080272664571069902993675426565438192965049438362258317407580579776668519232585998279779606039127181757808747294820562625771747985836975450261517377351408743750453299414263220790650107983503705279730669089160055932167392894315851464657288598688101656964735789159854588030423614554805952089813314208754536917987606565721422582699767684400005432714166632055308212842470794875033\n",
    "print(pow(plaintext, e, n))"
   ]
  },
  {
   "cell_type": "code",
   "execution_count": 13,
   "metadata": {},
   "outputs": [],
   "source": [
    "from sympy import integer_nthroot\n",
    "ciphertext = 107524013451079348539944510756143604203925717262185033799328445011792760545528944993719783392542163428637172323512252624567111110666168664743115203791510985709942366609626436995887781674651272233566303814979677507101168587739375699009734588985482369702634499544891509228440194615376339573685285125730286623323\n",
    "e = 3\n",
    "n = 275669962915082139324193713851415228593432265600509211962947618705008461401323850809946309461076753301896060211652605901470687858202036008820924677978135194346526321260613535831240639443733366542463860741253943684796772951674943325560539472311413361423920867677420359707527380562970578987041129126165652994513597915485368460258543783474235201049479073344510563394397066230695030889163163698134997050735737775771693924014117089206155749085937842825461544864467792467902943981988545470695939872245783336831448862425728374658341395611221015279737995839274119362000681765397475864499395591807726900072615627032225581033\n",
    "for i in range(100000):\n",
    "    root, check = integer_nthroot(n*i+ciphertext, 3)\n",
    "    if check:\n",
    "        print(root)\n",
    "        break"
   ]
  },
  {
   "cell_type": "code",
   "execution_count": 15,
   "metadata": {},
   "outputs": [
    {
     "name": "stdout",
     "output_type": "stream",
     "text": [
      "1405046269503207469140791548403639533127416416214210694972085079171787580463776820425965898174272870486015739516125786182821637006600742140682552321645503743280670839819078749092730110549881891271317396450158021688253989767145578723458252769465545504142139663476747479225923933192421405464414574786272963741656223941750084051228611576708609346787101088759062724389874160693008783334605903142528824559223515203978707969795087506678894006628296743079886244349469131831225757926844843554897638786146036869572653204735650843186722732736888918789379054050122205253165705085538743651258400390580971043144644984654914856729\n",
      "14311663942709674867122208214901970650496788151239520971623411712977120527163003942343369341\n"
     ]
    }
   ],
   "source": [
    "q = 92092076805892533739724722602668675840671093008520241548191914215399824020372076186460768206814914423802230398410980218741906960527104568970225804374404612617736579286959865287226538692911376507934256844456333236362669879347073756238894784951597211105734179388300051579994253565459304743059533646753003894559\n",
    "p = 97846775312392801037224396977012615848433199640105786119757047098757998273009741128821931277074555731813289423891389911801250326299324018557072727051765547115514791337578758859803890173153277252326496062476389498019821358465433398338364421624871010292162533041884897182597065662521825095949253625730631876637\n",
    "e = 65537\n",
    "phi = (p-1) * (q-1)\n",
    "d = pow(e, -1, phi)\n",
    "print(d)\n",
    "p = 153143042272527868798412612417204434156935146874282990942386694020462861918068684561281763577034706600608387699148071015194725533394126069826857182428660427818277378724977554365910231524827258160904493774748749088477328204812171935987088715261127321911849092207070653272176072509933245978935455542420691737433\n",
    "ciphertext = 13433290949680532374013867441263154634705815037382789341947905025573905974395028146503162155477260989520870175638250366834087929309236841056522311567941474209163559687755762232926539910909326834168973560610986090744435081572047926364479629414399701920441091626046861493465214197526650146669009590360242375313096062285541413327190041808752295242278877995930751460977420696964385608409717277431821765402461515639686537904799084682553530460611519251872463837425068958992042166507373556839377045616866221238932332390930404993242351071392965945718308504231468783743378794612151028803489143522912976113314577732444166162766\n",
    "e = 65537\n",
    "n = 23952937352643527451379227516428377705004894508566304313177880191662177061878993798938496818120987817049538365206671401938265663712351239785237507341311858383628932183083145614696585411921662992078376103990806989257289472590902167457302888198293135333083734504191910953238278860923153746261500759411620299864395158783509535039259714359526738924736952759753503357614939203434092075676169179112452620687731670534906069845965633455748606649062394293289967059348143206600765820021392608270528856238306849191113241355842396325210132358046616312901337987464473799040762271876389031455051640937681745409057246190498795697239\n",
    "q = n // p\n",
    "d = pow(e, -1, (p-1) * (q-1))\n",
    "print(pow(ciphertext, d, n))"
   ]
  },
  {
   "cell_type": "code",
   "execution_count": 159,
   "metadata": {},
   "outputs": [
    {
     "name": "stdout",
     "output_type": "stream",
     "text": [
      "16777259\n",
      "[[4144959, 4144959, 4144959], [4144959, 4144959, 4144959], [4144959, 4144959, 4144959]]\n",
      "samples = [11144394, 16776215, 1555054, 3471308, 1510282, 12133261, 829684, 7548780, 13046208]\n"
     ]
    }
   ],
   "source": [
    "from Crypto.Util.number import bytes_to_long\n",
    "\n",
    "class RNG:\n",
    "    def __init__(self, seed):\n",
    "        self.p = self.next_prime(2**24)  # Số nguyên tố lớn nhất gần 2^24\n",
    "        print(self.p)  # In giá trị của p\n",
    "        self.M = self.init_matrix(seed)\n",
    "        print(self.M)\n",
    "        self.state = [ord(c) for c in \"Mvm\"]  # Chuyển \"Mvm\" thành danh sách các giá trị ASCII\n",
    "        self.gen = 2  # Giá trị hằng số sinh\n",
    "\n",
    "    def next_prime(self, n):\n",
    "        # Tìm số nguyên tố lớn hơn hoặc bằng n\n",
    "        while True:\n",
    "            if self.is_prime(n):\n",
    "                return n\n",
    "            n += 1\n",
    "\n",
    "    def is_prime(self, n):\n",
    "        # Kiểm tra số nguyên tố\n",
    "        if n < 2:\n",
    "            return False\n",
    "        for i in range(2, int(n**0.5) + 1):\n",
    "            if n % i == 0:\n",
    "                return False\n",
    "        return True\n",
    "\n",
    "    def init_matrix(self, seed):\n",
    "        # Khởi tạo ma trận 3x3 từ seed\n",
    "        elements = [bytes_to_long(seed[i:i+3]) for i in range(0, len(seed), 3)]\n",
    "        if len(elements) < 9:\n",
    "            elements += [0] * (9 - len(elements))  # Đệm nếu không đủ phần tử\n",
    "        return [elements[i:i+3] for i in range(0, 9, 3)]  # Chuyển thành ma trận 3x3\n",
    "\n",
    "    def matrix_vector_mult(self, matrix, vector):\n",
    "        # Nhân ma trận với vector, tính theo modulo p\n",
    "        result = [0] * len(vector)\n",
    "        for i in range(len(matrix)):\n",
    "            for j in range(len(vector)):\n",
    "                result[i] += matrix[i][j] * vector[j]\n",
    "                result[i] %= self.p\n",
    "        return result\n",
    "\n",
    "    def get_random_num(self):\n",
    "        # Nhân ma trận với vector\n",
    "        out = self.matrix_vector_mult(self.M, self.state)\n",
    "\n",
    "        # Cập nhật trạng thái vector\n",
    "        self.state = [pow(self.gen, x, self.p) for x in self.state]\n",
    "\n",
    "        # Tính tích vô hướng của out và state\n",
    "        random_num = sum(o * s for o, s in zip(out, self.state)) % self.p\n",
    "        return random_num\n",
    "\n",
    "flag = b\"MVM{???????????????????????????}\"\n",
    "seed = flag[4:-1]\n",
    "\n",
    "rng = RNG(seed)\n",
    "samples = []\n",
    "\n",
    "for i in range(9):\n",
    "    samples.append(rng.get_random_num())\n",
    "\n",
    "print(f\"{samples = }\")\n",
    "samples = [6192533, 82371, 86024, 4218430, 12259879, 16442850, 6736271, 7418630, 15483781]\n"
   ]
  },
  {
   "cell_type": "code",
   "execution_count": 146,
   "metadata": {},
   "outputs": [
    {
     "name": "stdout",
     "output_type": "stream",
     "text": [
      "5421860\n",
      "1772230\n",
      "7892987\n",
      "9638558\n",
      "172383\n",
      "7979144\n",
      "9652642\n",
      "3244377\n",
      "3423465\n",
      "\n",
      "12602992\n",
      "3795781\n",
      "14195994\n",
      "763782\n",
      "10770925\n",
      "14471762\n",
      "7120087\n",
      "15164489\n",
      "5436352\n",
      "\n",
      "81280\n",
      "13297582\n",
      "5188020\n",
      "12055128\n",
      "9176643\n",
      "6266445\n",
      "10876136\n",
      "6276973\n",
      "8359708\n",
      "\n",
      "304775\n",
      "1253539\n",
      "15046576\n",
      "10549195\n",
      "4338032\n",
      "11214501\n",
      "13807517\n",
      "3539208\n",
      "12909813\n",
      "\n",
      "13328106\n",
      "596369\n",
      "14295719\n",
      "5839735\n",
      "6352823\n",
      "1522833\n",
      "15609058\n",
      "2484827\n",
      "13077769\n",
      "\n",
      "13412753\n",
      "965895\n",
      "2457462\n",
      "8018079\n",
      "8456106\n",
      "2764409\n",
      "14179279\n",
      "12210542\n",
      "7214269\n",
      "\n",
      "16011651\n",
      "13995228\n",
      "11611561\n",
      "3289986\n",
      "1416773\n",
      "1606418\n",
      "5462611\n",
      "4583010\n",
      "13776348\n",
      "\n",
      "4002279\n",
      "2284000\n",
      "13576122\n",
      "12527367\n",
      "4581947\n",
      "6350058\n",
      "9741066\n",
      "12536728\n",
      "1904479\n",
      "\n",
      "11990063\n",
      "7725051\n",
      "4557349\n",
      "3919137\n",
      "7533705\n",
      "16551403\n",
      "2964158\n",
      "3316603\n",
      "16502661\n",
      "\n"
     ]
    }
   ],
   "source": [
    "p = 16777259\n",
    "s1 = [ord('M')]\n",
    "s2 = [ord('v')]\n",
    "s3 = [ord('m')]\n",
    "for i in range(9):\n",
    "    s1.append(pow(2, s1[-1], p))\n",
    "    s2.append(pow(2, s2[-1], p))\n",
    "    s3.append(pow(2, s3[-1], p))\n",
    "    print(s1[-2] * s1[-1] % p)\n",
    "    print(s2[-2] * s1[-1] % p)\n",
    "    print(s3[-2] * s1[-1] % p)\n",
    "    print(s1[-2] * s2[-1] % p)\n",
    "    print(s2[-2] * s2[-1] % p)\n",
    "    print(s3[-2] * s2[-1] % p)\n",
    "    print(s1[-2] * s3[-1] % p)\n",
    "    print(s2[-2] * s3[-1] % p)\n",
    "    print(s3[-2] * s3[-1] % p)\n",
    "    print()\n",
    "# print(s1, s2, s3)"
   ]
  },
  {
   "cell_type": "code",
   "execution_count": 163,
   "metadata": {},
   "outputs": [
    {
     "name": "stdout",
     "output_type": "stream",
     "text": [
      "MVM{l1n34r_fuNcT10n5_4r3_my_f4v}"
     ]
    }
   ],
   "source": [
    "from sympy import Matrix\n",
    "\n",
    "def solve_gfp_system(coefficients, results, p):\n",
    "    # Convert coefficients and results into matrices\n",
    "    A = Matrix(coefficients)\n",
    "    b = Matrix(results)\n",
    "\n",
    "    # Apply modulo p to all elements in matrices\n",
    "    A_mod = A.applyfunc(lambda x: x % p)\n",
    "    b_mod = b.applyfunc(lambda x: x % p)\n",
    "\n",
    "    # Solve the system of equations in GF(p)\n",
    "    solution = A_mod.inv_mod(p) * b_mod\n",
    "\n",
    "    # Convert solution to integers for readability\n",
    "    solution = solution.applyfunc(lambda x: int(x))\n",
    "    return solution.tolist()\n",
    "\n",
    "# Define the prime number p\n",
    "p = 16777259\n",
    "\n",
    "# Coefficients of the linear equations\n",
    "coefficients = [\n",
    "    [5421860, 1772230, 7892987, 9638558, 172383, 7979144, 9652642, 3244377, 3423465],\n",
    "    [12602992, 3795781, 14195994, 763782, 10770925, 14471762, 7120087, 15164489, 5436352],\n",
    "    [81280, 13297582, 5188020, 12055128, 9176643, 6266445, 10876136, 6276973, 8359708],\n",
    "    [304775, 1253539, 15046576, 10549195, 4338032, 11214501, 13807517, 3539208, 12909813],\n",
    "    [13328106, 596369, 14295719, 5839735, 6352823, 1522833, 15609058, 2484827, 13077769],\n",
    "    [13412753, 965895, 2457462, 8018079, 8456106, 2764409, 14179279, 12210542, 7214269],\n",
    "    [16011651, 13995228, 11611561, 3289986, 1416773, 1606418, 5462611, 4583010, 13776348],\n",
    "    [4002279, 2284000, 13576122, 12527367, 4581947, 6350058, 9741066, 12536728, 1904479],\n",
    "    [11990063, 7725051, 4557349, 3919137, 7533705, 16551403, 2964158, 3316603, 16502661]\n",
    "]\n",
    "\n",
    "# Results of the equations\n",
    "results = [6192533, 82371, 86024, 4218430, 12259879, 16442850, 6736271, 7418630, 15483781]\n",
    "\n",
    "# Solve the system\n",
    "solution = solve_gfp_system(coefficients, results, p)\n",
    "print('MVM{', end='')\n",
    "for row in solution:  # Duyệt qua từng hàng (danh sách con)\n",
    "    for num in row:  # Duyệt qua từng phần tử trong hàng\n",
    "        print(long_to_bytes(num % p).decode(), end='')  # Tính modulo và in ra kết quả\n",
    "print('}', end='')"
   ]
  },
  {
   "cell_type": "code",
   "execution_count": 112,
   "metadata": {},
   "outputs": [
    {
     "name": "stdout",
     "output_type": "stream",
     "text": [
      "2704\n"
     ]
    }
   ],
   "source": [
    "print(len(\"MMVMVMVVMMVMVMVVMVMVVMVVMMVMVVMVMMVMVVMVMMVMVVMVMMVMVVMVMMVMVVMVMMVMVVMVMMVMVVMVMMVMVVMVMMVMVVMVMMVMVVMVMMVVVVVMMMVMVMVVMMVVVVMMMVMVVVMVMMVVVVVMMMVMVVVMMMVMVMVVMMVMVMVVMMVMVMVVMMVMVMVVMMVMVMVVMMVMVMVVMMVMVMVVMMVMVMVVMMVMVMVVMMVMVVVMMMVMVVMVMMVMVVMVMMVMVVMVMMVMVVMVMMVMVVMVMMVMVVMVMMVMVVMVMMVMVVMVMMVMVVMVMMVMVVVMMMVMVVMVMVMVVMVVMMVMVVMVMMVVVVVMMMVMVMVVMMVMVMVVMMVMVMVVMMVMVMVVMMVMVMVVMMVVVVMMMVMVVVMVMMVVVVVMMMVMVVMVMMVMVVVMMMVMVMVVMVMVVMVVMMVMVVMVMMVMVVMVMMVMVVMVMMVMVVMVMMVMVVMVMMVVVVVMMMVMVMVVMMVVVVMMMVMVVVMVMMVVVVVMMMVMVMVVMMVMVVVMMMVMVMVVMMVMVMVVMMVMVMVVMMVMVMVVMMVMVMVVMMVMVMVVMMVMVMVVMMVMVMVVMMVMVMVVMMVMVVVMMMVMVVMVMMVMVVMVMMVMVVMVMMVMVVMVMMVMVVMVMMVMVVMVMMVMVVMVMMVMVVMVMMVMVVMVMMVMVVVMMMVMVVMVMVMVVMVVMMVMVVMVMMVMVVMVMMVMVVMVMMVMVVMVMMVVVVVMMMVMVMVVMMVMVMVVMMVMVMVVMMVMVMVVMMVMVMVVMMVVVVMMMVMVVVMVMMVVVVVMMMVMVVVMMMVMVMVVMVMVVMVVMMVMVVMVMMVMVVMVMMVMVVMVMMVVVVVMMMVMVMVVMMVMVMVVMMVVVVMMMVMVVVMVMMVVVVVMMMVMVMVVMMVMVMVVMMVMVVVMMMVVVVVMMMVMVVMVMVMVVMVVMMVMVVMVMMVMVVMVMMVMVVMVMMVVVVVMMMVMVMVVMMVVVVMMMVMVVVMVMMVVVVVMMMVMVVMVMMVMVVMVMMVMVVMVMMVMVVVMMMVMVVMVMMVMVVMVMVMVVMVVMMVMVVMVMMVVVVVMMMVMVMVVMMVMVMVVMMVMVMVVMMVMVMVVMMVVVVMMMVMVVVMVMMVVVVVMMMVMVMVVMMVMVVVMMMVMVMVVMMVMVMVVMMVMVMVVMMVMVMVVMMVMVMVVMMVMVMVVMMVMVMVVMMVMVMVVMMVMVVVMMMVMVMVVMMVMVMVVMMVMVMVVMMVMVMVVMMVMVMVVMMVMVVVMMVMVVMVVMMVMVVMVMMVMVVMVMMVVVVVMMMVMVMVVMMVMVMVVMMVMVMVVMMVMVMVVMMVMVMVVMMVMVMVVMMVMVMVVMMVMVMVVMMVMVMVVMMVVVVMMMVMVVVMVMMVVVVVMMMVMVVVMMVMVVMVVMMVMVVMVMMVMVVMVMMVMVVMVMMVVVVVMMMVMVMVVMMVMVMVVMMVMVMVVMMVMVMVVMMVMVMVVMMVVVVMMMVMVVVMVMMVVVVVMMMVMVVVMMMVMVMVVMMVMVMVVMMVMVMVVMMVMVMVVMMVMVMVVMMVMVMVVMMVMVMVVMMVMVMVVMMVMVMVVMMVMVMVVMMVMVVVMMMVMVMVVMMVMVMVVMMVMVMVVMMVMVMVVMMVMVMVVMMVMVMVVMMVMVMVVMMVMVMVVMMVMVMVVMMVMVMVVMMVMVMVVMMVMVMVVMMVMVVVMMMVMVVMVMVMVVMVVMMVMVVMVMMVMVVMVMMVMVVMVMMVMVVMVMMVMVVMVMMVVVVVMMMVMVMVVMMVVVVMMMVMVVVMVMMVVVVVMMMVMVVVMMMVVVVVMMMVMVVMVMVMVVMVVMMVMVVMVMMVMVVMVMMVMVVMVMMVVVVVMMMVMVMVVMMVVVVMMMVMVVVMVMMVVVVVMMMVMVVVMMMVMVVMVMVMVVMVVMMVMVVMVMMVMVVMVMMVMVVMVMMVMVVMVMMVMVVMVMMVVVVVMMMVMVMVVMMVVVVMMMVMVVVMVMMVVVVVMMMVMVVMVMMVMVVVMMMVMVMVVMMVMVMVVMMVMVMVVMMVMVMVVMMVMVMVVMMVMVMVVMMVMVMVVMMVMVMVVMMVMVVVMMMVMVVMVMMVMVVMVMMVMVVMVMMVMVVMVMMVMVVMVMMVMVVMVMMVMVVVMMMVMVVMVMMVMVVVMMMVMVMVVMMVMVMVVMVMVVMVVMMVMVVMVMMVVVVVMMMVMVMVVMMVMVMVVMMVMVMVVMMVMVMVVMMVMVMVVMMVVVVMMMVMVVVMVMMVVVVVMMMVMVMVVMMVMVVVMMVMVVMVVMMVMVVMVMMVMVVMVMMVMVVMVMMVMVVMVMMVMVVMVMMVVVVVMMMVMVMVVMMVMVMVVMMVMVMVVMMVMVMVVMMVVVVMMMVMVVVMVMMVVVVVMMMVMVMVVMMVMVVVMMMVMVMVVMMVMVMVVMMVMVMVVMMVMVMVVMMVMVMVVMMVMVMVVMMVMVMVVMMVMVMVVMMVMVMVVMMVMVVVMMMVMVVMVMMVMVVMVMMVMVVMVMMVMVVMVMMVMVVMVMMVMVVMVMMVMVVMVMMVMVVMVMMVMVVMVMMVMVVVMMMVVVVVMMMVMVVMVMMVMVVMVMVMVVMVVMMVMVVMVMMVMVVMVMMVVVVVMMMVMVMVVMMVMVMVVMMVMVMVVMMVVVVMMMVMVVVMVMMVVVVVMMMVMVVVM\"))"
   ]
  },
  {
   "cell_type": "code",
   "execution_count": 13,
   "metadata": {},
   "outputs": [
    {
     "data": {
      "text/plain": [
       "46"
      ]
     },
     "execution_count": 13,
     "metadata": {},
     "output_type": "execute_result"
    }
   ],
   "source": [
    "import secrets\n",
    "\n",
    "F.<i,j,k> = QuaternionAlgebra(-1, -1)\n",
    "A = []\n",
    "B = [1, i, j, k]\n",
    "\n",
    "msg_bin = b\"irisctf{redacted_redacted_redacted_}\"\n",
    "assert len(msg_bin) % 4 == 0\n",
    "msg = [F(sum(Integer(msg_bin[idx+bi])*b for bi, b in enumerate(B))) for idx in range(0, len(msg_bin), len(B))]\n",
    "targ = 2^64 #66\n",
    "\n",
    "for _ in range(len(msg)):\n",
    "    a = F(sum(secrets.randbelow(targ)*b for b in B))\n",
    "    A.append(a)\n",
    "\n",
    "sm = F(0)\n",
    "for idx in range(len(msg)):\n",
    "    sm += msg[idx] * A[idx]\n",
    "\n",
    "print(\"A =\", A)\n",
    "print(\"s =\", sm)\n"
   ]
  },
  {
   "cell_type": "code",
   "execution_count": 6,
   "metadata": {},
   "outputs": [
    {
     "data": {
      "text/plain": [
       "160"
      ]
     },
     "execution_count": 6,
     "metadata": {},
     "output_type": "execute_result"
    }
   ],
   "source": [
    "len(\"63665d935d20ef5e8872c8886a7289547b950a095e946c578c6bb4210fe24cd7cf602365b15f4d6520a2b8a7a203e9b3e3342496ccf6bff104e558df1f415204b282fbd1a0e065789a50c9033778f0a7\")"
   ]
  },
  {
   "cell_type": "code",
   "execution_count": 38,
   "metadata": {},
   "outputs": [
    {
     "name": "stdout",
     "output_type": "stream",
     "text": [
      "{'🐱': '0', '🐈': '1', '😸': '2', '😹': '3', '😺': '4', '😻': '5', '😼': '6', '😽': '7', '😾': '8', '😿': '9', '🙀': 'A', '🐱\\u200d👤': 'B', '🐱\\u200d🏍': 'C', '🐱\\u200d💻': 'D', '🐱\\u200d👓': 'E', '🐱\\u200d🚀': 'F'}\n",
      "ECB283ECAB84E19BB0E1BCA8ECAF97EE8380E79CAEEE848DE2828CE6AAB6E1B9A8E6B48DEA9F89E7ACA6E2AEB9DF82EA9092E6ACBBE6B283E2B2BBE7B8A5E785BDE6B990E19797E7A589E480BAEB819BE0A49AE6AABAEA84A8E3B582E594A1E692B2E18D92E18D93EB81A2EC81A2EFBFBDE28289EEA4B0E887B9E29B9FECAAAAEB9BA5E8A5A8E889B9\n",
      "ECB293ECAB87E19BA4E1BDBBECAF94EE8385E79CA5EE849CE2828CE6AB85E1BAB5E6B3A7EA9E91E7ABA2E2B086DDBEEA909CE6ACAEE6B1B9E2B3B4E7B7AEE7858BE6B88FE19791E7A48BE4828CEB80A7E0A4A3E6A9BDEA85A7E3B58CE59490E69386E18CA6E18D91EB81A7EC80A4EFBFBDE281B8EEA582E88990E29CAEECAABCEB9CA7E8A5BEE88B95\n",
      "0\n",
      "[52266, 51797, 5755, 7944, 52081, 57425, 30399, 57505, 8217, 27285, 7752, 27828, 42842, 31409, 11161, 1867, 41897, 27343, 27671, 11419, 32183, 28952, 28122, 5490, 30935, 16410, 45044, 2229, 27206, 41224, 15573, 21672, 25746, 4847, 4850, 45038, 49140, 65428, 8217, 59663, 33240, 9918, 51849, 46788, 35143, 33368]\n",
      "irisctf{s0m371m3s_bY735_4r3n7_wh47_y0i_3xp3c7}\n"
     ]
    }
   ],
   "source": [
    "import json\n",
    "import os\n",
    "import random\n",
    "import string\n",
    "import unicodedata\n",
    "\n",
    "# Bộ CharSet\n",
    "CharSet = {\n",
    "    '0': \"0\", '1': \"1\", '2': \"2\", '3': \"3\",\n",
    "\t'4': \"4\", '5': \"5\", '6': \"6\", '7': \"7\",\n",
    "\t'8': \"8\", '9': \"9\", 'A': \"A\", 'B': \"B\",\n",
    "\t'C': \"C\", 'D': \"D\", 'E': \"E\", 'F': \"F\",\n",
    "}\n",
    "\n",
    "# Tạo ánh xạ ngược\n",
    "# ReverseCharSet = {\n",
    "#     '0': '0', '1': '1', '2': '2', '3': '3',\n",
    "# \t'4': '4', '5': '5', '6': '6', '7': '7',\n",
    "# \t'8': '8', '9': '9', 'A': 'A', 'B': 'B',\n",
    "# \t'C': 'C', 'D': 'D', 'E': 'E', 'F': 'F',\n",
    "# }\n",
    "\n",
    "def normalize_unicode(input_str):\n",
    "    return unicodedata.normalize(\"NFC\", input_str)\n",
    "\n",
    "NormalizedReverseCharSet = {normalize_unicode(k): v for k, v in ReverseCharSet.items()}\n",
    "print(NormalizedReverseCharSet)\n",
    "\n",
    "# Hàm catify\n",
    "def catify(input_text, keys):\n",
    "    keyed_text = \"\"\n",
    "    result = \"\"\n",
    "\n",
    "    # Bước 1: Tạo keyed_text\n",
    "    for i, char in enumerate(input_text):\n",
    "        keyed_text += chr(ord(char) + keys[i])\n",
    "    print(\"I2Keyed:\", keyed_text)\n",
    "\n",
    "    # Bước 2: Chuyển keyed_text sang hex\n",
    "    hex_encoded = keyed_text.encode(\"utf-8\").hex().upper()\n",
    "    print(\"K2Hex:\", hex_encoded)\n",
    "\n",
    "    return hex_encoded\n",
    "\n",
    "# Hàm find_keys\n",
    "def find_keys(plaintext, ciphertext):\n",
    "    # Bước 1: Chuyển ngược ciphertext từ hex về keyed_text\n",
    "    try:\n",
    "        keyed_text = bytes.fromhex(ciphertext).decode(\"utf-8\")\n",
    "    except ValueError:\n",
    "        print(\"Ciphertext không hợp lệ!\")\n",
    "        return None\n",
    "\n",
    "    # print(\"C2Keyed:\", keyed_text)\n",
    "\n",
    "    # Bước 2: Tính toán khóa\n",
    "    keys = []\n",
    "    for p_char, k_char in zip(plaintext, keyed_text):\n",
    "        key = ord(k_char) - ord(p_char)\n",
    "        keys.append(key)\n",
    "\n",
    "    return keys\n",
    "\n",
    "def decipher(ciphertext, keys):\n",
    "    # Bước 1: Chuyển ciphertext từ hex về keyed_text\n",
    "    try:\n",
    "        keyed_text = bytes.fromhex(ciphertext).decode(\"utf-8\")\n",
    "    except ValueError:\n",
    "        print(\"Ciphertext không hợp lệ!\")\n",
    "        return None\n",
    "\n",
    "    # print(\"Hex2Keyed:\", keyed_text)\n",
    "\n",
    "    # Bước 2: Loại bỏ khóa để khôi phục plaintext\n",
    "    plaintext = \"\"\n",
    "    for i, k_char in enumerate(keyed_text):\n",
    "        plain_char = chr(ord(k_char) - keys[i])\n",
    "        plaintext += plain_char\n",
    "\n",
    "    return plaintext\n",
    "\n",
    "# Hàm chính\n",
    "if __name__ == \"__main__\":\n",
    "    plaintext = \"You fools! You will never get my catnip!!!!!!!\"\n",
    "    # print(len(plaintext))\n",
    "\n",
    "    ciphertext = \"ECB283ECAB84E19BB0E1BCA8ECAF97EE8380E79CAEEE848DE2828CE6AAB6E1B9A8E6B48DEA9F89E7ACA6E2AEB9DF82EA9092E6ACBBE6B283E2B2BBE7B8A5E785BDE6B990E19797E7A589E480BAEB819BE0A49AE6AABAEA84A8E3B582E594A1E692B2E18D92E18D93EB81A2EC81A2EFBFBDE28289EEA4B0E887B9E29B9FECAAAAEB9BA5E8A5A8E889B9\"\n",
    "    # print(len(ciphertext))\n",
    "    \n",
    "    flag_output = \"ECB293ECAB87E19BA4E1BDBBECAF94EE8385E79CA5EE849CE2828CE6AB85E1BAB5E6B3A7EA9E91E7ABA2E2B086DDBEEA909CE6ACAEE6B1B9E2B3B4E7B7AEE7858BE6B88FE19791E7A48BE4828CEB80A7E0A4A3E6A9BDEA85A7E3B58CE59490E69386E18CA6E18D91EB81A7EC80A4EFBFBDE281B8EEA582E88990E29CAEECAABCEB9CA7E8A5BEE88B95\" \n",
    "    print(ciphertext)\n",
    "    print(flag_output)\n",
    "    print(len(ciphertext) - len(flag_output))\n",
    "    keys = find_keys(plaintext, ciphertext)\n",
    "    print(keys)\n",
    "    # print(\"Recovered keys:\", keys)\n",
    "    flag = decipher(flag_output, keys)\n",
    "    print(flag)\n"
   ]
  },
  {
   "cell_type": "code",
   "execution_count": 1,
   "metadata": {},
   "outputs": [
    {
     "ename": "ModuleNotFoundError",
     "evalue": "No module named 'sage'",
     "output_type": "error",
     "traceback": [
      "\u001b[1;31m---------------------------------------------------------------------------\u001b[0m",
      "\u001b[1;31mModuleNotFoundError\u001b[0m                       Traceback (most recent call last)",
      "Cell \u001b[1;32mIn[1], line 1\u001b[0m\n\u001b[1;32m----> 1\u001b[0m \u001b[38;5;28;01mfrom\u001b[39;00m \u001b[38;5;21;01msage\u001b[39;00m\u001b[38;5;21;01m.\u001b[39;00m\u001b[38;5;21;01mall\u001b[39;00m \u001b[38;5;28;01mimport\u001b[39;00m \u001b[38;5;241m*\u001b[39m\n\u001b[0;32m      2\u001b[0m \u001b[38;5;28;01mfrom\u001b[39;00m \u001b[38;5;21;01msage\u001b[39;00m\u001b[38;5;21;01m.\u001b[39;00m\u001b[38;5;21;01mmodules\u001b[39;00m\u001b[38;5;21;01m.\u001b[39;00m\u001b[38;5;21;01mfree_module_integer\u001b[39;00m \u001b[38;5;28;01mimport\u001b[39;00m IntegerLattice\n\u001b[0;32m      4\u001b[0m F \u001b[38;5;241m=\u001b[39m QuaternionAlgebra(\u001b[38;5;241m-\u001b[39m\u001b[38;5;241m1\u001b[39m , \u001b[38;5;241m-\u001b[39m\u001b[38;5;241m1\u001b[39m , names\u001b[38;5;241m=\u001b[39m(\u001b[38;5;124m'\u001b[39m\u001b[38;5;124mi\u001b[39m\u001b[38;5;124m'\u001b[39m, \u001b[38;5;124m'\u001b[39m\u001b[38;5;124mj\u001b[39m\u001b[38;5;124m'\u001b[39m, \u001b[38;5;124m'\u001b[39m\u001b[38;5;124mk\u001b[39m\u001b[38;5;124m'\u001b[39m,))\n",
      "\u001b[1;31mModuleNotFoundError\u001b[0m: No module named 'sage'"
     ]
    }
   ],
   "source": [
    "from sage.all import *\n",
    "from sage.modules.free_module_integer import IntegerLattice\n",
    "\n",
    "F = QuaternionAlgebra(-1 , -1 , names=('i', 'j', 'k',))\n",
    "(i, j, k,) = F._first_ngens(3)\n",
    "A = []\n",
    "B = [1, i, j, k]\n",
    "\n",
    "def to_matrix(q):\n",
    "    return matrix([[q[0],q[1],q[2],q[3]],[-q[1],q[0],-q[3],q[2]],[-q[2],q[3],q[0],-q[1]],[-q[3],-q[2],q[1],q[0]]])\n",
    "\n",
    "def from_matrix(m):\n",
    "    return F(m[0]) \n",
    "\n",
    "A = [17182433425281628234 + 14279655808574179137*i + 8531159707880760053*j + 10324521189909330699*k, 10979190813462137563 + 11958433776450130274*i + 10360430094019091456*j + 11669398524919455091*k, 3230073756301653559 + 4778309388978960703*i + 7991444794442975980*j + 11596790291939515343*k, 11946083696500480600 + 18097491527846518653*i + 5640046632870036155*j + 2308502738741771335*k, 12639949829592355838 + 12578487825594881151*i + 5989294895593982847*j + 9055819202108394307*k, 15962426286361116943 + 6558955524158439283*i + 2284893063407554440*j + 14331331998172190719*k, 14588723113888416852 + 432503514368407804*i + 11024468666631962695*j + 10056344423714511721*k, 2058233428417594677 + 7708470259314925062*i + 7418836888786246673*j + 14461629396829662899*k, 4259431518253064343 + 9872607911298470259*i + 16758451559955816076*j + 16552476455431860146*k]\n",
    "s = F(-17021892191322790357078 + 19986226329660045481112*i + 15643261273292061217693*j + 21139791497063095405696*k)\n",
    "\n",
    "A = list(map(F, A))\n",
    "s_sym = matrix(4,4)\n",
    "\n",
    "assert A[0]*A[1] == from_matrix(to_matrix(A[0])*to_matrix(A[1]))\n",
    "assert A[0]+A[1] == from_matrix(to_matrix(A[0])+to_matrix(A[1]))\n",
    "\n",
    "R = PolynomialRing(ZZ, names=\",\".join([f\"m{i}\" for i in range(4*len(A))]))\n",
    "msg_gens = R.gens()\n",
    "\n",
    "# known part\n",
    "msg_bin = b\"irisctf{\"\n",
    "msg = [F(sum(Integer(msg_bin[idx+bi])*b for bi, b in enumerate(B))) for idx in range(0, len(msg_bin), len(B))]\n",
    "known = matrix(4,4)\n",
    "\n",
    "for i, m in enumerate(msg):\n",
    "    known += to_matrix(m) * to_matrix(A[i])\n",
    "\n",
    "s = s - from_matrix(known)\n",
    "A = A[len(msg):]\n",
    "\n",
    "for i in range(len(A)):\n",
    "    s_sym += to_matrix(msg_gens[i*4:i*4+4]) * to_matrix(A[i])\n",
    "\n",
    "M = []\n",
    "\n",
    "for i, s_target in enumerate(s_sym[0]):\n",
    "    #print(s_target.coefficients(), \"=\", s[i])\n",
    "    M.append([s[i]] + list(map(lambda x: -x, s_target.coefficients()))) # negation\n",
    "\n",
    "M = matrix(M).transpose().augment(identity_matrix(4*len(A)+1))\n",
    "W = diagonal_matrix([2**256] * 5 + [1]*(4*len(A)))\n",
    "\n",
    "lattice = IntegerLattice(M * W).LLL() / W\n",
    "\n",
    "v = next(v for v in lattice if all(map(lambda x: x == 0, v[:4])) and abs(v[4])==1)\n",
    "v *= sign(v[4])\n",
    "v = v[5:]\n",
    "\n",
    "flag = msg_bin.decode() + \"\".join(map(chr, v))\n",
    "\n",
    "print(flag)"
   ]
  },
  {
   "cell_type": "code",
   "execution_count": 23,
   "metadata": {},
   "outputs": [
    {
     "name": "stdout",
     "output_type": "stream",
     "text": [
      "b'I am an authenticated admin, please give me the flag\\x0c\\x0c\\x0c\\x0c\\x0c\\x0c\\x0c\\x0c\\x0c\\x0c\\x0c\\x0c'\n",
      "b'Di5zjvbvvR/ZFIP0g3xZdSRvZoayrrJb1QiZsMZiQXkmfXfDseelWpgMkrySekg8IWJzhNqC3zO0bfuQ6h4hEA81+EKYDrBjnirrYdggWZQ='\n"
     ]
    }
   ],
   "source": [
    "from base64 import b64encode, b64decode\n",
    "from Crypto.Cipher import AES\n",
    "from Crypto.Util.Padding import pad, unpad\n",
    "from pwn import xor\n",
    "ciphertext = b64decode(\"NW98h7nj2TWya/2W7BgnFg81+EKYDrBjnirrYdggWZQ=\")\n",
    "v1 = ciphertext[:16]; c1 = ciphertext[16:]\n",
    "p1 = pad(b\"random\", 16)\n",
    "p2 = pad(b\"I am an authenticated admin, please give me the flag\", 16)\n",
    "v2 = xor(p2, p1, v1)\n",
    "payload = v2 + c1\n",
    "print(b64encode(payload))\n",
    "\n"
   ]
  },
  {
   "cell_type": "code",
   "execution_count": 138,
   "metadata": {},
   "outputs": [
    {
     "name": "stdout",
     "output_type": "stream",
     "text": [
      "109 115 111 110 104 98 98 111 110 109 121 111 111 122 115 101 118 110 110 109 120 111 118 97 97 115 101 118 122 109 112 114 109 112 112 110 112 103 107 107 110 112 100 107 107 117 113 107 102 115 122 113 102 115 100 101 111 110 109 121 111 106 110 97 110 109 120 111 117 98 98 115 117 109 112 119 114 120 116 97 110 "
     ]
    }
   ],
   "source": [
    "from "
   ]
  },
  {
   "cell_type": "code",
   "execution_count": 116,
   "metadata": {},
   "outputs": [
    {
     "name": "stdout",
     "output_type": "stream",
     "text": [
      "10121\n",
      "10122\n",
      "10200\n",
      "10201\n",
      "10202\n",
      "10210\n",
      "10211\n",
      "10212\n",
      "10220\n",
      "10221\n",
      "10222\n",
      "11000\n",
      "11001\n",
      "11002\n",
      "11010\n",
      "11011\n",
      "11012\n",
      "11020\n",
      "11021\n",
      "11022\n",
      "11100\n",
      "11101\n",
      "11102\n",
      "11110\n",
      "11111\n",
      "11112\n"
     ]
    }
   ],
   "source": [
    "for i in range(26):\n",
    "    print(np.base_repr(ord('a')+i, 3))"
   ]
  },
  {
   "cell_type": "code",
   "execution_count": 127,
   "metadata": {},
   "outputs": [
    {
     "name": "stdout",
     "output_type": "stream",
     "text": [
      "[194, -174, 581, -314, 637, -657, -605, 55, -462, 266, 76, -370, -614, -57, -631, -443, -581, 305, -158, -609, -95, 659, -664, 593, -213, 479, 265, -500, 403, 254, 612, 414, -238, -61, -169, -438, -238, 397, -518, 26, -408, 517, -624, 570, 513, 350, 449, -352, -89, -656, 645, 415, 579, -616, -62, -362, -139, -244, -395, -369, -248, -666, -170, 387, -674, -578, -125, 186, 619, 324, 394, 342, -494, 442, -538, -32, 635, 45, 244, 306, -216, 180, 410, -165, 177, 93, -528, 342, 58, 17, -281, -328, 106, 653, -292, -171, 607, -389, 33, 290, -189, 625, 671, 125, -7, 457, 154, 302, 409, -537, -256, 282, 116, -610, 217, 554, 401, -553, -678, 466, -201, -159, 134, -219, -188, 542, 254, 449, -548, 587, -256, 531, 325, 587, 553, 664, 134]\n",
      "[101 101   0 101 731 101   0 731 731 731 101 101   0   0 731 101 101 101\n",
      "   0 731 101 101   0 101 731 101   0 731 731 731 101 101   0 731 101 101\n",
      " 101   0   0   0 101   0 731 731 101 101 101   0 731   0 101 101   0   0\n",
      " 101 101 101 101 101   0 101 101 101   0   0 101   0 731   0 731 101   0\n",
      " 101 731 731 101 101   0 101   0 101   0 101 731 731 101   0 731 101   0\n",
      " 101 101   0 731   0 101   0 731   0   0 101 101   0   0 731 101 101   0\n",
      " 101 731 101   0 731 101 731 101 101 101   0 731 101 101   0   0 101 101\n",
      "   0 731 101 101 101 101   0 101 731 101   0 731 101 731 101 101 101 101\n",
      " 101 101 101 101 101   0 101 101   0   0 101 101 101 101   0 731 101   0\n",
      " 731 101   0 101   0 731 101   0 101   0 731   0 731 101   0 731 101   0\n",
      " 101   0 731   0   0 101 101 101 101 101 101   0 731 101 731 101   0 101\n",
      " 731 731 101   0 731 101 101 101   0 101 731 731 101 101 101   0 731 101\n",
      " 101   0   0 101]\n",
      "[ -2524749   1424255   -467916  -4462924  -1716615  -2333458   5322754\n",
      "   5437643   -751817   1707482  -4360294    607185   3672053   2039721\n",
      "   4518983  -7910294  -3831614   1233252   3863612   2552478  -1663399\n",
      "  -1974143  -1131888   1217424   3074110   5528095   -383592   1272622\n",
      "   2950652   1756371  -4892326   -437938   2388499    888708  -1661145\n",
      "   9667432  -5524132   1793428  -4508690   9632953    346141   -765409\n",
      "  -1264502   1434473   2995787  -8953596   1647067   -558157  -1761675\n",
      "   6526013   2238479   5475100   1633440   4095588   3663414  -1633626\n",
      "   5420946   2382081   6266186   -611784   2214076    578944    378932\n",
      "   2383466   1140439  -3461035   3625742   1788065   3283811  -3499489\n",
      "    581882   -494577  -3530190  -2747647   4306435  -2521767   1827084\n",
      "   3008051  -2087503   2581224  -5065335   1596395  -3054956   2954212\n",
      "  -2133674  -1470124  -9468839   3821501    976433  -2095588   -300775\n",
      "   1464397  -3287145  -1173823   -703623    853428   5360434  -4065452\n",
      "    939063   4533253  -3360288  -7480543  -8070724    653302   6319700\n",
      "   6009828  -4488487   1964535   -525006    541797   -265176   4148118\n",
      "   2365035  -7159687  -2280053   4970693    492591    412531  -9384920\n",
      "   7422801  -1504912  -4628157   -519545  -1435998  -1197645    551575\n",
      "   5833951   1051989   2695059   -978857   4606933   1087805  -9551532\n",
      "    662794  -3308221  -6407717   1773979   2569919  -3018064   1474175\n",
      "   3936723   6016226   6311273  -4641033   8380726  -2353708  -3117428\n",
      "  -3139477  -3994815   1215580    382082  -1673358   5780775  -4348709\n",
      "   3640199   3377994   7025138   5362412  -4180999   3334629   -150375\n",
      "  -4343776  -3503471   -144275   2500556  -1889242   3651623   1437104\n",
      "   2201320  -3405046    456770  -6374310   -636788   1615503  -3774436\n",
      "   1909804   2468393    185198  -1933252    234698  -7824572  -4048437\n",
      "   1508945   4827857   -543247  -1702370    109590  -1191072  -1450735\n",
      "   2049072 -10982840   2499037   4529555  -1619227   2519883   3912118\n",
      "  -2359018  -3168607   5096671  -1728508   2019109  -4282031  -3150865\n",
      "   -918660   2393802  -1028489   5378158   4346870  -5059249   5908056\n",
      "   6604578   -802541  -1629045   -357767  -8908108   1108872    709833\n",
      "   5390793  -2072754   3375825]\n",
      "seed.hex() = 'b769cb4b1ee27b75dd3bb1e518b1a1cb'\n",
      "b.tolist() = [7, 750, 268, 1257, 337, 758, 1244, 1179, 186, 158, 451, 280, 75, 943, 1194, 1300, 1063, 287, 1094, 1334, 1205, 769, 464, 791, 342, 1175, 210, 818, 735, 51, 570, 405, 1305, 706, 737, 350, 268, 991, 303, 1156, 548, 834, 598, 710, 327, 524, 358, 1214, 190, 18, 1096, 1259, 240, 339, 1064, 1036, 184, 432, 243, 666, 1191, 620, 675, 355, 1282, 89, 38, 442, 1079, 373, 836, 827, 345, 943, 962, 267, 723, 241, 372, 768, 408, 1303, 590, 212, 1105, 1218, 999, 544, 697, 352, 107, 62, 1031, 90, 14, 182, 816, 586, 1334, 1123, 122, 975, 6, 22, 1308, 1114, 192, 612, 441, 850, 320, 1151, 348, 635, 353, 422, 10, 249, 536, 638, 455, 705, 357, 1218, 136, 471, 705, 667, 380, 1164, 49, 467, 1327, 88, 1101, 1333, 596, 1082, 735, 943, 812, 707, 417, 78, 1150, 923, 724, 451, 1182, 207, 1103, 773, 608, 1047, 986, 93, 1118, 173, 1354, 910, 797, 536, 474, 92, 399, 1288, 60, 619, 684, 176, 936, 614, 891, 1357, 348, 422, 900, 833, 830, 606, 1279, 538, 327, 390, 1153, 342, 811, 1265, 192, 868, 531, 241, 878, 464, 42, 705, 956, 1263, 457, 693, 847, 1036, 581, 116, 1265, 528, 847, 1298, 319, 686, 1107, 550, 173, 176, 368, 1119, 853, 1233, 49, 646]\n",
      "Sorry, you cannot sign in.\n"
     ]
    }
   ],
   "source": [
    "from Crypto.Util.number import bytes_to_long\n",
    "from string import ascii_lowercase\n",
    "from sympy import nextprime\n",
    "# from secret import FLAG\n",
    "import numpy as np\n",
    "import random\n",
    "import signal\n",
    "import os\n",
    "\n",
    "\n",
    "def _handle_timeout(signum, frame):\n",
    "    raise TimeoutError('function timeout')\n",
    "\n",
    "timeout = 60\n",
    "# signal.signal(signal.SIGALRM, _handle_timeout)\n",
    "# signal.alarm(timeout)\n",
    "\n",
    "# Tạo danh sách n số nguyên ngẫu nhiên trong khoảng [-bound, bound]\n",
    "def uniform_sample(n, bound, SecureRandom):\n",
    "    return [SecureRandom.randrange(-bound, bound) for _ in range(n)]\n",
    "\n",
    "\n",
    "def ternary_sample(n, ternaryL, SecureRandom):\n",
    "    return [ternaryL[int(_)] for __ in range(n // 5) for _ in np.base_repr(ord(SecureRandom.choice(ascii_lowercase)), 3)]\n",
    "\n",
    "n = 137\n",
    "m = 220\n",
    "q = nextprime(1337) # q = 1361\n",
    "e_L = [0, 101, 731]\n",
    "R_s= random.SystemRandom()\n",
    "# sinh ra danh sách n số nguyên trong khoảng [-680, 680]\n",
    "s = np.array(uniform_sample(n, q//2, R_s))\n",
    "print(str(s.tolist()))\n",
    "R_e = random.SystemRandom()\n",
    "e = np.array(ternary_sample(m, e_L, R_e))\n",
    "print(e)\n",
    "seed = os.urandom(16)\n",
    "R_A = random\n",
    "R_A.seed(seed)\n",
    "A = np.array([uniform_sample(n, q, R_A) for _ in range(m)])\n",
    "print(A.dot(s))\n",
    "b = (A.dot(s) + e) % q\n",
    "print(f\"{seed.hex() = }\")\n",
    "print(f\"{b.tolist() = }\")\n",
    "s_ = input(\"Give me s: \")\n",
    "if s_ == str(s.tolist()):\n",
    "    print(\"Congratulations! You have signed in successfully.\")\n",
    "    print(FLAG)\n",
    "else:\n",
    "    print(\"Sorry, you cannot sign in.\")"
   ]
  },
  {
   "cell_type": "code",
   "execution_count": 2,
   "metadata": {},
   "outputs": [
    {
     "name": "stdout",
     "output_type": "stream",
     "text": [
      "b'crypto{inmatrix}'\n"
     ]
    },
    {
     "data": {
      "text/plain": [
       "1"
      ]
     },
     "execution_count": 2,
     "metadata": {},
     "output_type": "execute_result"
    }
   ],
   "source": [
    "def bytes2matrix(text):\n",
    "    \"\"\" Converts a 16-byte array into a 4x4 matrix.  \"\"\"\n",
    "    return [list(text[i:i+4]) for i in range(0, len(text), 4)]\n",
    "\n",
    "def matrix2bytes(matrix):\n",
    "    \"\"\" Converts a 4x4 matrix into a 16-byte array.  \"\"\"\n",
    "    return b''.join(bytes(row) for row in matrix)\n",
    "\n",
    "matrix = [\n",
    "    [99, 114, 121, 112],\n",
    "    [116, 111, 123, 105],\n",
    "    [110, 109, 97, 116],\n",
    "    [114, 105, 120, 125],\n",
    "]\n",
    "\n",
    "print(matrix2bytes(matrix))\n",
    "1"
   ]
  },
  {
   "cell_type": "code",
   "execution_count": 3,
   "metadata": {},
   "outputs": [
    {
     "name": "stdout",
     "output_type": "stream",
     "text": [
      "0x0\n"
     ]
    }
   ],
   "source": [
    "print(hex(00))"
   ]
  },
  {
   "cell_type": "code",
   "execution_count": 1,
   "metadata": {},
   "outputs": [],
   "source": [
    "c = 16734263319096164417584815827020815028118553339633132257802223850412292899678498269493126311634204792122830622051996348024172502487767158082268008294995724031434392190942921834974784163801535646719125195606829075860334928730210428101711511194803540516668879355498348100270938427582966661625720585174448024167\n",
    "n = 51784010157491860787991748046691377782054162002653106467172489157538726567642500103465912344460542287181787757618955360725951148994738720966511041344003663681113523793171508871191998549368105965864303196943867078876296406267728323037959725092767105479676404382198096812681235778438609606845854615735647055537\n",
    "e = 41946652230507505892123806835142059787843650124888924775665439856970236313783624563112362308777893531892206947048499065182394199409245074995028329826344228905677120146517432494696868308523479979960834175749221112393218858685109678930964351582661309465320858330094439992075862194361942733414930651001708586893"
   ]
  },
  {
   "cell_type": "code",
   "execution_count": 3,
   "metadata": {},
   "outputs": [
    {
     "name": "stdout",
     "output_type": "stream",
     "text": [
      "180638594769037903267909311328535969949661653466129492033745533\n",
      "16734263319096164417584815827020815028118553339633132257802223850412292899678498269493126311634204792122830622051996348024172502487767158082268008294995724031434392190942921834974784163801535646719125195606829075860334928730210428101711511194803540516668879355498348100270938427582966661625720585174448024167\n",
      "picoCTF{bad_1d3a5_4783252}\n"
     ]
    }
   ],
   "source": [
    "d = 65537\n",
    "p = pow(c, d, n)\n",
    "print(p)\n",
    "print(pow(p, e, n)) \n",
    "ascii_string = p.to_bytes((p.bit_length() + 7) // 8, 'big').decode('ascii')\n",
    "print(ascii_string)\n"
   ]
  },
  {
   "cell_type": "code",
   "execution_count": 2,
   "metadata": {},
   "outputs": [
    {
     "name": "stdout",
     "output_type": "stream",
     "text": [
      "gctf{54dly_50ph13_63rm41n_pr1m35_wh3r3_n07_u53d_53curly}\n"
     ]
    }
   ],
   "source": [
    "from Crypto.Util.number import bytes_to_long, long_to_bytes\n",
    "N = 489654925303072532553659432557377999607856370197579144782976005904927235244321459117898721690940319487769632950077647476152880207627385231603017537961906244964117707813500615680799967895028255666319186794462243666159201392490299439947399915406223652423977002396844720487588735149486903743362109592536081726574342051928022071576485169655694281378301551060632699138055044915993078059902577590451519251321215765308977494770310317350866241246677761542212605478044672014913289740381478940929584556588858045439572693806615268502627912952686133840081188641597461343817750411035667135310831687533531094008308185320371643348451\n",
    "CT = 58535947031303233853656030097871859886777764034955095086618901763996192727846608049414977429851683454541344096765319691912454768331685486037922533236779909508856486986528041125267338846421238077083738092020495236946742989769815669001100361743526446503248639704900983287986142636083524250650662602975802778548032518674346903013262799229594298599457623347987250272218522320743415393958131916181915804368140008312975210397791293701839101635851486434802271100141743496402698229558250485987421664294229816166263965806962242894230766553316312608696594536239328785792283453559549564751529321240567418095487324718881437825650\n",
    "e = 0x10001\n",
    "\n",
    "p = 9352496155192295944243473644483853835662636576410969996619180877861158926367873785037099054018741236476166923118647057249968914650337399039210616026612969\n",
    "q = 18704992310384591888486947288967707671325273152821939993238361755722317852735747570074198108037482472952333846237294114499937829300674798078421232053225939\n",
    "r = 37409984620769183776973894577935415342650546305643879986476723511444635705471495140148396216074964945904667692474588228999875658601349596156842464106451879\n",
    "s = 74819969241538367553947789155870830685301092611287759972953447022889271410942990280296792432149929891809335384949176457999751317202699192313684928212903759\n",
    "\n",
    "phi = (p-1) * (q-1) * (r-1) * (s-1)\n",
    "d = pow(e, -1, phi)\n",
    "PT = pow(CT, d, N)\n",
    "print(long_to_bytes(PT).decode())"
   ]
  }
 ],
 "metadata": {
  "kernelspec": {
   "display_name": "Python 3",
   "language": "python",
   "name": "python3"
  },
  "language_info": {
   "codemirror_mode": {
    "name": "ipython",
    "version": 3
   },
   "file_extension": ".py",
   "mimetype": "text/x-python",
   "name": "python",
   "nbconvert_exporter": "python",
   "pygments_lexer": "ipython3",
   "version": "3.11.9"
  }
 },
 "nbformat": 4,
 "nbformat_minor": 2
}
