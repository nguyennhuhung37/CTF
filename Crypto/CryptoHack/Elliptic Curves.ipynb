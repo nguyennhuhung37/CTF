{
 "cells": [
  {
   "cell_type": "code",
   "execution_count": 2,
   "metadata": {},
   "outputs": [
    {
     "data": {
      "text/plain": [
       "2803"
      ]
     },
     "execution_count": 2,
     "metadata": {},
     "output_type": "execute_result"
    }
   ],
   "source": [
    "9739 - 6936"
   ]
  },
  {
   "cell_type": "code",
   "execution_count": 19,
   "metadata": {},
   "outputs": [
    {
     "name": "stdout",
     "output_type": "stream",
     "text": [
      "[1024, 4440]\n"
     ]
    }
   ],
   "source": [
    "P = 9739\n",
    "x = (5274, 2841)\n",
    "y = (8669, 740)\n",
    "landa1 = (y[1] - x[1]) * pow(y[0] - x[0], -1, P) % P\n",
    "sumxy = [0, 0]\n",
    "sumxy[0] = (landa1 * landa1 - x[0] - y[0]) % P\n",
    "sumxy[1] = (landa1 * (x[0] - sumxy[0]) - x[1]) % P\n",
    "print(sumxy)"
   ]
  },
  {
   "cell_type": "code",
   "execution_count": 25,
   "metadata": {},
   "outputs": [
    {
     "name": "stdout",
     "output_type": "stream",
     "text": [
      "S(x, y) = (4215, 2162)\n"
     ]
    }
   ],
   "source": [
    "from tinyec.ec import SubGroup, Curve, Point\n",
    "\n",
    "# Định nghĩa trường hữu hạn và tham số đường cong\n",
    "p = 9739  # Modulo\n",
    "a = 497   # Hệ số a\n",
    "b = 1768  # Hệ số b\n",
    "Gx, Gy = 493, 5564 # Điểm khởi tạo (generator point)\n",
    "\n",
    "# Định nghĩa nhóm con và đường cong elliptic\n",
    "subgroup = SubGroup(p=p, g=(Gx, Gy), n=9739, h=1)\n",
    "curve = Curve(a=a, b=b, field=subgroup, name=\"custom_curve\")\n",
    "\n",
    "# Tạo các điểm P, Q, R trên đường cong\n",
    "P = Point(curve, 493, 5564)\n",
    "Q = Point(curve, 1539, 4742)\n",
    "R = Point(curve, 4403, 5202)\n",
    "\n",
    "# Thực hiện phép cộng\n",
    "S = P + P  # P + P\n",
    "S += Q     # S + Q\n",
    "S += R     # S + R\n",
    "\n",
    "# Hiển thị kết quả\n",
    "print(f\"S(x, y) = ({S.x}, {S.y})\")\n"
   ]
  },
  {
   "cell_type": "code",
   "execution_count": 26,
   "metadata": {},
   "outputs": [
    {
     "name": "stdout",
     "output_type": "stream",
     "text": [
      "7863 * P = (9467, 2742)\n"
     ]
    }
   ],
   "source": [
    "def mod_inverse(k, p):\n",
    "    \"\"\"Tính nghịch đảo modulo của k mod p\"\"\"\n",
    "    return pow(k, -1, p)\n",
    "\n",
    "def point_add(P, Q, a, p):\n",
    "    \"\"\"Phép cộng hai điểm P và Q trên đường cong elliptic\"\"\"\n",
    "    if P == Q:  # Point doubling\n",
    "        num = (3 * P[0]**2 + a) % p\n",
    "        den = (2 * P[1]) % p\n",
    "    else:  # General point addition\n",
    "        num = (Q[1] - P[1]) % p\n",
    "        den = (Q[0] - P[0]) % p\n",
    "\n",
    "    lam = (num * mod_inverse(den, p)) % p\n",
    "    x_r = (lam**2 - P[0] - Q[0]) % p\n",
    "    y_r = (lam * (P[0] - x_r) - P[1]) % p\n",
    "\n",
    "    return (x_r, y_r)\n",
    "\n",
    "def scalar_mult(k, P, a, p):\n",
    "    \"\"\"Nhân điểm P với số nguyên k trên đường cong elliptic\"\"\"\n",
    "    Q = None  # Điểm vô cực\n",
    "    while k > 0:\n",
    "        if k & 1:  # Nếu bit cuối của k là 1\n",
    "            Q = point_add(Q, P, a, p) if Q else P\n",
    "        P = point_add(P, P, a, p)  # Point doubling\n",
    "        k >>= 1  # Dịch phải k một bit\n",
    "    return Q\n",
    "\n",
    "# Định nghĩa đường cong và điểm P\n",
    "p = 9739  # Modulo\n",
    "a = 497\n",
    "b = 1768\n",
    "P = (2339, 2213)\n",
    "\n",
    "# Tính 7863 * P\n",
    "result = scalar_mult(7863, P, a, p)\n",
    "print(f\"7863 * P = {result}\")\n"
   ]
  },
  {
   "cell_type": "code",
   "execution_count": 43,
   "metadata": {},
   "outputs": [
    {
     "name": "stdout",
     "output_type": "stream",
     "text": [
      "7863 * P = (7929, 707)\n",
      "80e5212754a824d3a4aed185ace4f9cac0f908bf\n"
     ]
    }
   ],
   "source": [
    "import hashlib\n",
    "def mod_inverse(k, p):\n",
    "    \"\"\"Tính nghịch đảo modulo của k mod p\"\"\"\n",
    "    return pow(k, -1, p)\n",
    "\n",
    "def point_add(P, Q, a, p):\n",
    "    \"\"\"Phép cộng hai điểm P và Q trên đường cong elliptic\"\"\"\n",
    "    if P == Q:  # Point doubling\n",
    "        num = (3 * P[0]**2 + a) % p\n",
    "        den = (2 * P[1]) % p\n",
    "    else:  # General point addition\n",
    "        num = (Q[1] - P[1]) % p\n",
    "        den = (Q[0] - P[0]) % p\n",
    "\n",
    "    lam = (num * mod_inverse(den, p)) % p\n",
    "    x_r = (lam**2 - P[0] - Q[0]) % p\n",
    "    y_r = (lam * (P[0] - x_r) - P[1]) % p\n",
    "\n",
    "    return (x_r, y_r)\n",
    "\n",
    "def scalar_mult(k, P, a, p):\n",
    "    \"\"\"Nhân điểm P với số nguyên k trên đường cong elliptic\"\"\"\n",
    "    Q = None  # Điểm vô cực\n",
    "    while k > 0:\n",
    "        if k & 1:  # Nếu bit cuối của k là 1\n",
    "            Q = point_add(Q, P, a, p) if Q else P\n",
    "        P = point_add(P, P, a, p)  # Point doubling\n",
    "        k >>= 1  # Dịch phải k một bit\n",
    "    return Q\n",
    "\n",
    "# Định nghĩa đường cong và điểm P\n",
    "p = 9739  # Modulo\n",
    "a = 497\n",
    "b = 1768\n",
    "Qa = (815,3190)\n",
    "nB = 1829\n",
    "\n",
    "# Tính 7863 * P\n",
    "result = scalar_mult(nB, Qa, a, p)\n",
    "print(f\"7863 * P = {result}\")\n",
    "print(hashlib.sha1(str(result[0]).encode()).hexdigest())\n"
   ]
  },
  {
   "cell_type": "code",
   "execution_count": 60,
   "metadata": {},
   "outputs": [
    {
     "name": "stdout",
     "output_type": "stream",
     "text": [
      "(1791, 2181)\n"
     ]
    }
   ],
   "source": [
    "def mod_inverse(k, p):\n",
    "    \"\"\"Tính nghịch đảo modulo của k mod p\"\"\"\n",
    "    return pow(k, -1, p)\n",
    "\n",
    "def point_add(P, Q, a, p):\n",
    "    \"\"\"Phép cộng hai điểm P và Q trên đường cong elliptic\"\"\"\n",
    "    if P == Q:  # Point doubling\n",
    "        num = (3 * P[0]**2 + a) % p\n",
    "        den = (2 * P[1]) % p\n",
    "    else:  # General point addition\n",
    "        num = (Q[1] - P[1]) % p\n",
    "        den = (Q[0] - P[0]) % p\n",
    "\n",
    "    lam = (num * mod_inverse(den, p)) % p\n",
    "    x_r = (lam**2 - P[0] - Q[0]) % p\n",
    "    y_r = (lam * (P[0] - x_r) - P[1]) % p\n",
    "\n",
    "    return (x_r, y_r)\n",
    "\n",
    "def scalar_mult(k, P, a, p):\n",
    "    \"\"\"Nhân điểm P với số nguyên k trên đường cong elliptic\"\"\"\n",
    "    Q = None  # Điểm vô cực\n",
    "    while k > 0:\n",
    "        if k & 1:  # Nếu bit cuối của k là 1\n",
    "            Q = point_add(Q, P, a, p) if Q else P\n",
    "        P = point_add(P, P, a, p)  # Point doubling\n",
    "        k >>= 1  # Dịch phải k một bit\n",
    "    return Q\n",
    "\n",
    "x = 4726\n",
    "p = 9739\n",
    "a = 497\n",
    "ybinh = (x**3 +497*x+1768) % p\n",
    "assert pow(ybinh, (p-1) // 2, p) == 1 # kiểm tra ybinh có phải là dư lượng bậc hai của p không\n",
    "y = pow(ybinh, (p+1) // 4, p)\n",
    "# vì y**2 = ybinh ** (p+1) / 2\n",
    "# mà ybinh ** (p-1) / 2 = 1\n",
    "# => y**2 = 1 * ybinh = ybinh\n",
    "Qa = (x, y)\n",
    "nB = 6534\n",
    "key = scalar_mult(nB, Qa, a, p)\n",
    "print(key)"
   ]
  },
  {
   "cell_type": "code",
   "execution_count": 61,
   "metadata": {},
   "outputs": [
    {
     "name": "stdout",
     "output_type": "stream",
     "text": [
      "crypto{3ff1c1ent_k3y_3xch4ng3}\n"
     ]
    },
    {
     "data": {
      "text/plain": [
       "1"
      ]
     },
     "execution_count": 61,
     "metadata": {},
     "output_type": "execute_result"
    }
   ],
   "source": [
    "from Crypto.Cipher import AES\n",
    "from Crypto.Util.Padding import pad, unpad\n",
    "import hashlib\n",
    "\n",
    "\n",
    "def is_pkcs7_padded(message):\n",
    "    padding = message[-message[-1]:]\n",
    "    return all(padding[i] == len(padding) for i in range(0, len(padding)))\n",
    "\n",
    "\n",
    "def decrypt_flag(shared_secret: int, iv: str, ciphertext: str):\n",
    "    # Derive AES key from shared secret\n",
    "    sha1 = hashlib.sha1()\n",
    "    sha1.update(str(shared_secret).encode('ascii'))\n",
    "    key = sha1.digest()[:16]\n",
    "    # Decrypt flag\n",
    "    ciphertext = bytes.fromhex(ciphertext)\n",
    "    iv = bytes.fromhex(iv)\n",
    "    cipher = AES.new(key, AES.MODE_CBC, iv)\n",
    "    plaintext = cipher.decrypt(ciphertext)\n",
    "\n",
    "    if is_pkcs7_padded(plaintext):\n",
    "        return unpad(plaintext, 16).decode('ascii')\n",
    "    else:\n",
    "        return plaintext.decode('ascii')\n",
    "\n",
    "\n",
    "shared_secret = key[0]\n",
    "iv = 'cd9da9f1c60925922377ea952afc212c'\n",
    "ciphertext = 'febcbe3a3414a730b125931dccf912d2239f3e969c4334d95ed0ec86f6449ad8'\n",
    "\n",
    "print(decrypt_flag(shared_secret, iv, ciphertext))\n",
    "1"
   ]
  },
  {
   "cell_type": "code",
   "execution_count": 95,
   "metadata": {},
   "outputs": [],
   "source": [
    "def square_root(a, p):\n",
    "    #Tonelli–Shanks algorithm\n",
    "    if legendre_symbol(a, p) != 1:\n",
    "        return 0\n",
    "    elif a == 0:\n",
    "        return 0\n",
    "    elif p == 2:\n",
    "        return 0\n",
    "    elif p % 4 == 3:\n",
    "        return pow(a, (p + 1) / 4, p)\n",
    "\n",
    "    s = p - 1\n",
    "    e = 0\n",
    "    while s % 2 == 0:\n",
    "        s //= 2\n",
    "        e += 1\n",
    "\n",
    "    n = 2\n",
    "    while legendre_symbol(n, p) != -1:\n",
    "        n += 1\n",
    "\n",
    "    x = pow(a, (s + 1) // 2, p)\n",
    "    b = pow(a, s, p)\n",
    "    g = pow(n, s, p)\n",
    "    r = e\n",
    "\n",
    "    while True:\n",
    "        t = b\n",
    "        m = 0\n",
    "        for m in range(r):\n",
    "            if t == 1:\n",
    "                break\n",
    "            t = pow(t, 2, p)\n",
    "\n",
    "        if m == 0:\n",
    "            return x\n",
    "\n",
    "        gs = pow(g, 2 ** (r - m - 1), p)\n",
    "        g = (gs * gs) % p\n",
    "        x = (x * gs) % p\n",
    "        b = (b * g) % p\n",
    "        r = m\n",
    "\n",
    "\n",
    "def legendre_symbol(a, p):\n",
    "\n",
    "    ls = pow(a, (p - 1) // 2, p)\n",
    "    return -1 if ls == p - 1 else ls"
   ]
  },
  {
   "cell_type": "code",
   "execution_count": 119,
   "metadata": {},
   "outputs": [
    {
     "name": "stdout",
     "output_type": "stream",
     "text": [
      "(9, 14781619447589544791020593568409986887264606134616475288964881837755586237401)\n",
      "21130179955454 * P = (49231350462786016064336756977412654793383964726771892982507420921563002378152, 12119005339632834459469309411129861912584664210865168553689096898112464563298)\n"
     ]
    }
   ],
   "source": [
    "import math\n",
    "def montgomery_add(P, Q, A, B, p):\n",
    "    \"\"\"\n",
    "    Phép cộng hai điểm P và Q trên đường cong Montgomery E: By^2 = x^3 + Ax^2 + x (mod p).\n",
    "\n",
    "    Input:\n",
    "    - P, Q: Hai điểm dạng (x, y) trên đường cong Montgomery.\n",
    "    - A, B: Hệ số của đường cong elliptic.\n",
    "    - p: Modulo (trường hữu hạn).\n",
    "\n",
    "    Output:\n",
    "    - R: Điểm (x, y) = P + Q trên đường cong.\n",
    "    \"\"\"\n",
    "    if P is None:  # Nếu P là điểm vô cực\n",
    "        return Q\n",
    "    if Q is None:  # Nếu Q là điểm vô cực\n",
    "        return P\n",
    "\n",
    "    x1, y1 = P\n",
    "    x2, y2 = Q\n",
    "\n",
    "    # Trường hợp P = Q\n",
    "    if x1 == x2 and y1 == y2:\n",
    "        return montgomery_double(P, A, B, p)\n",
    "\n",
    "    # Trường hợp P != Q\n",
    "    if x1 == x2:\n",
    "        return None  # P + (-P) = O (Điểm vô cực)\n",
    "\n",
    "    # Tính α\n",
    "    alpha = (y2 - y1) * pow(x2 - x1, -1, p) % p\n",
    "\n",
    "    # Tính tọa độ x3, y3\n",
    "    x3 = (B * alpha**2 - A - x1 - x2) % p\n",
    "    y3 = (alpha * (x1 - x3) - y1) % p\n",
    "\n",
    "    return (x3, y3)\n",
    "\n",
    "\n",
    "def montgomery_double(P, A, B, p):\n",
    "    \"\"\"\n",
    "    Phép nhân đôi điểm P trên đường cong Montgomery E: By^2 = x^3 + Ax^2 + x (mod p).\n",
    "\n",
    "    Input:\n",
    "    - P: Điểm (x, y) trên đường cong Montgomery.\n",
    "    - A, B: Hệ số của đường cong elliptic.\n",
    "    - p: Modulo (trường hữu hạn).\n",
    "\n",
    "    Output:\n",
    "    - R: Điểm (x, y) = [2]P trên đường cong.\n",
    "    \"\"\"\n",
    "    if P is None:  # Nếu P là điểm vô cực\n",
    "        return None\n",
    "\n",
    "    x1, y1 = P\n",
    "\n",
    "    # Tính α\n",
    "    alpha = (3 * x1**2 + 2 * A * x1 + 1) * pow(2 * B * y1, -1, p) % p\n",
    "\n",
    "    # Tính tọa độ x3, y3\n",
    "    x3 = (B * alpha**2 - A - 2 * x1) % p\n",
    "    y3 = (alpha * (x1 - x3) - y1) % p\n",
    "\n",
    "    return (x3, y3)\n",
    "\n",
    "def montgomery_scalar_mult(k, P, A, B, p):\n",
    "    \"\"\"\n",
    "    Tính k * P trên đường cong Montgomery E: By^2 = x^3 + Ax^2 + x (mod p).\n",
    "\n",
    "    Input:\n",
    "    - k: Số nguyên (bậc nhân).\n",
    "    - P: Điểm (x, y) trên đường cong Montgomery.\n",
    "    - A, B: Hệ số của đường cong elliptic.\n",
    "    - p: Modulo (trường hữu hạn).\n",
    "\n",
    "    Output:\n",
    "    - R: Điểm (x, y) = k * P trên đường cong.\n",
    "    \"\"\"\n",
    "    if P is None or k == 0:\n",
    "        return None  # k * O = O hoặc 0 * P = O\n",
    "\n",
    "    R0 = None  # Điểm vô cực (O)\n",
    "    R1 = P     # Điểm ban đầu (P)\n",
    "\n",
    "    # Montgomery Ladder: duyệt qua các bit của k\n",
    "    for bit in bin(k)[2:]:\n",
    "        if bit == '0':\n",
    "            R1 = montgomery_add(R0, R1, A, B, p)  # R1 = R0 + R1\n",
    "            R0 = montgomery_double(R0, A, B, p)   # R0 = 2 * R0\n",
    "        else:\n",
    "            R0 = montgomery_add(R0, R1, A, B, p)  # R0 = R0 + R1\n",
    "            R1 = montgomery_double(R1, A, B, p)   # R1 = 2 * R1\n",
    "\n",
    "    return R0\n",
    "\n",
    "# Ví dụ\n",
    "p = pow(2, 255) - 19  # Modulo\n",
    "A = 486662   # Hệ số A\n",
    "B = 1  # Hệ số B\n",
    "\n",
    "Gx = 9\n",
    "Gybinh = (Gx**3+A*(Gx**2)+Gx) % p\n",
    "Gy = square_root(Gybinh, p)\n",
    "# Điểm P\n",
    "P = (Gx, Gy)\n",
    "print(P)\n",
    "\n",
    "# Tính k * P\n",
    "k = int(\"0x1337c0decafe\", 16)\n",
    "\n",
    "result = montgomery_scalar_mult(k, P, A, B, p)\n",
    "print(f\"{k} * P = {result}\")"
   ]
  }
 ],
 "metadata": {
  "kernelspec": {
   "display_name": "Python 3",
   "language": "python",
   "name": "python3"
  },
  "language_info": {
   "codemirror_mode": {
    "name": "ipython",
    "version": 3
   },
   "file_extension": ".py",
   "mimetype": "text/x-python",
   "name": "python",
   "nbconvert_exporter": "python",
   "pygments_lexer": "ipython3",
   "version": "3.11.9"
  }
 },
 "nbformat": 4,
 "nbformat_minor": 2
}
