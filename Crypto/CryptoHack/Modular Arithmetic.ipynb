{
 "cells": [
  {
   "cell_type": "code",
   "execution_count": 3,
   "metadata": {},
   "outputs": [
    {
     "name": "stdout",
     "output_type": "stream",
     "text": [
      "1512\n"
     ]
    }
   ],
   "source": [
    "import math\n",
    "print(math.gcd(66528, 52920))"
   ]
  },
  {
   "cell_type": "code",
   "execution_count": 5,
   "metadata": {},
   "outputs": [
    {
     "name": "stdout",
     "output_type": "stream",
     "text": [
      "gcd(26513, 32321) = 1\n",
      "u = 10245, v = -8404\n",
      "Xác minh: 26513 * 10245 + 32321 * -8404 = 1\n"
     ]
    }
   ],
   "source": [
    "def extended_gcd(a, b):\n",
    "    \"\"\"Hàm thực hiện thuật toán Euclid mở rộng.\n",
    "    Trả về gcd, u, v sao cho a*u + b*v = gcd(a, b).\n",
    "    \"\"\"\n",
    "    if b == 0:\n",
    "        return a, 1, 0\n",
    "    gcd, u1, v1 = extended_gcd(b, a % b)\n",
    "    u = v1\n",
    "    v = u1 - (a // b) * v1\n",
    "    return gcd, u, v\n",
    "\n",
    "# Giá trị p và q\n",
    "p = 26513\n",
    "q = 32321\n",
    "\n",
    "# Tìm gcd và các hệ số u, v\n",
    "gcd, u, v = extended_gcd(p, q)\n",
    "\n",
    "print(f\"gcd({p}, {q}) = {gcd}\")\n",
    "print(f\"u = {u}, v = {v}\")\n",
    "print(f\"Xác minh: {p} * {u} + {q} * {v} = {gcd}\")\n"
   ]
  },
  {
   "cell_type": "code",
   "execution_count": 7,
   "metadata": {},
   "outputs": [
    {
     "name": "stdout",
     "output_type": "stream",
     "text": [
      "5 4\n"
     ]
    }
   ],
   "source": [
    "x = 11 % 6\n",
    "y = 8146798528947 % 17\n",
    "print(x, y)"
   ]
  },
  {
   "cell_type": "code",
   "execution_count": 9,
   "metadata": {},
   "outputs": [
    {
     "name": "stdout",
     "output_type": "stream",
     "text": [
      "3\n",
      "5\n",
      "1\n",
      "1\n"
     ]
    }
   ],
   "source": [
    "print(pow(3, 17, 17))\n",
    "print(pow(5, 17, 17))\n",
    "print(pow(7, 16, 17))\n",
    "print(pow(273246787654, 65536, 65537))"
   ]
  },
  {
   "cell_type": "code",
   "execution_count": 10,
   "metadata": {},
   "outputs": [
    {
     "data": {
      "text/plain": [
       "9"
      ]
     },
     "execution_count": 10,
     "metadata": {},
     "output_type": "execute_result"
    }
   ],
   "source": [
    "pow(3, -1, 13)"
   ]
  },
  {
   "cell_type": "code",
   "execution_count": 12,
   "metadata": {},
   "outputs": [
    {
     "name": "stdout",
     "output_type": "stream",
     "text": [
      "1 * 1 = 1\n",
      "2 * 2 = 4\n",
      "3 * 3 = 9\n",
      "4 * 4 = 16\n",
      "5 * 5 = 25\n",
      "6 * 6 = 7\n",
      "7 * 7 = 20\n",
      "8 * 8 = 6\n",
      "9 * 9 = 23\n",
      "10 * 10 = 13\n",
      "11 * 11 = 5\n",
      "12 * 12 = 28\n",
      "13 * 13 = 24\n",
      "14 * 14 = 22\n",
      "15 * 15 = 22\n",
      "16 * 16 = 24\n",
      "17 * 17 = 28\n",
      "18 * 18 = 5\n",
      "19 * 19 = 13\n",
      "20 * 20 = 23\n",
      "21 * 21 = 6\n",
      "22 * 22 = 20\n",
      "23 * 23 = 7\n",
      "24 * 24 = 25\n",
      "25 * 25 = 16\n",
      "26 * 26 = 9\n",
      "27 * 27 = 4\n",
      "[8, 21]\n"
     ]
    }
   ],
   "source": [
    "p = 29\n",
    "ints=[14,6,11]\n",
    "ans = []\n",
    "for i in range(1, 28):\n",
    "    print(f\"{i} * {i} = {pow(i, 2, 29)}\")\n",
    "    if pow(i, 2, 29) in ints: ans.append(i)\n",
    "print(ans)"
   ]
  }
 ],
 "metadata": {
  "kernelspec": {
   "display_name": "Python 3",
   "language": "python",
   "name": "python3"
  },
  "language_info": {
   "codemirror_mode": {
    "name": "ipython",
    "version": 3
   },
   "file_extension": ".py",
   "mimetype": "text/x-python",
   "name": "python",
   "nbconvert_exporter": "python",
   "pygments_lexer": "ipython3",
   "version": "3.11.9"
  }
 },
 "nbformat": 4,
 "nbformat_minor": 2
}
