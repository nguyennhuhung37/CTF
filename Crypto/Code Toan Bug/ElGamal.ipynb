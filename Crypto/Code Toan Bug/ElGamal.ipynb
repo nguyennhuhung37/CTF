{
 "cells": [
  {
   "cell_type": "code",
   "execution_count": 1,
   "metadata": {},
   "outputs": [
    {
     "name": "stdout",
     "output_type": "stream",
     "text": [
      "public key: (181, 75, 9)\n",
      "private key: (181, 75, 59)\n",
      "encrypted text: [(80, 25), (13, 122), (42, 179), (13, 113)]\n"
     ]
    }
   ],
   "source": [
    "from sympy import mod_inverse, isprime, primerange\n",
    "import random\n",
    "\n",
    "def generate_prime(bits=8):\n",
    "    primes = list(primerange(2**(bits-1), 2**bits))\n",
    "    return random.choice(primes)\n",
    "\n",
    "def elgamal_key_generation(bits=8):\n",
    "    p = generate_prime(bits)\n",
    "    g = random.randint(2, p-1)\n",
    "    x = random.randint(1, p-2)\n",
    "    y = pow(g, x, p)\n",
    "    return (p, g, y), (p, g, x)\n",
    "\n",
    "def elgamal_encrypt(message, public_key):\n",
    "    p, g, y = public_key\n",
    "    encrypted_message = []\n",
    "    \n",
    "    for m in message:\n",
    "        k = random.randint(1, p-2)\n",
    "        c1 = pow(g, k, p)\n",
    "        c2 = (ord(m) * pow(y, k, p)) % p\n",
    "        encrypted_message.append((c1, c2))\n",
    "    \n",
    "    return encrypted_message\n",
    "\n",
    "\n",
    "public_key, private_key = elgamal_key_generation(bits=8)\n",
    "\n",
    "\n",
    "flag = \"flag\"\n",
    "encrypted_text = elgamal_encrypt(flag, public_key)\n",
    "\n",
    "\n",
    "print(f\"public key: {public_key}\")\n",
    "print(f\"private key: {private_key}\")\n",
    "print(f\"encrypted text: {encrypted_text}\")"
   ]
  },
  {
   "cell_type": "code",
   "execution_count": 5,
   "metadata": {},
   "outputs": [
    {
     "name": "stdout",
     "output_type": "stream",
     "text": [
      "CODE_TOAN_BUG{OHHHHHHH-Y0u-CANNN-DEcrypt?????_ProPlayerrrr}"
     ]
    }
   ],
   "source": [
    "public_key = (157, 27, 39)\n",
    "private_key = (157, 27, 74)\n",
    "encrypted_text = [(156, 67), (67, 129), (101, 122), (93, 38), (111, 43), (93, 135), (99, 65), (1, 65), (93, 2), (82, 74), (16, 83), (56, 74), (16, 144), (130, 87), (99, 65), (39, 63), (16, 62), (67, 50), (1, 72), (118, 63), (93, 26), (56, 83), (58, 41), (46, 113), (143, 140), (118, 122), (108, 32), (75, 153), (93, 54), (93, 2), (141, 41), (1, 78), (14, 92), (67, 117), (93, 38), (118, 67), (108, 102), (27, 9), (67, 8), (101, 125), (101, 53), (141, 15), (58, 26), (14, 66), (49, 139), (27, 94), (14, 24), (27, 50), (39, 156), (118, 70), (82, 99), (4, 66), (99, 30), (90, 153), (49, 102), (27, 50), (56, 66), (4, 63), (64, 128)]\n",
    "\n",
    "p, g, h = public_key\n",
    "x = private_key[2]\n",
    "\n",
    "for c1, c2 in encrypted_text:\n",
    "    s = pow(c1, x, p)\n",
    "    m = c2 * pow(s, -1, p) % p\n",
    "    print(chr(m), end='')"
   ]
  }
 ],
 "metadata": {
  "kernelspec": {
   "display_name": "Python 3",
   "language": "python",
   "name": "python3"
  },
  "language_info": {
   "codemirror_mode": {
    "name": "ipython",
    "version": 3
   },
   "file_extension": ".py",
   "mimetype": "text/x-python",
   "name": "python",
   "nbconvert_exporter": "python",
   "pygments_lexer": "ipython3",
   "version": "3.11.9"
  }
 },
 "nbformat": 4,
 "nbformat_minor": 2
}
