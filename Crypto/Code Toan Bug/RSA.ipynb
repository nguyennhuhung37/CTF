{
 "cells": [
  {
   "cell_type": "code",
   "execution_count": 1,
   "metadata": {},
   "outputs": [
    {
     "name": "stdout",
     "output_type": "stream",
     "text": [
      "Public Key: (65537, 3233)\n",
      "Private Key: 2753\n",
      "Encrypted text: [1369, 745, 1632, 2923]\n"
     ]
    }
   ],
   "source": [
    "from sympy import mod_inverse\n",
    "\n",
    "def rsa_key_generation(p, q):\n",
    "    n = p * q\n",
    "    phi_n = (p - 1) * (q - 1)\n",
    "    \n",
    "    e = 65537 \n",
    "    d = mod_inverse(e, phi_n)\n",
    "    \n",
    "    return (e, n), d \n",
    "\n",
    "def rsa_encrypt(plaintext, public_key):\n",
    "    e, n = public_key\n",
    "    encrypted = [pow(ord(char), e, n) for char in plaintext]\n",
    "    return encrypted\n",
    "\n",
    "\n",
    "p = 61  \n",
    "q = 53\n",
    "public_key, private_key = rsa_key_generation(p, q)\n",
    "\n",
    "flag = \"flag\"\n",
    "encrypted_text = rsa_encrypt(flag, public_key)\n",
    "\n",
    "print(f\"Public Key: {public_key}\")\n",
    "print(f\"Private Key: {private_key}\")\n",
    "print(f\"Encrypted text: {encrypted_text}\")\n"
   ]
  },
  {
   "cell_type": "code",
   "execution_count": null,
   "metadata": {},
   "outputs": [],
   "source": [
    "def rsa_decrypt(plaintext, public_key):\n",
    "    e, n = public_key\n",
    "    encrypted = [pow(ord(char), e, n) for char in plaintext]\n",
    "    return encrypted"
   ]
  },
  {
   "cell_type": "code",
   "execution_count": 5,
   "metadata": {},
   "outputs": [
    {
     "name": "stdout",
     "output_type": "stream",
     "text": [
      "CODE_TOAN_BUG{M-y-RsA-sShDD-hahahHH}"
     ]
    }
   ],
   "source": [
    "Public_Key = (65537, 3233)\n",
    "Private_Key = 2753\n",
    "Encrypted_text = [641, 1307, 1759, 28, 119, 2159, 1307, 2790, 3165, 119, 524, 2310, 669, 855, 3123, 1086, 487, 1086, 1859, 1230, 2790, 1086, 1230, 2680, 2170, 1759, 1759, 1086, 2170, 1632, 2170, 1632, 2170, 3000, 3000, 1516]\n",
    "e, n = Public_Key\n",
    "d = Private_Key\n",
    "for i in Encrypted_text:\n",
    "    print(chr(pow(i, d, n)), end='')"
   ]
  },
  {
   "cell_type": "code",
   "execution_count": null,
   "metadata": {},
   "outputs": [],
   "source": []
  }
 ],
 "metadata": {
  "kernelspec": {
   "display_name": "Python 3",
   "language": "python",
   "name": "python3"
  },
  "language_info": {
   "codemirror_mode": {
    "name": "ipython",
    "version": 3
   },
   "file_extension": ".py",
   "mimetype": "text/x-python",
   "name": "python",
   "nbconvert_exporter": "python",
   "pygments_lexer": "ipython3",
   "version": "3.11.9"
  }
 },
 "nbformat": 4,
 "nbformat_minor": 2
}
