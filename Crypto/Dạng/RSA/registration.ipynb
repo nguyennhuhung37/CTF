{
 "cells": [
  {
   "cell_type": "code",
   "execution_count": 4,
   "metadata": {},
   "outputs": [
    {
     "name": "stdout",
     "output_type": "stream",
     "text": [
      "1\n",
      "ENO{ha5h_ev3ryth1ng_th3y_s4id_s00o_s3cur3}\n",
      "\n"
     ]
    }
   ],
   "source": [
    "from pwn import *\n",
    "from egcd import egcd\n",
    "from hashlib import sha256\n",
    "from Crypto.Util import number\n",
    "\n",
    "context.log_level = 'critical'\n",
    "# ctx = process([\"python3\", \"chall.py\"])\n",
    "ctx = remote(\"52.59.124.14\", 5026)\n",
    "\n",
    "begin = ctx.recvuntil(b\"> \").split(b\"\\n\")\n",
    "n = int(begin[0].decode().split(\" \")[2])\n",
    "a = int(begin[1].decode().split(\" \")[2])\n",
    "e = int(begin[2].decode().split(\" \")[2])\n",
    "\n",
    "ctx.sendline(b\"1\")\n",
    "answer = ctx.recvuntil(b\"> \").split(b\"\\n\")\n",
    "c1 = bytes.fromhex(answer[0].decode().split(\" \")[1])\n",
    "s1 = int(answer[1].decode().split(\" \")[1])\n",
    "h1 = number.bytes_to_long(sha256(c1).digest())\n",
    "\n",
    "\n",
    "ctx.sendline(b\"1\")\n",
    "answer = ctx.recvuntil(b\"> \").split(b\"\\n\")\n",
    "c2 = bytes.fromhex(answer[0].decode().split(\" \")[1])\n",
    "s2 = int(answer[1].decode().split(\" \")[1])\n",
    "h2 = number.bytes_to_long(sha256(c2).digest())\n",
    "\n",
    "gcd, u, v = egcd(h1, h2)\n",
    "assert gcd == 1 # Just restart if it's the case\n",
    "print(u*h1 + v*h2)\n",
    "\n",
    "ctx.sendline(b\"2\")\n",
    "answer = ctx.recvuntil(b\"Signature: \").split(b\"\\n\")\n",
    "c3 = bytes.fromhex(answer[0].decode().split(\" \")[1])\n",
    "h3 = number.bytes_to_long(sha256(c3).digest())\n",
    "\n",
    "to_send = pow(pow(s1, u, n)*pow(s2, v, n), h3, n)\n",
    "\n",
    "ctx.sendline(str(to_send).encode())\n",
    "print(ctx.recvline().decode())\n"
   ]
  }
 ],
 "metadata": {
  "kernelspec": {
   "display_name": "Python 3",
   "language": "python",
   "name": "python3"
  },
  "language_info": {
   "codemirror_mode": {
    "name": "ipython",
    "version": 3
   },
   "file_extension": ".py",
   "mimetype": "text/x-python",
   "name": "python",
   "nbconvert_exporter": "python",
   "pygments_lexer": "ipython3",
   "version": "3.11.9"
  }
 },
 "nbformat": 4,
 "nbformat_minor": 2
}
