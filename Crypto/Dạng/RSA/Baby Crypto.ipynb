{
 "cells": [
  {
   "cell_type": "code",
   "execution_count": 6,
   "metadata": {},
   "outputs": [
    {
     "name": "stdout",
     "output_type": "stream",
     "text": [
      "b'BITSCTF{r54_0r4acl3_h4s_g0t_t0_b3_0n3_0f_7h3_3as13st_crypt0_1n_my_0p1n10n_74b15203}'\n"
     ]
    }
   ],
   "source": [
    "from Crypto.Util.number import *\n",
    "from pwn import *\n",
    "\n",
    "context.log_level = 'critical'\n",
    "\n",
    "p = remote(\"chals.bitskrieg.in\", 7000)\n",
    "n = int(p.recvline().decode()[4:])\n",
    "p.recvline().decode()\n",
    "e = 65537\n",
    "ct = int(p.recvline().decode()[5:])\n",
    "m1 = 2\n",
    "c1 = pow(m1, e, n)\n",
    "p.recvuntil(b': ')\n",
    "p.sendline(str(c1 * ct).encode())\n",
    "p.recvuntil(b'seek : ')\n",
    "A = int(p.recvline().decode())\n",
    "m = A * pow(2, -1, n) % n\n",
    "print(long_to_bytes(m))\n",
    "\n"
   ]
  }
 ],
 "metadata": {
  "kernelspec": {
   "display_name": "Python 3",
   "language": "python",
   "name": "python3"
  },
  "language_info": {
   "codemirror_mode": {
    "name": "ipython",
    "version": 3
   },
   "file_extension": ".py",
   "mimetype": "text/x-python",
   "name": "python",
   "nbconvert_exporter": "python",
   "pygments_lexer": "ipython3",
   "version": "3.11.9"
  }
 },
 "nbformat": 4,
 "nbformat_minor": 2
}
