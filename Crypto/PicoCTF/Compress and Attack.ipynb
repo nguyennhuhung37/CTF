{
 "cells": [
  {
   "cell_type": "code",
   "execution_count": 18,
   "metadata": {},
   "outputs": [
    {
     "name": "stdout",
     "output_type": "stream",
     "text": [
      "47 b'\\xde\\x8f\\xa6\\xe8\\xe7\\x9c\\x8f~\\x9c\\xd2\\xbeo6)\\xd1\\xc8\\x9c*\\x97N\\xca\\x99X\\\\!\\x7f\\x00!\\xf0K\\xe5e\\xa7\\x8b\\x9fT\\xc9\\x87s-[\\x98\\xfd\\xa1\\x12H\\xad'\n",
      "50 b'\\xed\\x19\\x8e|fDo&\\xd5\\x91\\xaa\\xa1\\xf9\\xb9\\x95\\xd9\\xc0dd6\\xe4)\\xf8\\xf6\\xeeI\\x8f9\\x8d\\x8b\\x91\\xf4\\x99\\x1c\\xf9\\xef\\t\\\\\\n\\x00\\xa3\\xf6\\xad\\x98:\\xf7\\x1d\\x9e\\x91\\x92'\n",
      "51 b'J\\xd9\\xe6tE\\\\\\xfdZe-#6\\x99\\x98\\x1d\\xc2~%OV\\xfc\\\\\\xf8\\xbf\\xb6\\xe09u\\x18p\\x93fX\\xd5\\xf4HA\\xfb\\xa3\\x95X\\xb0\\x90_v\\x81\\x88\\x1c\\xb2\\xac\\x18'\n"
     ]
    }
   ],
   "source": [
    "import zlib\n",
    "from Crypto.Cipher import Salsa20\n",
    "import os\n",
    "\n",
    "\n",
    "def encrypt(plaintext):\n",
    "    secret = os.urandom(32)\n",
    "    cipher = Salsa20.new(key=secret)\n",
    "    return cipher.nonce + cipher.encrypt(plaintext)\n",
    "\n",
    "\n",
    "def compress(text):\n",
    "    return zlib.compress(bytes(text.encode(\"utf-8\")))\n",
    "\n",
    "\n",
    "posschars = []\n",
    "for i in range(26):\n",
    "        posschars.append(chr(ord('a') + i))\n",
    "for i in range(26):\n",
    "        posschars.append(chr(ord('A') + i))\n",
    "for i in range(10):\n",
    "        posschars.append(str(i))\n",
    "posschars.append('{')\n",
    "posschars.append('}')\n",
    "posschars.append('_')\n",
    "\n",
    "\n",
    "testflag = 'picoCTF{afhdoa_385yhLsjk_t4Sg6}'\n",
    "add = ''\n",
    "res = encrypt(compress(testflag + add))\n",
    "print(len(res), res)\n",
    "add = 'picoCTF{afh'\n",
    "res = encrypt(compress(testflag + add))\n",
    "print(len(res), res)\n",
    "add = 'picoCTF{afc'\n",
    "res = encrypt(compress(testflag + add))\n",
    "print(len(res), res)\n"
   ]
  },
  {
   "cell_type": "code",
   "execution_count": 3,
   "metadata": {},
   "outputs": [
    {
     "name": "stdout",
     "output_type": "stream",
     "text": [
      "['a', 'b', 'c', 'd', 'e', 'f', 'g', 'h', 'i', 'j', 'k', 'l', 'm', 'n', 'o', 'p', 'q', 'r', 's', 't', 'u', 'v', 'w', 'x', 'y', 'z', 'A', 'B', 'C', 'D', 'E', 'F', 'G', 'H', 'I', 'J', 'K', 'L', 'M', 'N', 'O', 'P', 'Q', 'R', 'S', 'T', 'U', 'V', 'W', 'X', 'Y', 'Z', '0', '1', '2', '3', '4', '5', '6', '7', '8', '9', '{', '}', '_']\n",
      "[x] Opening connection to mercury.picoctf.net on port 29350\n",
      "[x] Opening connection to mercury.picoctf.net on port 29350: Trying 18.189.209.142\n",
      "[+] Opening connection to mercury.picoctf.net on port 29350: Done\n"
     ]
    },
    {
     "name": "stderr",
     "output_type": "stream",
     "text": [
      "C:\\Users\\Admin\\AppData\\Local\\Temp\\ipykernel_4812\\2172283053.py:21: BytesWarning: Text is not bytes; assuming ASCII, no guarantees. See https://docs.pwntools.com/#bytes\n",
      "  target.sendline(payload)\n"
     ]
    },
    {
     "name": "stdout",
     "output_type": "stream",
     "text": [
      "48\n",
      "[*] Closed connection to mercury.picoctf.net port 29350\n",
      "[x] Opening connection to mercury.picoctf.net on port 29350\n",
      "[x] Opening connection to mercury.picoctf.net on port 29350: Trying 18.189.209.142\n",
      "[+] Opening connection to mercury.picoctf.net on port 29350: Done\n",
      "[*] Closed connection to mercury.picoctf.net port 29350\n",
      "[x] Opening connection to mercury.picoctf.net on port 29350\n",
      "[x] Opening connection to mercury.picoctf.net on port 29350: Trying 18.189.209.142\n",
      "[-] Opening connection to mercury.picoctf.net on port 29350: Failed\n"
     ]
    },
    {
     "ename": "KeyboardInterrupt",
     "evalue": "",
     "output_type": "error",
     "traceback": [
      "\u001b[1;31m---------------------------------------------------------------------------\u001b[0m",
      "\u001b[1;31mKeyboardInterrupt\u001b[0m                         Traceback (most recent call last)",
      "Cell \u001b[1;32mIn[3], line 33\u001b[0m\n\u001b[0;32m     31\u001b[0m send \u001b[38;5;241m=\u001b[39m payload \u001b[38;5;241m+\u001b[39m c\n\u001b[0;32m     32\u001b[0m send \u001b[38;5;241m=\u001b[39m send\u001b[38;5;241m.\u001b[39mencode()\n\u001b[1;32m---> 33\u001b[0m target \u001b[38;5;241m=\u001b[39m \u001b[43mremote\u001b[49m\u001b[43m(\u001b[49m\u001b[38;5;124;43m'\u001b[39;49m\u001b[38;5;124;43mmercury.picoctf.net\u001b[39;49m\u001b[38;5;124;43m'\u001b[39;49m\u001b[43m,\u001b[49m\u001b[43m \u001b[49m\u001b[38;5;241;43m29350\u001b[39;49m\u001b[43m)\u001b[49m\n\u001b[0;32m     34\u001b[0m target\u001b[38;5;241m.\u001b[39mrecv()\n\u001b[0;32m     35\u001b[0m target\u001b[38;5;241m.\u001b[39msendline(send)\n",
      "File \u001b[1;32m~\\AppData\\Local\\Packages\\PythonSoftwareFoundation.Python.3.11_qbz5n2kfra8p0\\LocalCache\\local-packages\\Python311\\site-packages\\pwnlib\\tubes\\remote.py:78\u001b[0m, in \u001b[0;36mremote.__init__\u001b[1;34m(self, host, port, fam, typ, ssl, sock, ssl_context, ssl_args, sni, *args, **kwargs)\u001b[0m\n\u001b[0;32m     76\u001b[0m fam \u001b[38;5;241m=\u001b[39m \u001b[38;5;28mself\u001b[39m\u001b[38;5;241m.\u001b[39m_get_family(fam)\n\u001b[0;32m     77\u001b[0m \u001b[38;5;28;01mtry\u001b[39;00m:\n\u001b[1;32m---> 78\u001b[0m     \u001b[38;5;28mself\u001b[39m\u001b[38;5;241m.\u001b[39msock   \u001b[38;5;241m=\u001b[39m \u001b[38;5;28;43mself\u001b[39;49m\u001b[38;5;241;43m.\u001b[39;49m\u001b[43m_connect\u001b[49m\u001b[43m(\u001b[49m\u001b[43mfam\u001b[49m\u001b[43m,\u001b[49m\u001b[43m \u001b[49m\u001b[43mtyp\u001b[49m\u001b[43m)\u001b[49m\n\u001b[0;32m     79\u001b[0m \u001b[38;5;28;01mexcept\u001b[39;00m socket\u001b[38;5;241m.\u001b[39mgaierror \u001b[38;5;28;01mas\u001b[39;00m e:\n\u001b[0;32m     80\u001b[0m     \u001b[38;5;28;01mif\u001b[39;00m e\u001b[38;5;241m.\u001b[39merrno \u001b[38;5;241m!=\u001b[39m socket\u001b[38;5;241m.\u001b[39mEAI_NONAME:\n",
      "File \u001b[1;32m~\\AppData\\Local\\Packages\\PythonSoftwareFoundation.Python.3.11_qbz5n2kfra8p0\\LocalCache\\local-packages\\Python311\\site-packages\\pwnlib\\tubes\\remote.py:121\u001b[0m, in \u001b[0;36mremote._connect\u001b[1;34m(self, fam, typ)\u001b[0m\n\u001b[0;32m    118\u001b[0m     sock\u001b[38;5;241m.\u001b[39msettimeout(timeout)\n\u001b[0;32m    120\u001b[0m \u001b[38;5;28;01mtry\u001b[39;00m:\n\u001b[1;32m--> 121\u001b[0m     sock\u001b[38;5;241m.\u001b[39mconnect(sockaddr)\n\u001b[0;32m    122\u001b[0m     \u001b[38;5;28;01mreturn\u001b[39;00m sock\n\u001b[0;32m    123\u001b[0m \u001b[38;5;28;01mexcept\u001b[39;00m socks\u001b[38;5;241m.\u001b[39mProxyError:\n",
      "\u001b[1;31mKeyboardInterrupt\u001b[0m: "
     ]
    }
   ],
   "source": [
    "from pwn import *\n",
    "\n",
    "posschars = []\n",
    "for i in range(26):\n",
    "        posschars.append(chr(ord('a') + i))\n",
    "for i in range(26):\n",
    "        posschars.append(chr(ord('A') + i))\n",
    "for i in range(10):\n",
    "        posschars.append(str(i))\n",
    "posschars.append('{')\n",
    "posschars.append('}')\n",
    "posschars.append('_')\n",
    "\n",
    "\n",
    "print(posschars)\n",
    "\n",
    "\n",
    "payload = 'picoCTF{'\n",
    "target = remote('mercury.picoctf.net', 29350)\n",
    "target.recv()\n",
    "target.sendline(payload)\n",
    "target.recvline()\n",
    "target.recvline()\n",
    "maintain = int(target.recvline()[:-1].decode('utf-8'))\n",
    "print(maintain)\n",
    "target.close()\n",
    "\n",
    "\n",
    "while(True):\n",
    "        for c in posschars:\n",
    "                send = payload + c\n",
    "                send = send.encode()\n",
    "                target = remote('mercury.picoctf.net', 29350)\n",
    "                target.recv()\n",
    "                target.sendline(send)\n",
    "                target.recvline()\n",
    "                target.recvline()\n",
    "                length = int(target.recvline()[:-1].decode('utf-8'))\n",
    "                target.close()\n",
    "                if length == maintain:\n",
    "                        payload += c\n",
    "                        print(payload)\n",
    "        if payload[-1] == '}':\n",
    "                print('done')\n",
    "                break\n",
    "\n",
    "\n",
    "print(payload)\n"
   ]
  }
 ],
 "metadata": {
  "kernelspec": {
   "display_name": "Python 3",
   "language": "python",
   "name": "python3"
  },
  "language_info": {
   "codemirror_mode": {
    "name": "ipython",
    "version": 3
   },
   "file_extension": ".py",
   "mimetype": "text/x-python",
   "name": "python",
   "nbconvert_exporter": "python",
   "pygments_lexer": "ipython3",
   "version": "3.11.9"
  }
 },
 "nbformat": 4,
 "nbformat_minor": 2
}
