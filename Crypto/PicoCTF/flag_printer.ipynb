{
 "cells": [
  {
   "cell_type": "code",
   "execution_count": 4,
   "metadata": {},
   "outputs": [
    {
     "ename": "KeyboardInterrupt",
     "evalue": "",
     "output_type": "error",
     "traceback": [
      "\u001b[1;31m---------------------------------------------------------------------------\u001b[0m",
      "\u001b[1;31mKeyboardInterrupt\u001b[0m                         Traceback (most recent call last)",
      "Cell \u001b[1;32mIn[4], line 21\u001b[0m\n\u001b[0;32m     19\u001b[0m     row \u001b[38;5;241m=\u001b[39m []\n\u001b[0;32m     20\u001b[0m     \u001b[38;5;28;01mfor\u001b[39;00m i \u001b[38;5;129;01min\u001b[39;00m \u001b[38;5;28mrange\u001b[39m(\u001b[38;5;28mlen\u001b[39m(points)):\n\u001b[1;32m---> 21\u001b[0m         row\u001b[38;5;241m.\u001b[39mappend(\u001b[43mGF\u001b[49m\u001b[43m(\u001b[49m\u001b[43m(\u001b[49m\u001b[43mx\u001b[49m\u001b[43m \u001b[49m\u001b[38;5;241;43m*\u001b[39;49m\u001b[38;5;241;43m*\u001b[39;49m\u001b[43m \u001b[49m\u001b[43mi\u001b[49m\u001b[43m)\u001b[49m\u001b[43m \u001b[49m\u001b[38;5;241;43m%\u001b[39;49m\u001b[43m \u001b[49m\u001b[43mMOD\u001b[49m\u001b[43m)\u001b[49m)\n\u001b[0;32m     23\u001b[0m     matrix\u001b[38;5;241m.\u001b[39mappend(GF(row))\n\u001b[0;32m     25\u001b[0m \u001b[38;5;28mopen\u001b[39m(\u001b[38;5;124m'\u001b[39m\u001b[38;5;124moutput.bmp\u001b[39m\u001b[38;5;124m'\u001b[39m, \u001b[38;5;124m'\u001b[39m\u001b[38;5;124mwb\u001b[39m\u001b[38;5;124m'\u001b[39m)\u001b[38;5;241m.\u001b[39mwrite(\u001b[38;5;28mbytearray\u001b[39m(np\u001b[38;5;241m.\u001b[39mlinalg\u001b[38;5;241m.\u001b[39msolve(GF(matrix), GF(solution))\u001b[38;5;241m.\u001b[39mtolist()[:\u001b[38;5;241m-\u001b[39m\u001b[38;5;241m1\u001b[39m]))\n",
      "File \u001b[1;32m~\\AppData\\Local\\Packages\\PythonSoftwareFoundation.Python.3.11_qbz5n2kfra8p0\\LocalCache\\local-packages\\Python311\\site-packages\\galois\\_fields\\_array.py:70\u001b[0m, in \u001b[0;36mFieldArray.__new__\u001b[1;34m(cls, x, dtype, copy, order, ndmin)\u001b[0m\n\u001b[0;32m     64\u001b[0m \u001b[38;5;28;01mif\u001b[39;00m \u001b[38;5;28mcls\u001b[39m \u001b[38;5;129;01mis\u001b[39;00m FieldArray:\n\u001b[0;32m     65\u001b[0m     \u001b[38;5;28;01mraise\u001b[39;00m \u001b[38;5;167;01mNotImplementedError\u001b[39;00m(\n\u001b[0;32m     66\u001b[0m         \u001b[38;5;124m\"\u001b[39m\u001b[38;5;124mFieldArray is an abstract base class that cannot be directly instantiated. \u001b[39m\u001b[38;5;124m\"\u001b[39m\n\u001b[0;32m     67\u001b[0m         \u001b[38;5;124m\"\u001b[39m\u001b[38;5;124mInstead, create a FieldArray subclass for GF(p^m) arithmetic using `GF = galois.GF(p**m)` \u001b[39m\u001b[38;5;124m\"\u001b[39m\n\u001b[0;32m     68\u001b[0m         \u001b[38;5;124m\"\u001b[39m\u001b[38;5;124mand instantiate an array using `x = GF(array_like)`.\u001b[39m\u001b[38;5;124m\"\u001b[39m\n\u001b[0;32m     69\u001b[0m     )\n\u001b[1;32m---> 70\u001b[0m \u001b[38;5;28;01mreturn\u001b[39;00m \u001b[38;5;28msuper\u001b[39m()\u001b[38;5;241m.\u001b[39m\u001b[38;5;21m__new__\u001b[39m(\u001b[38;5;28mcls\u001b[39m, x, dtype, copy, order, ndmin)\n",
      "\u001b[1;31mKeyboardInterrupt\u001b[0m: "
     ]
    }
   ],
   "source": [
    "import galois\n",
    "import numpy as np\n",
    "MOD = 7514777789\n",
    "\n",
    "points = []\n",
    "\n",
    "for line in open('C:\\\\Users\\\\Admin\\\\Downloads\\\\encoded.txt', 'r').read().strip().split('\\n'):\n",
    "    x, y = line.split(' ')\n",
    "    points.append((int(x), int(y)))\n",
    "\n",
    "GF = galois.GF(MOD)\n",
    "\n",
    "matrix = []\n",
    "solution = []\n",
    "for point in points:\n",
    "    x, y = point\n",
    "    solution.append(GF(y % MOD))\n",
    "\n",
    "    row = []\n",
    "    for i in range(len(points)):\n",
    "        row.append(GF((x ** i) % MOD))\n",
    "    \n",
    "    matrix.append(GF(row))\n",
    "\n",
    "open('output.bmp', 'wb').write(bytearray(np.linalg.solve(GF(matrix), GF(solution)).tolist()[:-1]))\n"
   ]
  },
  {
   "cell_type": "code",
   "execution_count": 23,
   "metadata": {},
   "outputs": [
    {
     "ename": "Exception",
     "evalue": "SageMath kernel is required to run this script!",
     "output_type": "error",
     "traceback": [
      "\u001b[1;31m---------------------------------------------------------------------------\u001b[0m",
      "\u001b[1;31mNameError\u001b[0m                                 Traceback (most recent call last)",
      "Cell \u001b[1;32mIn[23], line 12\u001b[0m\n\u001b[0;32m     11\u001b[0m     K \u001b[38;5;241m=\u001b[39m GF(p)\n\u001b[1;32m---> 12\u001b[0m     R \u001b[38;5;241m=\u001b[39m \u001b[43mPolynomialRing\u001b[49m(K, \u001b[38;5;124m'\u001b[39m\u001b[38;5;124mx\u001b[39m\u001b[38;5;124m'\u001b[39m)\n\u001b[0;32m     13\u001b[0m \u001b[38;5;28;01mexcept\u001b[39;00m \u001b[38;5;167;01mNameError\u001b[39;00m:\n",
      "\u001b[1;31mNameError\u001b[0m: name 'PolynomialRing' is not defined",
      "\nDuring handling of the above exception, another exception occurred:\n",
      "\u001b[1;31mException\u001b[0m                                 Traceback (most recent call last)",
      "Cell \u001b[1;32mIn[23], line 14\u001b[0m\n\u001b[0;32m     12\u001b[0m     R \u001b[38;5;241m=\u001b[39m PolynomialRing(K, \u001b[38;5;124m'\u001b[39m\u001b[38;5;124mx\u001b[39m\u001b[38;5;124m'\u001b[39m)\n\u001b[0;32m     13\u001b[0m \u001b[38;5;28;01mexcept\u001b[39;00m \u001b[38;5;167;01mNameError\u001b[39;00m:\n\u001b[1;32m---> 14\u001b[0m     \u001b[38;5;28;01mraise\u001b[39;00m \u001b[38;5;167;01mException\u001b[39;00m(\u001b[38;5;124m\"\u001b[39m\u001b[38;5;124mSageMath kernel is required to run this script!\u001b[39m\u001b[38;5;124m\"\u001b[39m)\n",
      "\u001b[1;31mException\u001b[0m: SageMath kernel is required to run this script!"
     ]
    }
   ],
   "source": [
    "p = 7514777789-1\n",
    "\n",
    "X = []\n",
    "Y = []\n",
    "for line in open('C:\\\\Users\\\\Admin\\\\Downloads\\\\encoded.txt', 'r').read().strip().split('\\n'):\n",
    "    x, y = line.split(' ')\n",
    "    X.append(int(x))\n",
    "    Y.append(int(y))\n",
    "\n",
    "try:\n",
    "    K = GF(p)\n",
    "    R = PolynomialRing(K, 'x')\n",
    "except NameError:\n",
    "    raise Exception(\"SageMath kernel is required to run this script!\")"
   ]
  },
  {
   "cell_type": "code",
   "execution_count": 20,
   "metadata": {},
   "outputs": [
    {
     "name": "stdout",
     "output_type": "stream",
     "text": [
      "Solving for 1000 points...\n",
      "Solving for 500 points...\n",
      "Solving for 250 points...\n",
      "Solving for 125 points...\n",
      "Solving for 62 points...\n",
      "Solving for 31 points...\n",
      "Solving for 15 points...\n",
      "Solving for 7 points...\n"
     ]
    },
    {
     "ename": "TypeError",
     "evalue": "lagrange_poly() got an unexpected keyword argument 'field'",
     "output_type": "error",
     "traceback": [
      "\u001b[1;31m---------------------------------------------------------------------------\u001b[0m",
      "\u001b[1;31mTypeError\u001b[0m                                 Traceback (most recent call last)",
      "Cell \u001b[1;32mIn[20], line 66\u001b[0m\n\u001b[0;32m     63\u001b[0m     \u001b[38;5;28;01mfor\u001b[39;00m x, y \u001b[38;5;129;01min\u001b[39;00m \u001b[38;5;28mzip\u001b[39m(Xt, Yt):\n\u001b[0;32m     64\u001b[0m         \u001b[38;5;28;01massert\u001b[39;00m f(x) \u001b[38;5;241m==\u001b[39m y\n\u001b[1;32m---> 66\u001b[0m \u001b[43mtest\u001b[49m\u001b[43m(\u001b[49m\u001b[43m)\u001b[49m\n\u001b[0;32m     68\u001b[0m f \u001b[38;5;241m=\u001b[39m solve(X, Y)\n\u001b[0;32m     70\u001b[0m \u001b[38;5;28;01mwith\u001b[39;00m \u001b[38;5;28mopen\u001b[39m(\u001b[38;5;124m\"\u001b[39m\u001b[38;5;124moutput.bmp\u001b[39m\u001b[38;5;124m\"\u001b[39m, \u001b[38;5;124m\"\u001b[39m\u001b[38;5;124mwb\u001b[39m\u001b[38;5;124m\"\u001b[39m) \u001b[38;5;28;01mas\u001b[39;00m output_file:\n",
      "Cell \u001b[1;32mIn[20], line 62\u001b[0m, in \u001b[0;36mtest\u001b[1;34m()\u001b[0m\n\u001b[0;32m     60\u001b[0m Xt \u001b[38;5;241m=\u001b[39m X[:\u001b[38;5;241m1000\u001b[39m]\n\u001b[0;32m     61\u001b[0m Yt \u001b[38;5;241m=\u001b[39m Y[:\u001b[38;5;241m1000\u001b[39m]\n\u001b[1;32m---> 62\u001b[0m f \u001b[38;5;241m=\u001b[39m \u001b[43msolve\u001b[49m\u001b[43m(\u001b[49m\u001b[43mXt\u001b[49m\u001b[43m,\u001b[49m\u001b[43m \u001b[49m\u001b[43mYt\u001b[49m\u001b[43m)\u001b[49m\n\u001b[0;32m     63\u001b[0m \u001b[38;5;28;01mfor\u001b[39;00m x, y \u001b[38;5;129;01min\u001b[39;00m \u001b[38;5;28mzip\u001b[39m(Xt, Yt):\n\u001b[0;32m     64\u001b[0m     \u001b[38;5;28;01massert\u001b[39;00m f(x) \u001b[38;5;241m==\u001b[39m y\n",
      "Cell \u001b[1;32mIn[20], line 53\u001b[0m, in \u001b[0;36msolve\u001b[1;34m(X, Y)\u001b[0m\n\u001b[0;32m     50\u001b[0m     Y1, Z2 \u001b[38;5;241m=\u001b[39m comp(X1, Y1, X2)\n\u001b[0;32m     51\u001b[0m     Y2, Z1 \u001b[38;5;241m=\u001b[39m comp(X2, Y2, X1)\n\u001b[1;32m---> 53\u001b[0m f1 \u001b[38;5;241m=\u001b[39m \u001b[43msolve\u001b[49m\u001b[43m(\u001b[49m\u001b[43mX1\u001b[49m\u001b[43m,\u001b[49m\u001b[43m \u001b[49m\u001b[43mY1\u001b[49m\u001b[43m)\u001b[49m\n\u001b[0;32m     54\u001b[0m f2 \u001b[38;5;241m=\u001b[39m solve(X2, Y2)\n\u001b[0;32m     56\u001b[0m \u001b[38;5;28;01mreturn\u001b[39;00m f1 \u001b[38;5;241m*\u001b[39m Z2 \u001b[38;5;241m+\u001b[39m f2 \u001b[38;5;241m*\u001b[39m Z1\n",
      "Cell \u001b[1;32mIn[20], line 53\u001b[0m, in \u001b[0;36msolve\u001b[1;34m(X, Y)\u001b[0m\n\u001b[0;32m     50\u001b[0m     Y1, Z2 \u001b[38;5;241m=\u001b[39m comp(X1, Y1, X2)\n\u001b[0;32m     51\u001b[0m     Y2, Z1 \u001b[38;5;241m=\u001b[39m comp(X2, Y2, X1)\n\u001b[1;32m---> 53\u001b[0m f1 \u001b[38;5;241m=\u001b[39m \u001b[43msolve\u001b[49m\u001b[43m(\u001b[49m\u001b[43mX1\u001b[49m\u001b[43m,\u001b[49m\u001b[43m \u001b[49m\u001b[43mY1\u001b[49m\u001b[43m)\u001b[49m\n\u001b[0;32m     54\u001b[0m f2 \u001b[38;5;241m=\u001b[39m solve(X2, Y2)\n\u001b[0;32m     56\u001b[0m \u001b[38;5;28;01mreturn\u001b[39;00m f1 \u001b[38;5;241m*\u001b[39m Z2 \u001b[38;5;241m+\u001b[39m f2 \u001b[38;5;241m*\u001b[39m Z1\n",
      "    \u001b[1;31m[... skipping similar frames: solve at line 53 (4 times)]\u001b[0m\n",
      "Cell \u001b[1;32mIn[20], line 53\u001b[0m, in \u001b[0;36msolve\u001b[1;34m(X, Y)\u001b[0m\n\u001b[0;32m     50\u001b[0m     Y1, Z2 \u001b[38;5;241m=\u001b[39m comp(X1, Y1, X2)\n\u001b[0;32m     51\u001b[0m     Y2, Z1 \u001b[38;5;241m=\u001b[39m comp(X2, Y2, X1)\n\u001b[1;32m---> 53\u001b[0m f1 \u001b[38;5;241m=\u001b[39m \u001b[43msolve\u001b[49m\u001b[43m(\u001b[49m\u001b[43mX1\u001b[49m\u001b[43m,\u001b[49m\u001b[43m \u001b[49m\u001b[43mY1\u001b[49m\u001b[43m)\u001b[49m\n\u001b[0;32m     54\u001b[0m f2 \u001b[38;5;241m=\u001b[39m solve(X2, Y2)\n\u001b[0;32m     56\u001b[0m \u001b[38;5;28;01mreturn\u001b[39;00m f1 \u001b[38;5;241m*\u001b[39m Z2 \u001b[38;5;241m+\u001b[39m f2 \u001b[38;5;241m*\u001b[39m Z1\n",
      "Cell \u001b[1;32mIn[20], line 35\u001b[0m, in \u001b[0;36msolve\u001b[1;34m(X, Y)\u001b[0m\n\u001b[0;32m     32\u001b[0m \u001b[38;5;28mprint\u001b[39m(\u001b[38;5;124m\"\u001b[39m\u001b[38;5;124mSolving for\u001b[39m\u001b[38;5;124m\"\u001b[39m, n, \u001b[38;5;124m\"\u001b[39m\u001b[38;5;124mpoints...\u001b[39m\u001b[38;5;124m\"\u001b[39m)\n\u001b[0;32m     34\u001b[0m \u001b[38;5;28;01mif\u001b[39;00m n \u001b[38;5;241m<\u001b[39m\u001b[38;5;241m=\u001b[39m \u001b[38;5;241m10\u001b[39m:\n\u001b[1;32m---> 35\u001b[0m     \u001b[38;5;28;01mreturn\u001b[39;00m \u001b[43mgalois\u001b[49m\u001b[38;5;241;43m.\u001b[39;49m\u001b[43mlagrange_poly\u001b[49m\u001b[43m(\u001b[49m\u001b[43mX\u001b[49m\u001b[43m,\u001b[49m\u001b[43m \u001b[49m\u001b[43mY\u001b[49m\u001b[43m,\u001b[49m\u001b[43m \u001b[49m\u001b[43mfield\u001b[49m\u001b[38;5;241;43m=\u001b[39;49m\u001b[43mK\u001b[49m\u001b[43m)\u001b[49m\n\u001b[0;32m     37\u001b[0m nhalf \u001b[38;5;241m=\u001b[39m n \u001b[38;5;241m/\u001b[39m\u001b[38;5;241m/\u001b[39m \u001b[38;5;241m2\u001b[39m\n\u001b[0;32m     39\u001b[0m X1, Y1 \u001b[38;5;241m=\u001b[39m X[:nhalf], Y[:nhalf]\n",
      "\u001b[1;31mTypeError\u001b[0m: lagrange_poly() got an unexpected keyword argument 'field'"
     ]
    }
   ],
   "source": [
    "import multiprocessing as mp\n",
    "import galois\n",
    "import numpy as np\n",
    "\n",
    "MOD = 7514777789\n",
    "p = MOD  # Sử dụng giá trị hợp lệ cho phần tử trường hữu hạn\n",
    "\n",
    "X = []\n",
    "Y = []\n",
    "with open('C:\\\\Users\\\\Admin\\\\Downloads\\\\encoded.txt', 'r') as file:\n",
    "    for line in file.read().strip().split('\\n'):\n",
    "        x, y = line.split(' ')\n",
    "        X.append(int(x))\n",
    "        Y.append(int(y) % MOD)  # Điều chỉnh y để đảm bảo nó nằm trong phạm vi MOD\n",
    "\n",
    "# Khởi tạo trường hữu hạn GF(MOD)\n",
    "K = galois.GF(MOD)\n",
    "\n",
    "def compZ(X):\n",
    "    Z = K(1)\n",
    "    for xk in X:\n",
    "        Z *= galois.Poly([-xk, 1], field=K)  # Khởi tạo đa thức cho (x - xk)\n",
    "    return Z\n",
    "\n",
    "def comp(X, Y, Xother):\n",
    "    Z = compZ(Xother)\n",
    "    Y = [K(y) / Z(K(x)) for x, y in zip(X, Y)]  # Sửa lại phép chia\n",
    "    return Y, Z\n",
    "\n",
    "def solve(X, Y):\n",
    "    n = len(Y)\n",
    "    print(\"Solving for\", n, \"points...\")\n",
    "\n",
    "    if n <= 10:\n",
    "        return galois.lagrange_poly(X, Y, field=K)\n",
    "\n",
    "    nhalf = n // 2\n",
    "\n",
    "    X1, Y1 = X[:nhalf], Y[:nhalf]\n",
    "    X2, Y2 = X[nhalf:], Y[nhalf:]\n",
    "\n",
    "    if nhalf > 10000:\n",
    "        with mp.Pool(2) as pool:\n",
    "            result1 = pool.apply_async(comp, (X1, Y1, X2))\n",
    "            result2 = pool.apply_async(comp, (X2, Y2, X1))\n",
    "\n",
    "            Y1, Z2 = result1.get()\n",
    "            Y2, Z1 = result2.get()\n",
    "    else:\n",
    "        Y1, Z2 = comp(X1, Y1, X2)\n",
    "        Y2, Z1 = comp(X2, Y2, X1)\n",
    "\n",
    "    f1 = solve(X1, Y1)\n",
    "    f2 = solve(X2, Y2)\n",
    "\n",
    "    return f1 * Z2 + f2 * Z1\n",
    "\n",
    "if __name__ == \"__main__\":\n",
    "    def test():\n",
    "        Xt = X[:1000]\n",
    "        Yt = Y[:1000]\n",
    "        f = solve(Xt, Yt)\n",
    "        for x, y in zip(Xt, Yt):\n",
    "            assert f(x) == y\n",
    "\n",
    "    test()\n",
    "\n",
    "    f = solve(X, Y)\n",
    "\n",
    "    with open(\"output.bmp\", \"wb\") as output_file:\n",
    "        output_file.write(bytearray(f.coefficients(sparse=False)[:-1]))\n"
   ]
  }
 ],
 "metadata": {
  "kernelspec": {
   "display_name": "Python 3",
   "language": "python",
   "name": "python3"
  },
  "language_info": {
   "codemirror_mode": {
    "name": "ipython",
    "version": 3
   },
   "file_extension": ".py",
   "mimetype": "text/x-python",
   "name": "python",
   "nbconvert_exporter": "python",
   "pygments_lexer": "ipython3",
   "version": "3.11.9"
  }
 },
 "nbformat": 4,
 "nbformat_minor": 2
}
