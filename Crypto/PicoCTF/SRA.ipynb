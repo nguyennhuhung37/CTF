{
 "cells": [
  {
   "cell_type": "code",
   "execution_count": 5,
   "metadata": {},
   "outputs": [
    {
     "name": "stdout",
     "output_type": "stream",
     "text": [
      "78187947898741823723819901283859359942885026334130467448576246188178344330272\n",
      "anger = 25461241846687380852721936396768879586247592208384371177352986818521376720319\n",
      "envy = 72659422782200486599200504263101554825541705583526067092186690290959697647841\n",
      "vainglory?\n",
      "Hubris!\n"
     ]
    }
   ],
   "source": [
    "from Crypto.Util.number import getPrime, inverse, bytes_to_long\n",
    "from string import ascii_letters, digits\n",
    "from random import choice\n",
    "\n",
    "pride = \"\".join(choice(ascii_letters + digits) for _ in range(16))\n",
    "gluttony = getPrime(128)\n",
    "greed = getPrime(128)\n",
    "print((gluttony - 1) * (greed - 1))\n",
    "lust = gluttony * greed\n",
    "sloth = 65537\n",
    "envy = inverse(sloth, (gluttony - 1) * (greed - 1))\n",
    "\n",
    "anger = pow(bytes_to_long(pride.encode()), sloth, lust)\n",
    "\n",
    "print(f\"{anger = }\")\n",
    "print(f\"{envy = }\")\n",
    "\n",
    "print(\"vainglory?\")\n",
    "vainglory = input(\"> \").strip()\n",
    "\n",
    "if vainglory == pride:\n",
    "    print(\"Conquered!\")\n",
    "    with open(\"/challenge/flag.txt\") as f:\n",
    "        print(f.read())\n",
    "else:\n",
    "    print(\"Hubris!\")\n"
   ]
  },
  {
   "cell_type": "code",
   "execution_count": null,
   "metadata": {},
   "outputs": [
    {
     "name": "stdout",
     "output_type": "stream",
     "text": [
      "[x] Opening connection to saturn.picoctf.net on port 55778\n",
      "[x] Opening connection to saturn.picoctf.net on port 55778: Trying 13.59.203.175\n",
      "[+] Opening connection to saturn.picoctf.net on port 55778: Done\n"
     ]
    }
   ],
   "source": [
    "from pwn import remote\n",
    "from Crypto.Util.number import long_to_bytes\n",
    "\n",
    "conn = remote('saturn.picoctf.net', 55778)\n",
    "\n",
    "output = conn.recvuntil(b\"vainglory?\").decode()\n",
    "print(output)  \n",
    "\n",
    "sloth = 65537\n",
    "lines = output.splitlines()\n",
    "anger_line = lines[-3] \n",
    "anger = int(anger_line.split('= ')[1]) \n",
    "envy_line = lines[-2] \n",
    "envy = int(envy_line.split('= ')[1]) \n",
    "\n",
    "kphi = print(sloth * envy - 1)\n",
    "\n",
    "# Gửi pride vào input\n",
    "conn.sendline(\"5\")\n",
    "print(conn.recvall().decode())  # Nhận và in ra kết quả cuối cùng\n",
    "conn.close()  # Đóng kết nối\n"
   ]
  },
  {
   "cell_type": "code",
   "execution_count": null,
   "metadata": {},
   "outputs": [
    {
     "name": "stdout",
     "output_type": "stream",
     "text": [
      "5231294291382582432128719423441076464736750658569932525613739858176042143354944240\n",
      "87043762174113528683624864537368791898387137439945344315858085362514566458212\n"
     ]
    }
   ],
   "source": [
    "anger = 86416457058378576625326767439856513485474342688549161472382893060591648585291\n",
    "envy = 79821998129035238600007925651785654893216818874375276952160456813342724618993\n",
    "sloth = 65537\n",
    "kphi = print(sloth * envy - 1)\n",
    "print(87043762174113528683624864537368791898387137439945344315858085362514566458212)"
   ]
  },
  {
   "cell_type": "code",
   "execution_count": null,
   "metadata": {},
   "outputs": [
    {
     "name": "stdout",
     "output_type": "stream",
     "text": [
      "[x] Opening connection to saturn.picoctf.net on port 52357\n"
     ]
    },
    {
     "name": "stdout",
     "output_type": "stream",
     "text": [
      "[x] Opening connection to saturn.picoctf.net on port 52357: Trying 13.59.203.175\n",
      "[+] Opening connection to saturn.picoctf.net on port 52357: Done\n",
      "anger = 27342589194274352624750171130686549371121497826400483263605927110769460636498\n",
      "envy = 83137522450718146477012144332281982622211184143678362778283061364985166656545\n",
      "vainglory?\n",
      "5448583808852715165663944903104764295111854375224248861400336992677032867169989664\n",
      "insert factors (use https://www.alpertron.com.ar/ECM.HTM) -- make sure to replace powers with \"^\":\n",
      "[2, 2, 2, 2, 2, 3, 3, 17, 19, 23, 821, 2411, 35809, 5554207, 123314000270659046383, 52455832147628527555036392040053602243]\n",
      "[2, 2, 2, 3, 3, 17, 19, 23, 821, 2411, 35809, 5554207]\n",
      "computing factors 12\n",
      "10000 / 531441 0.018816764231589206\n",
      "20000 / 531441 0.03763352846317841\n",
      "30000 / 531441 0.056450292694767625\n",
      "40000 / 531441 0.07526705692635682\n",
      "50000 / 531441 0.09408382115794604\n",
      "b'QytfGDfTAGCQnlYr'\n",
      "b'QytfGDfTAGCQnlYr'\n",
      "60000 / 531441 0.11290058538953525\n",
      "70000 / 531441 0.13171734962112444\n",
      "80000 / 531441 0.15053411385271365\n",
      "90000 / 531441 0.16935087808430288\n",
      "100000 / 531441 0.1881676423158921\n",
      "110000 / 531441 0.2069844065474813\n",
      "120000 / 531441 0.2258011707790705\n",
      "130000 / 531441 0.2446179350106597\n",
      "b'QytfGDfTAGCQnlYr'\n",
      "b'QytfGDfTAGCQnlYr'\n",
      "140000 / 531441 0.2634346992422489\n",
      "150000 / 531441 0.2822514634738381\n",
      "160000 / 531441 0.3010682277054273\n",
      "170000 / 531441 0.3198849919370165\n",
      "180000 / 531441 0.33870175616860576\n",
      "190000 / 531441 0.35751852040019494\n",
      "200000 / 531441 0.3763352846317842\n",
      "210000 / 531441 0.39515204886337335\n",
      "220000 / 531441 0.4139688130949626\n",
      "230000 / 531441 0.43278557732655176\n",
      "240000 / 531441 0.451602341558141\n",
      "250000 / 531441 0.4704191057897302\n",
      "260000 / 531441 0.4892358700213194\n",
      "270000 / 531441 0.5080526342529086\n",
      "280000 / 531441 0.5268693984844978\n",
      "290000 / 531441 0.545686162716087\n",
      "300000 / 531441 0.5645029269476762\n",
      "310000 / 531441 0.5833196911792654\n",
      "320000 / 531441 0.6021364554108546\n",
      "330000 / 531441 0.6209532196424439\n",
      "340000 / 531441 0.639769983874033\n",
      "350000 / 531441 0.6585867481056222\n",
      "360000 / 531441 0.6774035123372115\n",
      "b'QytfGDfTAGCQnlYr'\n",
      "370000 / 531441 0.6962202765688007\n",
      "b'QytfGDfTAGCQnlYr'\n",
      "380000 / 531441 0.7150370408003899\n",
      "390000 / 531441 0.7338538050319791\n",
      "400000 / 531441 0.7526705692635683\n",
      "410000 / 531441 0.7714873334951575\n",
      "420000 / 531441 0.7903040977267467\n",
      "430000 / 531441 0.8091208619583359\n",
      "440000 / 531441 0.8279376261899252\n",
      "450000 / 531441 0.8467543904215143\n",
      "460000 / 531441 0.8655711546531035\n",
      "470000 / 531441 0.8843879188846927\n",
      "480000 / 531441 0.903204683116282\n",
      "490000 / 531441 0.9220214473478712\n",
      "500000 / 531441 0.9408382115794603\n",
      "510000 / 531441 0.9596549758110495\n",
      "520000 / 531441 0.9784717400426388\n",
      "530000 / 531441 0.997288504274228\n",
      "{b'QytfGDfTAGCQnlYr'}\n",
      "[x] Receiving all data\n",
      "[x] Receiving all data: 4B\n"
     ]
    },
    {
     "name": "stderr",
     "output_type": "stream",
     "text": [
      "C:\\Users\\Admin\\AppData\\Local\\Temp\\ipykernel_28828\\1008169514.py:72: BytesWarning: Text is not bytes; assuming ASCII, no guarantees. See https://docs.pwntools.com/#bytes\n",
      "  conn.sendline(pts_str)\n"
     ]
    },
    {
     "name": "stdout",
     "output_type": "stream",
     "text": [
      "[x] Receiving all data: 76B\n",
      "[+] Receiving all data: Done (76B)\n",
      "[*] Closed connection to saturn.picoctf.net port 52357\n",
      "\n",
      "> QytfGDfTAGCQnlYr\n",
      "Conquered!\n",
      "picoCTF{7h053_51n5_4r3_n0_m0r3_b2f9b414}\n",
      "\n"
     ]
    }
   ],
   "source": [
    "from Crypto.Util.number import long_to_bytes, bytes_to_long, size, inverse\n",
    "from math import gcd, prod\n",
    "import operator\n",
    "from functools import reduce\n",
    "import itertools\n",
    "from pwn import remote\n",
    "\n",
    "conn = remote('saturn.picoctf.net', 52357)\n",
    "\n",
    "output = conn.recvuntil(b\"vainglory?\").decode()\n",
    "print(output)  \n",
    "\n",
    "e = 65537\n",
    "lines = output.splitlines()\n",
    "anger_line = lines[-3] \n",
    "ct = int(anger_line.split('= ')[1]) \n",
    "envy_line = lines[-2] \n",
    "d = int(envy_line.split('= ')[1])\n",
    "\n",
    "# encrypt(m) = m**e mod n = c\n",
    "# d = e**-1 mod φ(n)\n",
    "# decrypt(c) = c**d mod n = m\n",
    "\n",
    "kφ = e * d - 1\n",
    "\n",
    "def parse_pow(x):\n",
    "    r = x.split('^')\n",
    "    if len(r) == 1:\n",
    "        return [int(r[0])]\n",
    "    else:\n",
    "        return [int(r[0])] * int(r[1])\n",
    "\n",
    "print(kφ)\n",
    "\n",
    "print('insert factors (use https://www.alpertron.com.ar/ECM.HTM) -- make sure to replace powers with \"^\":')\n",
    "factors_in = input()\n",
    "\n",
    "factors = sum([parse_pow(x.strip().replace(' ', '')) for x in factors_in.split('×')], [])\n",
    "print(factors)\n",
    "\n",
    "# remove some low hanging fruit\n",
    "pfac = factors[-1] # biggest prime factor goes to p\n",
    "qfac = factors[-2] # second biggest prime factor goes to q\n",
    "factors = factors[:-2] # remove the top two factors since we've already assigned them\n",
    "factors.remove(2) # used in p - 1 (since it's even)\n",
    "factors.remove(2) # used by q - 1 (since it's even)\n",
    "print(factors)\n",
    "\n",
    "print('computing factors', len(factors))\n",
    "T127 = 2**127\n",
    "T129 = 2**129\n",
    "ITERS = 3 ** len(factors)\n",
    "steps = 0\n",
    "pts = set()\n",
    "for c in itertools.product([0,1,2], repeat=len(factors)):\n",
    "    steps += 1\n",
    "    h     =            prod(factors[i] for i, x in enumerate(c) if x == 0)\n",
    "    psub1 = 2 * pfac * prod(factors[i] for i, x in enumerate(c) if x == 1)\n",
    "    qsub1 = 2 * qfac * prod(factors[i] for i, x in enumerate(c) if x == 2)\n",
    "    if h < e and T127 < psub1 < T129 and T127 < qsub1 < T129 and max(psub1+1, qsub1+1) < 2 * min(psub1+1, qsub1+1):\n",
    "        n = (psub1 + 1) * (qsub1 + 1)\n",
    "        pt = long_to_bytes(pow(ct, d, n))\n",
    "        # there's no deduplication of the factors so we end up with multiple ways of computing p and q\n",
    "        if len(pt) == 16:\n",
    "            pts.add(pt)\n",
    "            print(pt)\n",
    "    if steps % 10000 == 0:\n",
    "        print(steps, '/', ITERS, steps / ITERS)\n",
    "\n",
    "print(pts)\n",
    "pts_str = ' '.join(pt.decode('utf-8') for pt in pts)\n",
    "conn.sendline(pts_str)\n",
    "print(conn.recvall().decode()) \n",
    "conn.close()"
   ]
  }
 ],
 "metadata": {
  "kernelspec": {
   "display_name": "Python 3",
   "language": "python",
   "name": "python3"
  },
  "language_info": {
   "codemirror_mode": {
    "name": "ipython",
    "version": 3
   },
   "file_extension": ".py",
   "mimetype": "text/x-python",
   "name": "python",
   "nbconvert_exporter": "python",
   "pygments_lexer": "ipython3",
   "version": "3.11.9"
  }
 },
 "nbformat": 4,
 "nbformat_minor": 2
}
