{
 "cells": [
  {
   "cell_type": "code",
   "execution_count": 5,
   "metadata": {},
   "outputs": [
    {
     "name": "stderr",
     "output_type": "stream",
     "text": [
      "Bruteforcing 1st Key: 100%|██████████| 999999/999999 [00:16<00:00, 59095.81it/s]\n",
      "Bruteforcing 2nd Key: 100%|██████████| 999999/999999 [00:14<00:00, 70353.15it/s]"
     ]
    },
    {
     "name": "stdout",
     "output_type": "stream",
     "text": [
      "Finding Key Intersection...\n",
      "1st Key Found: b'133917  '\n",
      "2nd Key Found: b'979731  '\n",
      "Flag: 9af5126b7bc7f825b3cae0e32bd1acb4        \n"
     ]
    },
    {
     "name": "stderr",
     "output_type": "stream",
     "text": [
      "\n"
     ]
    }
   ],
   "source": [
    "import binascii\n",
    "from Crypto.Cipher import DES\n",
    "from tqdm import tqdm\n",
    "\n",
    "padding = \"  \"\n",
    "encrypted_flag = binascii.unhexlify(\"248fb6510ab25e0757a93f3570b8347d293a8188cfd7ce9fdb6b5e99a817334550c843edf7887492\")\n",
    "\n",
    "def pad(msg):\n",
    "    block_len = 8\n",
    "    over = len(msg) % block_len\n",
    "    pad = block_len - over\n",
    "    return (msg + \" \" * pad).encode()\n",
    "\n",
    "custom_known_text = pad(binascii.unhexlify(\"13371337\").decode())\n",
    "custom_ciphertext = binascii.unhexlify(\"ef5b67b14af05f57\")\n",
    "\n",
    "encrypt_table = {}\n",
    "for key in tqdm(range(999999), desc=\"Bruteforcing 1st Key\"):\n",
    "    key = (f\"{key:06}\" + padding).encode()\n",
    "    cipher = DES.new(key, DES.MODE_ECB)\n",
    "    encrypted_custom = cipher.encrypt(custom_known_text)\n",
    "    encrypt_table[encrypted_custom] = key\n",
    "\n",
    "decrypt_table = {}\n",
    "for key in tqdm(range(999999), desc=\"Bruteforcing 2nd Key\"):\n",
    "    key = (f\"{key:06}\" + padding).encode()\n",
    "    cipher = DES.new(key, DES.MODE_ECB)\n",
    "    decrypted_custom = cipher.decrypt(custom_ciphertext)\n",
    "    decrypt_table[decrypted_custom] = key\n",
    "\n",
    "print(\"Finding Key Intersection...\")\n",
    "encrypt_table_set = set(encrypt_table.keys())\n",
    "decrypt_table_set = set(decrypt_table.keys())\n",
    "for encrypt_decrypt_value in encrypt_table_set.intersection(decrypt_table_set):\n",
    "    encrypt_key = encrypt_table[encrypt_decrypt_value]\n",
    "    decrypt_key = decrypt_table[encrypt_decrypt_value]\n",
    "    break\n",
    "print(\"1st Key Found: %s\" % encrypt_key)\n",
    "print(\"2nd Key Found: %s\" % decrypt_key)\n",
    "\n",
    "cipher1 = DES.new(encrypt_key, DES.MODE_ECB)\n",
    "cipher2 = DES.new(decrypt_key, DES.MODE_ECB)\n",
    "flag_intermediate = cipher2.decrypt(encrypted_flag)\n",
    "flag = cipher1.decrypt(flag_intermediate).decode()\n",
    "print(\"Flag: %s\" % flag)"
   ]
  }
 ],
 "metadata": {
  "kernelspec": {
   "display_name": "Python 3",
   "language": "python",
   "name": "python3"
  },
  "language_info": {
   "codemirror_mode": {
    "name": "ipython",
    "version": 3
   },
   "file_extension": ".py",
   "mimetype": "text/x-python",
   "name": "python",
   "nbconvert_exporter": "python",
   "pygments_lexer": "ipython3",
   "version": "3.11.9"
  }
 },
 "nbformat": 4,
 "nbformat_minor": 2
}
