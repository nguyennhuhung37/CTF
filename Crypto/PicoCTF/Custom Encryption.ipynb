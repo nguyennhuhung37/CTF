{
 "cells": [
  {
   "cell_type": "code",
   "execution_count": 13,
   "id": "f69c3bd4",
   "metadata": {},
   "outputs": [
    {
     "name": "stdout",
     "output_type": "stream",
     "text": [
      "a = 92\n",
      "b = 31\n",
      "cipher is: [735826, 820729, 169806, 396214, 2122575, 2490488, 650923, 2179177, 2122575, 481117, 2348983, 113204, 0, 481117, 1811264, 650923, 2179177, 141505, 2264080, 56602, 1981070, 650923, 452816, 650923, 141505, 2603692, 2490488, 537719, 1924468, 1811264, 1981070, 2348983, 2433886, 141505, 650923, 509418, 1896167, 2009371, 2292381, 113204, 2264080, 481117, 1896167, 2094274, 2009371, 2462187, 537719, 2150876, 707525, 481117, 792428, 198107, 28301, 396214, 1726361, 452816, 707525, 764127, 28301, 283010, 452816, 537719, 1160341, 169806, 650923, 28301, 820729, 594321, 566020, 877331, 1132040, 594321, 764127, 367913, 226408, 0, 735826, 1075438, 1301846, 566020, 452816, 113204, 1047137, 141505, 113204, 1443351, 1160341, 283010, 339612, 339612, 481117, 1499953, 1301846, 169806, 622622, 0, 509418, 905632, 1132040, 2037672, 622622, 2518789, 84903, 2150876, 2490488]\n"
     ]
    }
   ],
   "source": [
    "from random import randint\n",
    "import sys\n",
    "\n",
    "\n",
    "def generator(g, x, p):\n",
    "    return pow(g, x) % p\n",
    "\n",
    "\n",
    "def encrypt(plaintext, key):\n",
    "    cipher = []\n",
    "    for char in plaintext:\n",
    "        cipher.append(((ord(char) * key*311)))\n",
    "    return cipher\n",
    "\n",
    "\n",
    "def is_prime(p):\n",
    "    v = 0\n",
    "    for i in range(2, p + 1):\n",
    "        if p % i == 0:\n",
    "            v = v + 1\n",
    "    if v > 1:\n",
    "        return False\n",
    "    else:\n",
    "        return True\n",
    "\n",
    "\n",
    "def dynamic_xor_encrypt(plaintext, text_key):\n",
    "    cipher_text = \"\"\n",
    "    key_length = len(text_key)\n",
    "    for i, char in enumerate(plaintext[::-1]):\n",
    "        key_char = text_key[i % key_length]\n",
    "        encrypted_char = chr(ord(char) ^ ord(key_char))\n",
    "        cipher_text += encrypted_char\n",
    "    return cipher_text\n",
    "\n",
    "\n",
    "def test(plain_text, text_key):\n",
    "    p = 97\n",
    "    g = 31\n",
    "    if not is_prime(p) and not is_prime(g):\n",
    "        print(\"Enter prime numbers\")\n",
    "        return\n",
    "    a = randint(p-10, p)\n",
    "    b = randint(g-10, g)\n",
    "    print(f\"a = {a}\")\n",
    "    print(f\"b = {b}\")\n",
    "    u = generator(g, a, p)\n",
    "    v = generator(g, b, p)\n",
    "    key = generator(v, a, p)\n",
    "    b_key = generator(u, b, p)\n",
    "    shared_key = None\n",
    "    if key == b_key:\n",
    "        shared_key = key\n",
    "    else:\n",
    "        print(\"Invalid key\")\n",
    "        return\n",
    "    semi_cipher = dynamic_xor_encrypt(plain_text, text_key)\n",
    "    cipher = encrypt(semi_cipher, shared_key)\n",
    "    print(f'cipher is: {cipher}')\n",
    "\n",
    "\n",
    "if __name__ == \"__main__\":\n",
    "    message = sys.argv[1]\n",
    "    test(message, \"trudeau\")"
   ]
  }
 ],
 "metadata": {
  "kernelspec": {
   "display_name": "Python 3",
   "language": "python",
   "name": "python3"
  },
  "language_info": {
   "codemirror_mode": {
    "name": "ipython",
    "version": 3
   },
   "file_extension": ".py",
   "mimetype": "text/x-python",
   "name": "python",
   "nbconvert_exporter": "python",
   "pygments_lexer": "ipython3",
   "version": "3.11.9"
  }
 },
 "nbformat": 4,
 "nbformat_minor": 5
}
