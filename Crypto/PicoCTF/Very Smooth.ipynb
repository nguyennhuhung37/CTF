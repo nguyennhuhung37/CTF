{
 "cells": [
  {
   "cell_type": "code",
   "execution_count": 2,
   "metadata": {},
   "outputs": [
    {
     "name": "stderr",
     "output_type": "stream",
     "text": [
      "  0%|          | 0/7000 [00:16<?, ?it/s]"
     ]
    },
    {
     "name": "stdout",
     "output_type": "stream",
     "text": [
      "166778678181685622576528273627655558408416154535903271612099666211650718813574353644982679332718906416639262976090347767411961612927781793104151632976133030663080503056699508483393432483211221435369665266139037807475222869716828564531056095553338227197069928344760597134918054695465937470622255206477029220627\n",
      "133403359244090432282498741122238666960102072347999139399194192684930601046915449960642287092839790447663496118648044185489682661151904512440107598783041356688524538695035027282386056258524355032597865645378353170572838674473248880702185307449067157154593351616151961260356975594350933975792987875901590674739\n",
      "Flag: picoCTF{p0ll4rd_f4ct0r1z4at10n_FTW_376ebfe7}\n"
     ]
    },
    {
     "name": "stderr",
     "output_type": "stream",
     "text": [
      "\n"
     ]
    }
   ],
   "source": [
    "# Python code for Pollard p-1 Factorization Method\n",
    "# Based on https://github.com/Ganapati/RsaCtfTool/blob/c13713a2808a03b15eb62e35605b9eb4271069cc/attacks/single_key/pollard_p_1.py\n",
    "\n",
    "import binascii\n",
    "import gmpy2\n",
    "import math\n",
    "from tqdm import tqdm\n",
    "\n",
    "\n",
    "def _primes_yield_gmpy(n):\n",
    "    p = i = 1\n",
    "    while i <= n:\n",
    "        p = gmpy2.next_prime(p)\n",
    "        yield p\n",
    "        i += 1\n",
    "\n",
    "\n",
    "def primes(n):\n",
    "    return list(_primes_yield_gmpy(n))\n",
    "\n",
    "\n",
    "def pollard_P_1(n, progress=True, num_primes=2000):\n",
    "    \"\"\"Pollard P1 implementation\"\"\"\n",
    "    z = []\n",
    "    logn = math.log(int(gmpy2.isqrt(n)))\n",
    "    prime = primes(num_primes)\n",
    "\n",
    "    for j in range(0, len(prime)):\n",
    "        primej = prime[j]\n",
    "        logp = math.log(primej)\n",
    "        for i in range(1, int(logn / logp) + 1):\n",
    "            z.append(primej)\n",
    "\n",
    "    try:\n",
    "        for pp in tqdm(prime, disable=(not progress)):\n",
    "            i = 0\n",
    "            x = pp\n",
    "            while 1:\n",
    "                x = gmpy2.powmod(x, z[i], n)\n",
    "                i = i + 1\n",
    "                y = gmpy2.gcd(n, x - 1)\n",
    "                if y != 1:\n",
    "                    p = y\n",
    "                    q = n // y\n",
    "                    return p, q\n",
    "                if i >= len(z):\n",
    "                    return 0, None\n",
    "    except TypeError:\n",
    "        return 0, None\n",
    "\n",
    "\n",
    "e = 0x10001\n",
    "c = 0xa913a96e215b5aa79c702d27fa375c73d06787639c4131fb32877cafefaa8faf70e15f6a17ef2a9a6f5310b157cb287b740e77cb5385081d1853a9104bc16357b259fa2d146bd87398d4ef6f1c078289812952c67792cf9cd745049aeb9d4ab4dff2825a9c0b3381f19b2a67164f9d4de33c25f98bc2f224feb5507b531e1a1c7be5ed2d8ddd01f3fae37245e8cf99c75a21848993d445e1d6d69d555a3e6cc8055704fdde88df9084bda3ea65a9384fa64bf8df4d88946449526320c15d4d2d871638070489adf3f8c95caffeab40b0d137a9319be20cdf6ebbaf037f62093d9bd33edd4ffd7e1929b9ab06252956fd85250a0515ef2b4e035017be5702cdd3\n",
    "n = 0xb03ea698ce2b51fb00e11e6fbaf1e5373dc5b0c70eb2b14a36d21e8667be8774eee51f6050a10237f6b24f21204fc8013681e7ed72ed051188f3274aae8f1de0d39389b514c196fa82c98a270bfabefd044da8c687b0e114ebbde82536c0709ac5ad81bfe0077e9d9b798ad5abecee52767e68f8060c45936521fd93893102eb1676f2ff41324a7a6b3dff2e830538e06d25934e9f14bf6b40ab5674fe648e314bf06f84282f5ef52bc1401de3a42eb66e64bcdadd2674348e5bdb7016feda44d719af387a948ad81cbaed10213dd930fc7bc7677d8c4cdab0645d0ff15e6ad6ca37135942c3be08f23e7be0992c8b3370dcdc31045e086d823107fb2e443dc9\n",
    "num_primes = 7_000\n",
    "p, q = pollard_P_1(n, num_primes=num_primes)\n",
    "print(p)\n",
    "print(q)\n",
    "if q is None:\n",
    "    print(\"Pollard p-1 Factorization Attack Failed. You can try increasing `num_primes`...\")\n",
    "else:\n",
    "    n = p * q\n",
    "\n",
    "    m = gmpy2.lcm(p - 1, q - 1)\n",
    "    d = pow(e, -1, m)\n",
    "\n",
    "    m = pow(c, d, n)\n",
    "    print(\"Flag: %s\" % binascii.unhexlify(hex(m)[2:]).decode())"
   ]
  }
 ],
 "metadata": {
  "kernelspec": {
   "display_name": "Python 3",
   "language": "python",
   "name": "python3"
  },
  "language_info": {
   "codemirror_mode": {
    "name": "ipython",
    "version": 3
   },
   "file_extension": ".py",
   "mimetype": "text/x-python",
   "name": "python",
   "nbconvert_exporter": "python",
   "pygments_lexer": "ipython3",
   "version": "3.11.9"
  }
 },
 "nbformat": 4,
 "nbformat_minor": 2
}
