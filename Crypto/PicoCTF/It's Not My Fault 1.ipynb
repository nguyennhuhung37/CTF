{
 "cells": [
  {
   "cell_type": "code",
   "execution_count": 3,
   "metadata": {},
   "outputs": [],
   "source": [
    "import random\n",
    "import string\n",
    "import hashlib\n",
    "import time\n",
    "\n",
    "from Crypto.Util.number import inverse, getPrime, bytes_to_long, GCD\n",
    "from sympy.ntheory.modular import solve_congruence"
   ]
  },
  {
   "cell_type": "code",
   "execution_count": 1,
   "metadata": {},
   "outputs": [],
   "source": [
    "## LINK: https://bitsdeep.com/posts/attacking-rsa-for-fun-and-ctf-points-part-4/#multi-prime-rsa"
   ]
  },
  {
   "cell_type": "code",
   "execution_count": 1,
   "metadata": {},
   "outputs": [
    {
     "name": "stdout",
     "output_type": "stream",
     "text": [
      "Chuỗi tìm được: 173931725545\n",
      "Hash MD5: 19ec24ed0d420486224061a154d39ac7\n"
     ]
    }
   ],
   "source": [
    "import hashlib\n",
    "\n",
    "def find_md5_suffix(prefix, suffix):\n",
    "    i = 0\n",
    "    while True:\n",
    "        candidate = f\"{prefix}{i}\"  # Thử với tiền tố cộng dãy số\n",
    "        md5_hash = hashlib.md5(candidate.encode()).hexdigest()\n",
    "        if md5_hash.endswith(suffix):\n",
    "            return candidate, md5_hash\n",
    "        i += 1\n",
    "\n",
    "# Thông số yêu cầu\n",
    "prefix = \"17393\"\n",
    "suffix = \"d39ac7\"\n",
    "\n",
    "result, hash_value = find_md5_suffix(prefix, suffix)\n",
    "print(f\"Chuỗi tìm được: {result}\")\n",
    "print(f\"Hash MD5: {hash_value}\")\n"
   ]
  },
  {
   "cell_type": "code",
   "execution_count": null,
   "metadata": {},
   "outputs": [
    {
     "name": "stdout",
     "output_type": "stream",
     "text": [
      "[x] Opening connection to mercury.picoctf.net on port 56093\n",
      "[x] Opening connection to mercury.picoctf.net on port 56093: Trying 18.189.209.142\n",
      "[+] Opening connection to mercury.picoctf.net on port 56093: Done\n",
      "[*] MD5 PoW string must start with 32886 and hash must end with 5087c6\n",
      "[x] Bruteforcing MD5 PoW\n",
      "[+] Bruteforcing MD5 PoW: MD5 PoW String Found: 328864631655\n",
      "[x] Getting public modulus and clue\n"
     ]
    },
    {
     "name": "stderr",
     "output_type": "stream",
     "text": [
      "C:\\Users\\Admin\\AppData\\Local\\Temp\\ipykernel_25972\\1443737777.py:39: BytesWarning: Text is not bytes; assuming ASCII, no guarantees. See https://docs.pwntools.com/#bytes\n",
      "  io.sendline(md5_solution)\n"
     ]
    },
    {
     "name": "stdout",
     "output_type": "stream",
     "text": [
      "[+] Getting public modulus and clue: Success\n",
      "[x] Bruteforcing RSA-CRT d_p\n"
     ]
    }
   ],
   "source": [
    "import re\n",
    "import random\n",
    "import hashlib\n",
    "import gmpy2\n",
    "from gmpy2 import mpz\n",
    "from functools import partial\n",
    "from multiprocessing import Pool\n",
    "from pwn import *\n",
    "\n",
    "host = args.HOST or \"mercury.picoctf.net\"\n",
    "port = int(args.PORT or 56093)\n",
    "\n",
    "\n",
    "def solve_md5(string_start, hash_end):\n",
    "    idx = 0\n",
    "    while True:\n",
    "        test_string = string_start + str(idx)\n",
    "        test_string_hash = str(hashlib.md5(test_string.encode(\"utf-8\")).hexdigest())\n",
    "\n",
    "        if test_string_hash[-len(hash_end) :] == hash_end:\n",
    "            return test_string\n",
    "\n",
    "        idx += 1\n",
    "\n",
    "\n",
    "io = connect(host, port)\n",
    "\n",
    "md5_pow_info = io.recvline().decode().strip()\n",
    "string_start = re.findall('\"(.*?)\"', md5_pow_info)[0]\n",
    "hash_end = md5_pow_info[-6:]\n",
    "\n",
    "log.info(\n",
    "    \"MD5 PoW string must start with %s and hash must end with %s\"\n",
    "    % (string_start, hash_end)\n",
    ")\n",
    "progress = log.progress(\"Bruteforcing MD5 PoW\")\n",
    "md5_solution = solve_md5(string_start, hash_end)\n",
    "progress.success(\"MD5 PoW String Found: %s\" % md5_solution)\n",
    "io.sendline(md5_solution)\n",
    "\n",
    "progress = log.progress(\"Getting public modulus and clue\")\n",
    "\n",
    "n = int(io.recvline().decode().strip().replace(\"Public Modulus :  \", \"\"))\n",
    "e = int(io.recvline().decode().strip().replace(\"Clue :  \", \"\"))\n",
    "\n",
    "progress.success(\"Success\")\n",
    "\n",
    "BITS = 20\n",
    "MAX_RANGE = 1 << BITS\n",
    "\n",
    "\n",
    "def bruteforce_test(d_p, e, n, m):\n",
    "    # Apply the algorithm from https://bitsdeep.com/posts/attacking-rsa-for-fun-and-ctf-points-part-4/\n",
    "    # to check if a value for `d_p` is correct\n",
    "    p = gmpy2.gcd(m - pow(m, e * d_p, n), n)\n",
    "\n",
    "    if p > 1:\n",
    "        # If the value of `d_p` is correct, then find `q` from the\n",
    "        # bruteforced value of `p`.\n",
    "        n = mpz(n)\n",
    "        q = n // p\n",
    "        return True, (mpz(p), mpz(q))\n",
    "\n",
    "    return False, d_p\n",
    "\n",
    "\n",
    "def bruteforce_solve(e, n, m, progress, num_process=6):\n",
    "    _bruteforce_test = partial(bruteforce_test, e=e, n=n, m=m)\n",
    "    pool = Pool(num_process)\n",
    "    # Loop through all possible values for `d_p` in chunks of 1000 using a pool\n",
    "    # of worker processes.\n",
    "    for return_values in pool.imap(_bruteforce_test, range(MAX_RANGE), chunksize=1000):\n",
    "        # If one of the values returns `True` then return the `(p, q)` tuple.\n",
    "        if return_values[0]:\n",
    "            return return_values[1]\n",
    "        # If the solution was not found, then log the progress\n",
    "        elif return_values[1] % 1000 == 0:\n",
    "            percent_complete = (return_values[1] / MAX_RANGE) * 100\n",
    "            progress.status(str(round(percent_complete, 2)) + \"%\")\n",
    "\n",
    "\n",
    "progress = log.progress(\"Bruteforcing RSA-CRT d_p\")\n",
    "m = random.randint(1000, 100_000)  # Random number as long as `m < n`\n",
    "p, q = bruteforce_solve(e, n, m, progress)\n",
    "progress.success(\"p=%i, q=%i\" % (p, q))\n",
    "# Add then convert the `mpz` values to string so they can be sent properly\n",
    "solution = str(p + q)\n",
    "\n",
    "io.sendline(solution)\n",
    "io.interactive()"
   ]
  }
 ],
 "metadata": {
  "kernelspec": {
   "display_name": "Python 3",
   "language": "python",
   "name": "python3"
  },
  "language_info": {
   "codemirror_mode": {
    "name": "ipython",
    "version": 3
   },
   "file_extension": ".py",
   "mimetype": "text/x-python",
   "name": "python",
   "nbconvert_exporter": "python",
   "pygments_lexer": "ipython3",
   "version": "3.11.9"
  }
 },
 "nbformat": 4,
 "nbformat_minor": 2
}
