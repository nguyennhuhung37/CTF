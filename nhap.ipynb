{
 "cells": [
  {
   "cell_type": "code",
   "execution_count": 15,
   "metadata": {},
   "outputs": [
    {
     "name": "stdout",
     "output_type": "stream",
     "text": [
      "Ciphertext: ¦æ>ÄC\u001fdà\u00175\n"
     ]
    }
   ],
   "source": [
    "import random\n",
    "\n",
    "def qkd_encrypt(plaintext, key):\n",
    "    encrypted = ''.join(chr(ord(c) ^ key[i % len(key)]) for i, c in enumerate(plaintext))\n",
    "    return encrypted\n",
    "\n",
    "key = [random.randint(0, 255) for _ in range(16)]\n",
    "flag = \"CTB{fake_flag}\"\n",
    "ciphertext = qkd_encrypt(flag, key)\n",
    "\n",
    "print(\"Ciphertext:\", ciphertext)\n"
   ]
  },
  {
   "cell_type": "code",
   "execution_count": 16,
   "metadata": {},
   "outputs": [],
   "source": [
    "c = \"¯TÛÃkÁÌ&$òñÕ?1pÄ║öCÚÌ%\"\n"
   ]
  },
  {
   "cell_type": "code",
   "execution_count": 17,
   "metadata": {},
   "outputs": [
    {
     "name": "stdout",
     "output_type": "stream",
     "text": [
      "19\n",
      "4\n"
     ]
    },
    {
     "data": {
      "text/plain": [
       "0"
      ]
     },
     "execution_count": 17,
     "metadata": {},
     "output_type": "execute_result"
    }
   ],
   "source": [
    "print(ord('V') - ord('C'))\n",
    "print(ord('X')- ord('T'))\n",
    "ord('B')- ord('B')"
   ]
  },
  {
   "cell_type": "code",
   "execution_count": 2,
   "metadata": {},
   "outputs": [
    {
     "ename": "KeyboardInterrupt",
     "evalue": "",
     "output_type": "error",
     "traceback": [
      "\u001b[1;31m---------------------------------------------------------------------------\u001b[0m",
      "\u001b[1;31mKeyboardInterrupt\u001b[0m                         Traceback (most recent call last)",
      "Cell \u001b[1;32mIn[2], line 8\u001b[0m\n\u001b[0;32m      6\u001b[0m q \u001b[38;5;241m=\u001b[39m \u001b[38;5;241m0\u001b[39m\n\u001b[0;32m      7\u001b[0m \u001b[38;5;28;01mwhile\u001b[39;00m \u001b[38;5;28;01mTrue\u001b[39;00m:\n\u001b[1;32m----> 8\u001b[0m     p \u001b[38;5;241m=\u001b[39m \u001b[43mgetPrime\u001b[49m\u001b[43m(\u001b[49m\u001b[38;5;241;43m2048\u001b[39;49m\u001b[43m)\u001b[49m\n\u001b[0;32m      9\u001b[0m     \u001b[38;5;28;01mif\u001b[39;00m n \u001b[38;5;241m%\u001b[39m p \u001b[38;5;241m==\u001b[39m \u001b[38;5;241m0\u001b[39m:\n\u001b[0;32m     10\u001b[0m         q \u001b[38;5;241m=\u001b[39m n \u001b[38;5;241m/\u001b[39m p\n",
      "File \u001b[1;32m~\\AppData\\Local\\Packages\\PythonSoftwareFoundation.Python.3.11_qbz5n2kfra8p0\\LocalCache\\local-packages\\Python311\\site-packages\\Crypto\\Util\\number.py:180\u001b[0m, in \u001b[0;36mgetPrime\u001b[1;34m(N, randfunc)\u001b[0m\n\u001b[0;32m    178\u001b[0m \u001b[38;5;28;01mwhile\u001b[39;00m \u001b[38;5;28;01mTrue\u001b[39;00m:\n\u001b[0;32m    179\u001b[0m     number \u001b[38;5;241m=\u001b[39m getRandomNBitInteger(N, randfunc) \u001b[38;5;241m|\u001b[39m \u001b[38;5;241m1\u001b[39m\n\u001b[1;32m--> 180\u001b[0m     \u001b[38;5;28;01mif\u001b[39;00m \u001b[43misPrime\u001b[49m\u001b[43m(\u001b[49m\u001b[43mnumber\u001b[49m\u001b[43m,\u001b[49m\u001b[43m \u001b[49m\u001b[43mrandfunc\u001b[49m\u001b[38;5;241;43m=\u001b[39;49m\u001b[43mrandfunc\u001b[49m\u001b[43m)\u001b[49m:\n\u001b[0;32m    181\u001b[0m         \u001b[38;5;28;01mbreak\u001b[39;00m\n\u001b[0;32m    182\u001b[0m \u001b[38;5;28;01mreturn\u001b[39;00m number\n",
      "File \u001b[1;32m~\\AppData\\Local\\Packages\\PythonSoftwareFoundation.Python.3.11_qbz5n2kfra8p0\\LocalCache\\local-packages\\Python311\\site-packages\\Crypto\\Util\\number.py:399\u001b[0m, in \u001b[0;36misPrime\u001b[1;34m(N, false_positive_prob, randfunc)\u001b[0m\n\u001b[0;32m    396\u001b[0m         \u001b[38;5;28;01mreturn\u001b[39;00m \u001b[38;5;28;01mFalse\u001b[39;00m\n\u001b[0;32m    398\u001b[0m rounds \u001b[38;5;241m=\u001b[39m \u001b[38;5;28mint\u001b[39m(math\u001b[38;5;241m.\u001b[39mceil(\u001b[38;5;241m-\u001b[39mmath\u001b[38;5;241m.\u001b[39mlog(false_positive_prob)\u001b[38;5;241m/\u001b[39mmath\u001b[38;5;241m.\u001b[39mlog(\u001b[38;5;241m4\u001b[39m)))\n\u001b[1;32m--> 399\u001b[0m \u001b[38;5;28;01mreturn\u001b[39;00m \u001b[38;5;28mbool\u001b[39m(\u001b[43m_rabinMillerTest\u001b[49m\u001b[43m(\u001b[49m\u001b[43mN\u001b[49m\u001b[43m,\u001b[49m\u001b[43m \u001b[49m\u001b[43mrounds\u001b[49m\u001b[43m,\u001b[49m\u001b[43m \u001b[49m\u001b[43mrandfunc\u001b[49m\u001b[43m)\u001b[49m)\n",
      "File \u001b[1;32m~\\AppData\\Local\\Packages\\PythonSoftwareFoundation.Python.3.11_qbz5n2kfra8p0\\LocalCache\\local-packages\\Python311\\site-packages\\Crypto\\Util\\number.py:222\u001b[0m, in \u001b[0;36m_rabinMillerTest\u001b[1;34m(n, rounds, randfunc)\u001b[0m\n\u001b[0;32m    220\u001b[0m     \u001b[38;5;28;01mcontinue\u001b[39;00m\n\u001b[0;32m    221\u001b[0m composite \u001b[38;5;241m=\u001b[39m \u001b[38;5;241m1\u001b[39m\n\u001b[1;32m--> 222\u001b[0m \u001b[38;5;28;01mfor\u001b[39;00m r \u001b[38;5;129;01min\u001b[39;00m iter_range(b):\n\u001b[0;32m    223\u001b[0m     z \u001b[38;5;241m=\u001b[39m (z \u001b[38;5;241m*\u001b[39m z) \u001b[38;5;241m%\u001b[39m n\n\u001b[0;32m    224\u001b[0m     \u001b[38;5;28;01mif\u001b[39;00m z \u001b[38;5;241m==\u001b[39m \u001b[38;5;241m1\u001b[39m:\n",
      "\u001b[1;31mKeyboardInterrupt\u001b[0m: "
     ]
    }
   ],
   "source": [
    "from Crypto.Util.number import getPrime, inverse, bytes_to_long\n",
    "import random\n",
    "ciphertext = 89803088766184382272871884109871495701388843252114840505743824597906887840522452936132568066070808496499220685434410389090320244193966221109871110796570262179422841464680277846211856256590523040705429951530920102836977946094609815855842662555910581088796305688255525629317593682297410824066615403806694928123441296472937980460096609675895520759263789481406410585438810544127232230509188191268212844051991703758571682579785294995949129404162978501083577557766549678245034325660545100034742385350821878208879306725982567444908980314689300930946751737230662279016285841713555875287774578289993848823046662256049160186388583647907308218350496533642755097409549868408360256702708320891891303853115711144861261480861041349674807617532363804124001981272849459436828294436791757274640390847177041417464346762192690857965415203187496301421172132469137871367912190600163705207914180778866403591399918327801821415699797288587590027431280288619189457778119359044443153895846657056771084625803378640047556258886564400718832093123892684752255239551503835566821621109371628634546847391712396254183516782538141384370743870046083857195383433397127113770521559646589917476545032894486097332535612479207780385706948500700208407522282468625094529490076\n",
    "(n, e) = (407220670772143705040760787353324739256673996527544600947565824297128268781905377672868224108250880339429188228016306649717937148979088069445930831526401296569074322332478780552267713495399777712204389603662538157103543443649895304880685299004532538808117694185680718146347672634967903901394834899871069447822725972951803653971728895763980603634249037854380115820620814283572236189605479829988548314448882249287764977516366361189766112241032933064973893290594960343527680341845559393319367911246839305713591256850826391757864251157228689981266739439353547239244712602962172358311481173594935168046727256864229542362444106215190357270989261448679440471697180388784736424414598660808595468280716368863605381014593108922532402742786762563189951122167027850333527269896784013044557604862965549282482836276296081887751741578983720962768771241539488953537678231031451238102671599032902165960881130106666601642163888424978986745755486495652479581040961031917851793917548922614548862809786454497189016497128454973705170226943522825182150737817636500452594512906394640782355416766288231690062488620480042254242417672536462292566465160944350009825816466904217979111351239805393237821175138072844082192467831551140665946522259637048820288459139, 65537)\n",
    "p = 0\n",
    "q = 0\n",
    "while True:\n",
    "    p = getPrime(2048)\n",
    "    if n % p == 0:\n",
    "        q = n / p\n",
    "        break\n",
    "    "
   ]
  },
  {
   "cell_type": "code",
   "execution_count": null,
   "metadata": {},
   "outputs": [],
   "source": [
    "import os\n",
    "from functools import reduce\n",
    "from operator import mul\n",
    "import secrets\n",
    "from Crypto.Util.number import isPrime as is_prime\n",
    "\n",
    "\n",
    "class LCG:\n",
    "    def __init__(self, bits, a=None, c=None, seed=None):\n",
    "        self.seed = seed\n",
    "        if self.seed is None: self.seed = secrets.randbits(bits) | 1\n",
    "        self.a = a\n",
    "        if self.a is None: self.a = secrets.randbits(bits) | 1\n",
    "        self.c = c\n",
    "        if self.c is None: self.c = secrets.randbits(bits)\n",
    "        self.bits = bits\n",
    "        self.m = 2**bits\n",
    "\n",
    "    def next(self):\n",
    "        self.seed = (self.seed * self.a + self.c) % self.m\n",
    "        return self.seed\n",
    "\n",
    "    def __repr__(self):\n",
    "        return f'LCG(bits={self.bits}, a={self.a}, c={self.c})'\n",
    "\n",
    "\n",
    "def get_prime(lcg, bits):\n",
    "    while True:\n",
    "        p = 0\n",
    "        for i in range(bits//lcg.bits):\n",
    "            p <<= lcg.bits\n",
    "            p |= lcg.next()\n",
    "\n",
    "        if p.bit_length() != bits: continue\n",
    "        if not is_prime(p): continue\n",
    "\n",
    "        return p\n",
    "\n",
    "\n",
    "if __name__ == '__main__':\n",
    "    # FLAG = os.environb.get(b'FLAG', b'hkcert24{***REDACTED***}')\n",
    "    FLAG = os.environ.get('FLAG', 'hkcert24{***REDACTED***}').encode()\n",
    "\n",
    "    seed = secrets.randbits(16) | 1\n",
    "    print(seed)\n",
    "    lcg = LCG(bits=128, seed=seed)\n",
    "\n",
    "    print(f'{lcg = }')\n",
    "\n",
    "    ps = [get_prime(lcg, bits=1024) for _ in range(4)]\n",
    "    n = reduce(mul, ps)\n",
    "    e = 0x10001\n",
    "\n",
    "    m = int.from_bytes(FLAG, 'big')\n",
    "    c = pow(m, e, n)\n",
    "\n",
    "    print(f'{n = }')\n",
    "    print(f'{e = }')\n",
    "    print(f'{c = }')\n"
   ]
  }
 ],
 "metadata": {
  "kernelspec": {
   "display_name": "Python 3",
   "language": "python",
   "name": "python3"
  },
  "language_info": {
   "codemirror_mode": {
    "name": "ipython",
    "version": 3
   },
   "file_extension": ".py",
   "mimetype": "text/x-python",
   "name": "python",
   "nbconvert_exporter": "python",
   "pygments_lexer": "ipython3",
   "version": "3.11.9"
  }
 },
 "nbformat": 4,
 "nbformat_minor": 2
}
