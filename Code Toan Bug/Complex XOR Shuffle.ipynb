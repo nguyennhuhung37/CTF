{
 "cells": [
  {
   "cell_type": "code",
   "execution_count": null,
   "metadata": {},
   "outputs": [],
   "source": [
    "def complex_xor_shuffle_encrypt(plaintext, key, output_file):\n",
    "    key_len = len(key)\n",
    "    encrypted = [\n",
    "        chr(ord(char) ^ ord(key[i % key_len]))\n",
    "        for i, char in enumerate(plaintext)\n",
    "    ]\n",
    "    ciphertext = ''.join(encrypted[::-1])\n",
    "    \n",
    "    with open(output_file, \"w\") as f:\n",
    "        f.write(ciphertext)\n",
    "    print(f\"Ciphertext has been written to {output_file}\")\n",
    "\n",
    "flag = \"CTB{fake_flag}\"\n",
    "key = \"./key.txt\"\n",
    "output_file = \"encrypted_flag.txt\"\n",
    "\n",
    "complex_xor_shuffle_encrypt(flag, key, output_file)\n"
   ]
  },
  {
   "cell_type": "code",
   "execution_count": 8,
   "metadata": {},
   "outputs": [],
   "source": [
    "def complex_xor_shuffle_decrypt(output_file, key):\n",
    "    with open(output_file, \"r\") as f:\n",
    "        ciphertext = f.read()\n",
    "    encrypted = ''.join(ciphertext[::-1])\n",
    "    key_len = len(key)\n",
    "\n",
    "    decrypted = [\n",
    "        chr(ord(char) ^ ord(key[i % key_len]))\n",
    "        for i, char in enumerate(encrypted)\n",
    "    ]\n",
    "    plaintext = ''.join(decrypted)\n",
    "    \n",
    "    print(plaintext)"
   ]
  },
  {
   "cell_type": "code",
   "execution_count": 9,
   "metadata": {},
   "outputs": [
    {
     "name": "stdout",
     "output_type": "stream",
     "text": [
      "CTB{ComplexXHRDontStudyxoragainoahaveryverybasic}\n"
     ]
    }
   ],
   "source": [
    "output_file = \"encrypted_flag.txt\"\n",
    "key = \"SecretHowCanBYpassYOUCanNot\"\n",
    "complex_xor_shuffle_decrypt(output_file, key)"
   ]
  },
  {
   "cell_type": "code",
   "execution_count": null,
   "metadata": {},
   "outputs": [],
   "source": [
    "flag = \"CTB{ComplexXORDontStudyxoragainhahaveryverybasic}\""
   ]
  }
 ],
 "metadata": {
  "kernelspec": {
   "display_name": "Python 3",
   "language": "python",
   "name": "python3"
  },
  "language_info": {
   "codemirror_mode": {
    "name": "ipython",
    "version": 3
   },
   "file_extension": ".py",
   "mimetype": "text/x-python",
   "name": "python",
   "nbconvert_exporter": "python",
   "pygments_lexer": "ipython3",
   "version": "3.11.9"
  }
 },
 "nbformat": 4,
 "nbformat_minor": 2
}
