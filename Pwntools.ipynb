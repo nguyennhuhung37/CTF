{
 "cells": [
  {
   "cell_type": "code",
   "execution_count": null,
   "metadata": {},
   "outputs": [],
   "source": [
    "from pwn import *\n",
    "\n",
    "context.log_level='critical'\n",
    "p = remote(\"titan.picoctf.net\", 50249)\n",
    "\n",
    "p.recvuntil(b\"decrypt.\")\n",
    "\n",
    "with open(r\"C:\\Users\\Admin\\Downloads\\password.enc\") as file:\n",
    "    c = int(file.read())\n",
    "\n",
    "p.sendline(b\"E\")\n",
    "p.recvuntil(b\"keysize): \")\n",
    "p.sendline(b\"\\x02\")\n",
    "p.recvuntil(b\"mod n) \")\n",
    "\n",
    "c_a = int(p.recvline())\n",
    "\n",
    "p.sendline(b\"D\")\n",
    "p.recvuntil(b\"decrypt: \")\n",
    "p.sendline(str(c_a*c).encode())\n",
    "p.recvuntil(b\"mod n): \")\n",
    "\n",
    "password = int(p.recvline(), 16) // 2\n",
    "password = password.to_bytes(len(str(password))-7, \"big\").decode(\"utf-8\")\n",
    "print(password)\n"
   ]
  },
  {
   "cell_type": "code",
   "execution_count": 21,
   "metadata": {},
   "outputs": [
    {
     "name": "stdout",
     "output_type": "stream",
     "text": [
      "******************Welcome to our OTP implementation!******************\n",
      "\n",
      "This is the encrypted flag!\n",
      "\n",
      "51466d4e5f575538195551416e4f5300413f1b5008684d5504384157046e4959\n",
      "\n",
      "\n",
      "\n"
     ]
    }
   ],
   "source": [
    "from pwn import *\n",
    "\n",
    "context.log_level = 'critical'\n",
    "\n",
    "# Kết nối đến máy chủ\n",
    "p = remote(\"mercury.picoctf.net\", 64260)\n",
    "\n",
    "# Nhận và in từng dòng từ máy chủ\n",
    "while True:\n",
    "    message = p.recvline(timeout=7)  # Đặt timeout để tránh vòng lặp vô tận\n",
    "    if not message:  # Dừng lại nếu không nhận thêm được dữ liệu nào\n",
    "        break\n",
    "    print(message.decode())\n"
   ]
  },
  {
   "cell_type": "code",
   "execution_count": 27,
   "metadata": {},
   "outputs": [
    {
     "name": "stdout",
     "output_type": "stream",
     "text": [
      "aaaaaaaaaaaaaaaaaaaaaaaaaaaaaaaa\n"
     ]
    }
   ],
   "source": [
    "print('a' * 32)\n"
   ]
  }
 ],
 "metadata": {
  "kernelspec": {
   "display_name": "Python 3",
   "language": "python",
   "name": "python3"
  },
  "language_info": {
   "codemirror_mode": {
    "name": "ipython",
    "version": 3
   },
   "file_extension": ".py",
   "mimetype": "text/x-python",
   "name": "python",
   "nbconvert_exporter": "python",
   "pygments_lexer": "ipython3",
   "version": "3.11.9"
  }
 },
 "nbformat": 4,
 "nbformat_minor": 2
}
