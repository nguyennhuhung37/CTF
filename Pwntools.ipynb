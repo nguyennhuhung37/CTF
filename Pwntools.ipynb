{
 "cells": [
  {
   "cell_type": "code",
   "execution_count": 27,
   "metadata": {},
   "outputs": [],
   "source": [
    "def otp(p, k):\n",
    "    k_r = (k * ((len(p) // len(k)) + 1))[:len(p)]\n",
    "    return bytes([p ^ k for p, k in zip(p, k_r)])\n",
    "\n",
    "def decrypt_check_cat_box(c_ciphertext, cat_state):\n",
    "    c = bytearray(c_ciphertext)\n",
    "    if cat_state == 1:\n",
    "        for i in range(len(c)):\n",
    "            c[i] = ((c[i] >> 1) & 0xFF) ^ 0xAC\n",
    "    else:\n",
    "        for i in range(len(c)):\n",
    "            c[i] = ((c[i] << 1) | (c[i] << 7)) & 0xFF\n",
    "            c[i] ^= 0xCA\n",
    "    return bytes(c)"
   ]
  },
  {
   "cell_type": "code",
   "execution_count": null,
   "metadata": {},
   "outputs": [],
   "source": [
    "from pwn import *\n",
    "\n",
    "context.log_level = 'critical'\n",
    "p = remote(\"pad.ctf.intigriti.io\", 1348)\n",
    "p.recvuntil(b': ')\n",
    "encrypted_data = p.recvline()\n",
    "print(encrypted_data)\n",
    "p.recvuntil(b'?')\n",
    "payload = \"a\"*160\n",
    "p.send(payload.encode())\n",
    "p.recvuntil(b'state=')\n",
    "state_str = p.recvuntil(b': ')[:-3]\n",
    "state = 1 if state_str == \"alive\" else 0\n",
    "print(state)\n",
    "c_ciphertext = p.recvline().strip()\n",
    "print(c_ciphertext)\n",
    "# ciphertext = decrypt_check_cat_box(c_ciphertext, state)\n",
    "# key = otp(payload, ciphertext)\n",
    "# plaintext = otp(encrypted_data, key)\n",
    "# print(plaintext)"
   ]
  },
  {
   "cell_type": "code",
   "execution_count": null,
   "metadata": {},
   "outputs": [
    {
     "ename": "UnicodeDecodeError",
     "evalue": "'ascii' codec can't decode byte 0xeb in position 1: ordinal not in range(128)",
     "output_type": "error",
     "traceback": [
      "\u001b[1;31m---------------------------------------------------------------------------\u001b[0m",
      "\u001b[1;31mUnicodeDecodeError\u001b[0m                        Traceback (most recent call last)",
      "Cell \u001b[1;32mIn[39], line 4\u001b[0m\n\u001b[0;32m      2\u001b[0m key \u001b[38;5;241m=\u001b[39m otp(payload\u001b[38;5;241m.\u001b[39mencode(), ciphertext)\n\u001b[0;32m      3\u001b[0m plaintext \u001b[38;5;241m=\u001b[39m otp(encrypted_data, key)\n\u001b[1;32m----> 4\u001b[0m \u001b[38;5;28mprint\u001b[39m(\u001b[43mplaintext\u001b[49m\u001b[38;5;241;43m.\u001b[39;49m\u001b[43mdecode\u001b[49m\u001b[43m(\u001b[49m\u001b[38;5;124;43m'\u001b[39;49m\u001b[38;5;124;43mascii\u001b[39;49m\u001b[38;5;124;43m'\u001b[39;49m\u001b[43m)\u001b[49m)\n",
      "\u001b[1;31mUnicodeDecodeError\u001b[0m: 'ascii' codec can't decode byte 0xeb in position 1: ordinal not in range(128)"
     ]
    }
   ],
   "source": [
    "ciphertext = decrypt_check_cat_box(c_ciphertext, state)\n",
    "key = otp(payload.encode(), ciphertext)\n",
    "plaintext = otp(encrypted_data, key)\n",
    "print(plaintext.decode('ascii'))"
   ]
  },
  {
   "cell_type": "code",
   "execution_count": null,
   "metadata": {},
   "outputs": [
    {
     "name": "stdout",
     "output_type": "stream",
     "text": [
      "******************Welcome to our OTP implementation!******************\n",
      "\n",
      "This is the encrypted flag!\n",
      "\n",
      "51466d4e5f575538195551416e4f5300413f1b5008684d5504384157046e4959\n",
      "\n",
      "\n",
      "\n"
     ]
    },
    {
     "ename": "",
     "evalue": "",
     "output_type": "error",
     "traceback": [
      "\u001b[1;31mThe Kernel crashed while executing code in the current cell or a previous cell. \n",
      "\u001b[1;31mPlease review the code in the cell(s) to identify a possible cause of the failure. \n",
      "\u001b[1;31mClick <a href='https://aka.ms/vscodeJupyterKernelCrash'>here</a> for more info. \n",
      "\u001b[1;31mView Jupyter <a href='command:jupyter.viewOutput'>log</a> for further details."
     ]
    }
   ],
   "source": [
    "from pwn import *\n",
    "\n",
    "context.log_level = 'critical'\n",
    "\n",
    "# Kết nối đến máy chủ\n",
    "p = remote(\"mercury.picoctf.net\", 64260)\n",
    "\n",
    "# Nhận và in từng dòng từ máy chủ\n",
    "while True:\n",
    "    message = p.recvline(timeout=7)  # Đặt timeout để tránh vòng lặp vô tận\n",
    "    if not message:  # Dừng lại nếu không nhận thêm được dữ liệu nào\n",
    "        break\n",
    "    print(message.decode())\n"
   ]
  },
  {
   "cell_type": "code",
   "execution_count": null,
   "metadata": {},
   "outputs": [
    {
     "name": "stdout",
     "output_type": "stream",
     "text": [
      "b'Enter password: '\n",
      "b'Correct Password!\\r\\nAre you sure you are admin? o.O\\r\\n'\n"
     ]
    }
   ],
   "source": [
    "from pwn import *\n",
    "\n",
    "p = remote(\"babyflow.ctf.intigriti.io\", 1331)\n",
    "\n",
    "print(p.recv())  # Enter password: \n",
    "p.sendline(b\"SuPeRsEcUrEPaSsWoRd123\")  # Gửi mật khẩu\n",
    "\n",
    "# # Kiểm tra kết quả\n",
    "print(p.recv())  # Correct Password! hoặc Incorrect Password!\n",
    "\n",
    "\n"
   ]
  },
  {
   "cell_type": "code",
   "execution_count": 35,
   "metadata": {},
   "outputs": [
    {
     "name": "stdout",
     "output_type": "stream",
     "text": [
      "50476534522192009119719133967944617423751380479208495976389373842869763042113\n"
     ]
    }
   ],
   "source": [
    "import binascii\n",
    "from Crypto.Util.number import bytes_to_long, long_to_bytes\n",
    "cipher_text = \"6f98b4c326a84dbd2538f5d57b5e9ac067fac27976b529e3398c1806a9fdeb41\"\n",
    "cipher = int(cipher_text, 16)\n",
    "print(cipher)"
   ]
  },
  {
   "cell_type": "code",
   "execution_count": 34,
   "metadata": {},
   "outputs": [
    {
     "name": "stdout",
     "output_type": "stream",
     "text": [
      "\n",
      "\t\t      .\n",
      "\n",
      "\t\t      |\n",
      "\t     .               /\n",
      "\t      \\       I\n",
      "\t\t\t  /\n",
      "\t\t\\  ,g88R_\n",
      "\t\t  d888(`  ).                   _\n",
      "\t -  --==  888(     ).=--           .+(`  )`.\n",
      "\t)         Y8P(       '`.          :(   .    )\n",
      "\t\t.+(`(      .   )     .--  `.  (    ) )\n",
      "\t       ((    (..__.:'-'   .=(   )   ` _`  ) )\n",
      "\t`.     `(       ) )       (   .  )     (   )  ._\n",
      "\t  )      ` __.:'   )     (   (   ))     `-'.:(`  )\n",
      "\t)  )  ( )       --'       `- __.'         :(      ))\n",
      "\t.-'  (_.'          .')                    `(    )  ))\n",
      "\t\t\t  (_  )                     ` __.:'\n",
      "\n",
      "\t--..,___.--,--'`,---..-.--+--.,,-,,..._.--..-._.-a:f--.\n",
      "\n",
      "\n",
      "I love cloud watching, so I made a place to store all my notes about them.\n",
      "0\n",
      "0e74f075b1b93aa70e74f075b1b93aa70e74f075b1b93aa70e74f075b1b93aa7\n",
      "6538993731833486273539805286685485485591008013246947191175296955887426026151\n"
     ]
    }
   ],
   "source": [
    "from pwn import *\n",
    "\n",
    "context.log_level = 'critical'\n",
    "\n",
    "p = remote(\"mercury.picoctf.net\", 54842 )\n",
    "print(p.recvuntil(b'them.').decode())\n",
    "msg = b'a' * 64\n",
    "k = 0\n",
    "while k < 256:\n",
    "    print(k)\n",
    "    p.recvuntil(b'tion?')\n",
    "    p.send(b'1\\n')\n",
    "    p.recvuntil(b'encrypt:')\n",
    "    p.send((msg + b'\\n'))\n",
    "    p.recvuntil(b'tion?')\n",
    "    p.send(b'2\\n')\n",
    "    p.recvuntil(b'read?')\n",
    "    p.send(str(k+1).encode() + b'\\n')\n",
    "    hex_str = p.recvline().decode()[1:-1]\n",
    "    print(hex_str)\n",
    "    c = int(hex_str, 16)\n",
    "    print(c)\n",
    "    break\n",
    "    if c ^ cipher ^ (1 << k) != 0:\n",
    "        msg_int = bytes_to_long(msg)\n",
    "        msg_int ^= 1 << k\n",
    "        msg = long_to_bytes(msg_int)\n",
    "    k += 1\n",
    "# print(msg)\n",
    "# p.recvuntil(b'tion?')\n",
    "# p.send(b'1\\n')\n",
    "# p.recvuntil(b'encrypt:')\n",
    "# p.send((msg + b'\\n'))\n",
    "# p.recvuntil(b'tion?')\n",
    "# p.send(b'2\\n')\n",
    "# p.recvuntil(b'read?')\n",
    "# p.send(str(k+1).encode() + b'\\n')\n",
    "# print(p.recvline().decode())\n",
    "    \n"
   ]
  },
  {
   "cell_type": "code",
   "execution_count": null,
   "metadata": {},
   "outputs": [
    {
     "data": {
      "text/plain": [
       "64"
      ]
     },
     "execution_count": 7,
     "metadata": {},
     "output_type": "execute_result"
    }
   ],
   "source": [
    "len(\"6f98b4c326a84dbd2538f5d57b5e9ac067fac27976b529e3398c1806a9fdeb41\")\n",
    "len(\"d236f413a7488209d236f413a7488209d236f413a7488209d236f413a7488209\")"
   ]
  },
  {
   "cell_type": "code",
   "execution_count": 15,
   "metadata": {},
   "outputs": [
    {
     "name": "stdout",
     "output_type": "stream",
     "text": [
      "0000000000000000000000000000000000000000000000000000000000000000\n"
     ]
    }
   ],
   "source": [
    "print('0' * 64)"
   ]
  }
 ],
 "metadata": {
  "kernelspec": {
   "display_name": "Python 3",
   "language": "python",
   "name": "python3"
  },
  "language_info": {
   "codemirror_mode": {
    "name": "ipython",
    "version": 3
   },
   "file_extension": ".py",
   "mimetype": "text/x-python",
   "name": "python",
   "nbconvert_exporter": "python",
   "pygments_lexer": "ipython3",
   "version": "3.11.9"
  }
 },
 "nbformat": 4,
 "nbformat_minor": 2
}
