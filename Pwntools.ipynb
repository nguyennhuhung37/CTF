{
 "cells": [
  {
   "cell_type": "code",
   "execution_count": 25,
   "metadata": {},
   "outputs": [],
   "source": [
    "def otp(p, k):\n",
    "    k_r = (k * ((len(p) // len(k)) + 1))[:len(p)]\n",
    "    return bytes([p ^ k for p, k in zip(p, k_r)])\n",
    "\n",
    "def decrypt_check_cat_box(c_ciphertext, cat_state):\n",
    "    c = bytearray(c_ciphertext)\n",
    "    if cat_state == 1:\n",
    "        for i in range(len(c)):\n",
    "            c[i] = ((c[i] >> 1) & 0xFF) ^ 0xAC\n",
    "    else:\n",
    "        for i in range(len(c)):\n",
    "            c[i] = ((c[i] << 1) | (c[i] << 7)) & 0xFF\n",
    "            c[i] ^= 0xCA\n",
    "    return bytes(c)"
   ]
  },
  {
   "cell_type": "code",
   "execution_count": null,
   "metadata": {},
   "outputs": [
    {
     "name": "stdout",
     "output_type": "stream",
     "text": [
      "b'30250621262e5806001505440477563706731f1916081923402b062d003e5111595d3454457076647a75230a03791027760c0325711b10780872385e184f2e24122e300b43132f034a2b770d0855152327531e707c326419195a11390544227e6b5f304a5e30457629592d22720034140b761c204d3a09587d086e1131072b3e32241b26015e011e4e4a0e0e52481d2c1537573b722d3c230c15481459080c6f\\n'\n",
      "0\n",
      "b'a8e2b2c8fcfa0cbea08e80a880c004c28ac8828002bc1cca04fabedc84c88c880e08ce9ea41c1e0e080a8ce8c00eb8e8e41ea09aecbcf0f6a6e8f2b4a4b0e2f482fac4a4b008e0aa1ef0c09ca08488fafc000ece04ece68eb49a8ec4b60ae0caf80eeaba02cc02c2f01edce0caaacc8ca4c2b0ce1ec6029e06a2f2aae680f2f6eaf8bef08400b28eaaba9aa200be9af49eca8efecae8dcc4bca0be8e02a2bcec'\n"
     ]
    }
   ],
   "source": [
    "from pwn import *\n",
    "\n",
    "context.log_level = 'critical'\n",
    "p = remote(\"pad.ctf.intigriti.io\", 1348)\n",
    "p.recvuntil(b': ')\n",
    "encrypted_data = p.recvline()\n",
    "print(encrypted_data)\n",
    "p.recvuntil(b'?')\n",
    "payload = \"a\"*160\n",
    "p.send(payload.encode())\n",
    "p.recvuntil(b'state=')\n",
    "state_str = p.recvuntil(b': ')[:-3]\n",
    "state = 1 if state_str == \"alive\" else 0\n",
    "print(state)\n",
    "c_ciphertext = p.recvline().strip()\n",
    "print(c_ciphertext)\n",
    "# ciphertext = decrypt_check_cat_box(c_ciphertext, state)\n",
    "# key = otp(payload, ciphertext)\n",
    "# plaintext = otp(encrypted_data, key)\n",
    "# print(plaintext)"
   ]
  },
  {
   "cell_type": "code",
   "execution_count": 39,
   "metadata": {},
   "outputs": [
    {
     "ename": "UnicodeDecodeError",
     "evalue": "'ascii' codec can't decode byte 0xeb in position 1: ordinal not in range(128)",
     "output_type": "error",
     "traceback": [
      "\u001b[1;31m---------------------------------------------------------------------------\u001b[0m",
      "\u001b[1;31mUnicodeDecodeError\u001b[0m                        Traceback (most recent call last)",
      "Cell \u001b[1;32mIn[39], line 4\u001b[0m\n\u001b[0;32m      2\u001b[0m key \u001b[38;5;241m=\u001b[39m otp(payload\u001b[38;5;241m.\u001b[39mencode(), ciphertext)\n\u001b[0;32m      3\u001b[0m plaintext \u001b[38;5;241m=\u001b[39m otp(encrypted_data, key)\n\u001b[1;32m----> 4\u001b[0m \u001b[38;5;28mprint\u001b[39m(\u001b[43mplaintext\u001b[49m\u001b[38;5;241;43m.\u001b[39;49m\u001b[43mdecode\u001b[49m\u001b[43m(\u001b[49m\u001b[38;5;124;43m'\u001b[39;49m\u001b[38;5;124;43mascii\u001b[39;49m\u001b[38;5;124;43m'\u001b[39;49m\u001b[43m)\u001b[49m)\n",
      "\u001b[1;31mUnicodeDecodeError\u001b[0m: 'ascii' codec can't decode byte 0xeb in position 1: ordinal not in range(128)"
     ]
    }
   ],
   "source": [
    "ciphertext = decrypt_check_cat_box(c_ciphertext, state)\n",
    "key = otp(payload.encode(), ciphertext)\n",
    "plaintext = otp(encrypted_data, key)\n",
    "print(plaintext.decode('ascii'))"
   ]
  },
  {
   "cell_type": "code",
   "execution_count": 1,
   "metadata": {},
   "outputs": [
    {
     "name": "stdout",
     "output_type": "stream",
     "text": [
      "******************Welcome to our OTP implementation!******************\n",
      "\n",
      "This is the encrypted flag!\n",
      "\n",
      "51466d4e5f575538195551416e4f5300413f1b5008684d5504384157046e4959\n",
      "\n",
      "\n",
      "\n"
     ]
    },
    {
     "ename": "",
     "evalue": "",
     "output_type": "error",
     "traceback": [
      "\u001b[1;31mThe Kernel crashed while executing code in the current cell or a previous cell. \n",
      "\u001b[1;31mPlease review the code in the cell(s) to identify a possible cause of the failure. \n",
      "\u001b[1;31mClick <a href='https://aka.ms/vscodeJupyterKernelCrash'>here</a> for more info. \n",
      "\u001b[1;31mView Jupyter <a href='command:jupyter.viewOutput'>log</a> for further details."
     ]
    }
   ],
   "source": [
    "from pwn import *\n",
    "\n",
    "context.log_level = 'critical'\n",
    "\n",
    "# Kết nối đến máy chủ\n",
    "p = remote(\"mercury.picoctf.net\", 64260)\n",
    "\n",
    "# Nhận và in từng dòng từ máy chủ\n",
    "while True:\n",
    "    message = p.recvline(timeout=7)  # Đặt timeout để tránh vòng lặp vô tận\n",
    "    if not message:  # Dừng lại nếu không nhận thêm được dữ liệu nào\n",
    "        break\n",
    "    print(message.decode())\n"
   ]
  },
  {
   "cell_type": "code",
   "execution_count": 8,
   "metadata": {},
   "outputs": [
    {
     "name": "stdout",
     "output_type": "stream",
     "text": [
      "b'Enter password: '\n",
      "b'Correct Password!\\r\\nAre you sure you are admin? o.O\\r\\n'\n"
     ]
    }
   ],
   "source": [
    "from pwn import *\n",
    "\n",
    "p = remote(\"babyflow.ctf.intigriti.io\", 1331)\n",
    "\n",
    "print(p.recv())  # Enter password: \n",
    "p.sendline(b\"SuPeRsEcUrEPaSsWoRd123\")  # Gửi mật khẩu\n",
    "\n",
    "# # Kiểm tra kết quả\n",
    "print(p.recv())  # Correct Password! hoặc Incorrect Password!\n",
    "\n",
    "\n"
   ]
  }
 ],
 "metadata": {
  "kernelspec": {
   "display_name": "Python 3",
   "language": "python",
   "name": "python3"
  },
  "language_info": {
   "codemirror_mode": {
    "name": "ipython",
    "version": 3
   },
   "file_extension": ".py",
   "mimetype": "text/x-python",
   "name": "python",
   "nbconvert_exporter": "python",
   "pygments_lexer": "ipython3",
   "version": "3.11.9"
  }
 },
 "nbformat": 4,
 "nbformat_minor": 2
}
