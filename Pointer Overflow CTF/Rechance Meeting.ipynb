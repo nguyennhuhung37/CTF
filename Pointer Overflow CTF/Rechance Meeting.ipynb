{
 "cells": [
  {
   "cell_type": "code",
   "execution_count": 6,
   "metadata": {},
   "outputs": [
    {
     "name": "stdout",
     "output_type": "stream",
     "text": [
      "Hash value: 412739222\n"
     ]
    }
   ],
   "source": [
    "import hashlib\n",
    "\n",
    "def custom_hash(input_str):\n",
    "    sha256_hash = hashlib.sha256(input_str.encode()).hexdigest()\n",
    "    md5_hash = hashlib.md5(input_str.encode()).hexdigest()\n",
    "    \n",
    "    combined_hash = sha256_hash + md5_hash\n",
    "    \n",
    "    hash_value1 = 0\n",
    "    hash_value2 = 0\n",
    "    hash_value3 = 0\n",
    "    \n",
    "    primes = [31, 37, 41, 43, 47, 53, 59, 61, 67, 71, 73, 79, 83, 89, 97, 101, 103, 107, 109, 113]\n",
    "    \n",
    "    for i, char in enumerate(combined_hash):\n",
    "        hash_value1 += (i + 1) * ord(char) * primes[i % len(primes)]\n",
    "        hash_value1 ^= (ord(char) << (i % 8))\n",
    "        hash_value1 += (ord(char) ** 3) * primes[(i + 1) % len(primes)]\n",
    "        hash_value1 ^= (ord(char) * 53) * (i + 1) * primes[(i + 2) % len(primes)]\n",
    "        \n",
    "        hash_value2 += (i + 1) * ord(char) * primes[(i + 3) % len(primes)]\n",
    "        hash_value2 ^= (ord(char) << ((i + 3) % 8))\n",
    "        hash_value2 += (ord(char) ** 2) * primes[(i + 4) % len(primes)]\n",
    "        hash_value2 ^= (ord(char) * 29) * (i + 2) * primes[(i + 5) % len(primes)]\n",
    "        \n",
    "        hash_value3 += (i + 1) * ord(char) * primes[(i + 5) % len(primes)]\n",
    "        hash_value3 ^= (ord(char) << ((i + 6) % 8))\n",
    "        hash_value3 += (ord(char) ** 4) * primes[(i + 7) % len(primes)]\n",
    "        hash_value3 ^= (ord(char) * 19) * (i + 3) * primes[(i + 8) % len(primes)]\n",
    "    \n",
    "    combined_hash_value = (hash_value1 + hash_value2 + hash_value3) * 31\n",
    "    combined_hash_value ^= (combined_hash_value << 13)\n",
    "    combined_hash_value += (combined_hash_value >> 17)\n",
    "    combined_hash_value ^= (combined_hash_value << 5)\n",
    "    \n",
    "    return combined_hash_value % 999999937\n",
    "\n",
    "def derive_key(input1, input2):\n",
    "    combined = input1 + input2\n",
    "    key = hashlib.sha256(combined.encode()).hexdigest()\n",
    "    return key\n",
    "\n",
    "if __name__ == \"__main__\":\n",
    "    import sys\n",
    "    if len(sys.argv) != 2:\n",
    "        print(\"Usage: python Crack200-2_hashfunc.py <input_string>\")\n",
    "        sys.exit(1)\n",
    "    input_str = sys.argv[1]\n",
    "    print(f\"Hash value: {custom_hash(input_str)}\")"
   ]
  }
 ],
 "metadata": {
  "kernelspec": {
   "display_name": "Python 3",
   "language": "python",
   "name": "python3"
  },
  "language_info": {
   "codemirror_mode": {
    "name": "ipython",
    "version": 3
   },
   "file_extension": ".py",
   "mimetype": "text/x-python",
   "name": "python",
   "nbconvert_exporter": "python",
   "pygments_lexer": "ipython3",
   "version": "3.11.9"
  }
 },
 "nbformat": 4,
 "nbformat_minor": 2
}
