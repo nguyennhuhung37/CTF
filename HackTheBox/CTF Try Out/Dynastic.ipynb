{
 "cells": [
  {
   "cell_type": "code",
   "execution_count": 6,
   "metadata": {},
   "outputs": [],
   "source": [
    "# from secret import FLAG\n",
    "from random import randint\n",
    "\n",
    "def to_identity_map(a):\n",
    "    return ord(a) - 0x41\n",
    "\n",
    "def from_identity_map(a):\n",
    "    return chr(a % 26 + 0x41)\n",
    "\n",
    "def encrypt(m):\n",
    "    c = ''\n",
    "    for i in range(len(m)):\n",
    "        ch = m[i]\n",
    "        if not ch.isalpha():\n",
    "            ech = ch\n",
    "        else:\n",
    "            chi = to_identity_map(ch)\n",
    "            ech = from_identity_map(chi + i)\n",
    "        c += ech\n",
    "    return c\n",
    "\n",
    "# with open('output.txt', 'w') as f:\n",
    "#     f.write('Make sure you wrap the decrypted text with the HTB flag format :-]\\n')\n",
    "#     f.write(encrypt(FLAG))"
   ]
  },
  {
   "cell_type": "code",
   "execution_count": 2,
   "metadata": {},
   "outputs": [],
   "source": [
    "def decrypt(c):\n",
    "    m = ''\n",
    "    for i in range(len(c)):\n",
    "        ch = c[i]\n",
    "        if not ch.isalpha():\n",
    "            dech = ch  # Giữ nguyên ký tự không phải chữ cái\n",
    "        else:\n",
    "            chi = to_identity_map(ch)\n",
    "            dech = from_identity_map(chi - i)  # Trừ đi chỉ số vị trí để giải mã\n",
    "        m += dech\n",
    "    return m\n"
   ]
  },
  {
   "cell_type": "code",
   "execution_count": 7,
   "metadata": {},
   "outputs": [
    {
     "name": "stdout",
     "output_type": "stream",
     "text": [
      "DID_YOU_KNOW_ABOUT_THE_TRITHEMIUS_CIPHER?!_IT_IS_SIMILAR_TO_CAESAR_CIPHER\n"
     ]
    }
   ],
   "source": [
    "c = \"DJF_CTA_SWYH_NPDKK_MBZ_QPHTIGPMZY_KRZSQE?!_ZL_CN_PGLIMCU_YU_KJODME_RYGZXL\"\n",
    "print(decrypt(c))"
   ]
  }
 ],
 "metadata": {
  "kernelspec": {
   "display_name": "Python 3",
   "language": "python",
   "name": "python3"
  },
  "language_info": {
   "codemirror_mode": {
    "name": "ipython",
    "version": 3
   },
   "file_extension": ".py",
   "mimetype": "text/x-python",
   "name": "python",
   "nbconvert_exporter": "python",
   "pygments_lexer": "ipython3",
   "version": "3.11.9"
  }
 },
 "nbformat": 4,
 "nbformat_minor": 2
}
